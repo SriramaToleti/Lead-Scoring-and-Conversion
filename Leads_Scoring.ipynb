{
 "cells": [
  {
   "cell_type": "markdown",
   "metadata": {
    "colab_type": "text",
    "id": "_qSuBX21Seng"
   },
   "source": [
    "# Leads Scoring\n",
    "# Analysis Steps Followed and Contents\n",
    "\n",
    "## 1. Reading and understanding the data\n",
    "> ### 1.1 Checking the data properties\n",
    "> ### 1.2 Cleaning the dataset\n",
    "> ### 1.3 Outlier Treatment\n",
    "> ### 1.4 EDA Inferances\n",
    "\n",
    "## 2. Model Building\n",
    "> ### 2.1 Seperating the Dependant and Independant variables\n",
    "> ### 2.2 Train and Test Split\n",
    "> ### 2.3 Logistic Model Building\n",
    "> ### 2.4 Comparing the model output with train dataset output\n",
    "> ### 2.5 Finding Optimal cutoff Point\n",
    "> ### 2.6 Testing the model on test dataset \n",
    "\n",
    "## 3. Testing the model on test dataset \n",
    "## 4. Finding the Lead score value for conversion rate of 80%\n",
    "## 5. Conclusion\n"
   ]
  },
  {
   "cell_type": "markdown",
   "metadata": {
    "colab_type": "text",
    "id": "Lylpo__ElWtm"
   },
   "source": [
    "# 1. Reading and understanding the data"
   ]
  },
  {
   "cell_type": "code",
   "execution_count": 1,
   "metadata": {
    "colab": {},
    "colab_type": "code",
    "id": "HtT6St1gDRHl"
   },
   "outputs": [],
   "source": [
    "# Imporing all the required libraries\n",
    "import pandas as pd\n",
    "import numpy as np\n",
    "#import pandas_profiling as pp\n",
    "\n",
    "import seaborn as sns\n",
    "import matplotlib.pyplot as plt\n",
    "%matplotlib inline\n",
    "\n",
    "\n",
    "import sklearn\n",
    "from sklearn.model_selection import train_test_split\n",
    "from sklearn.preprocessing import MinMaxScaler\n",
    "from sklearn.preprocessing import StandardScaler\n",
    "from sklearn.linear_model import LogisticRegression\n",
    "from sklearn.feature_selection import RFE\n",
    "from sklearn.metrics import r2_score\n",
    "from sklearn import metrics\n",
    "from sklearn.metrics import precision_score, recall_score, precision_recall_curve\n",
    "\n",
    "from statsmodels.stats.outliers_influence import variance_inflation_factor\n",
    "import statsmodels.api as sm\n",
    "\n",
    "import warnings\n",
    "warnings.filterwarnings('ignore')\n"
   ]
  },
  {
   "cell_type": "code",
   "execution_count": 2,
   "metadata": {
    "colab": {
     "base_uri": "https://localhost:8080/",
     "height": 407
    },
    "colab_type": "code",
    "id": "jgTj6WVFDRF0",
    "outputId": "e3caeb2d-5b03-4408-b0dc-e86a121aa216"
   },
   "outputs": [
    {
     "data": {
      "text/html": [
       "<div>\n",
       "<style scoped>\n",
       "    .dataframe tbody tr th:only-of-type {\n",
       "        vertical-align: middle;\n",
       "    }\n",
       "\n",
       "    .dataframe tbody tr th {\n",
       "        vertical-align: top;\n",
       "    }\n",
       "\n",
       "    .dataframe thead th {\n",
       "        text-align: right;\n",
       "    }\n",
       "</style>\n",
       "<table border=\"1\" class=\"dataframe\">\n",
       "  <thead>\n",
       "    <tr style=\"text-align: right;\">\n",
       "      <th></th>\n",
       "      <th>Prospect ID</th>\n",
       "      <th>Lead Number</th>\n",
       "      <th>Lead Origin</th>\n",
       "      <th>Lead Source</th>\n",
       "      <th>Do Not Email</th>\n",
       "      <th>Do Not Call</th>\n",
       "      <th>Converted</th>\n",
       "      <th>TotalVisits</th>\n",
       "      <th>Total Time Spent on Website</th>\n",
       "      <th>Page Views Per Visit</th>\n",
       "      <th>...</th>\n",
       "      <th>Get updates on DM Content</th>\n",
       "      <th>Lead Profile</th>\n",
       "      <th>City</th>\n",
       "      <th>Asymmetrique Activity Index</th>\n",
       "      <th>Asymmetrique Profile Index</th>\n",
       "      <th>Asymmetrique Activity Score</th>\n",
       "      <th>Asymmetrique Profile Score</th>\n",
       "      <th>I agree to pay the amount through cheque</th>\n",
       "      <th>A free copy of Mastering The Interview</th>\n",
       "      <th>Last Notable Activity</th>\n",
       "    </tr>\n",
       "  </thead>\n",
       "  <tbody>\n",
       "    <tr>\n",
       "      <th>9237</th>\n",
       "      <td>aac550fe-a586-452d-8d3c-f1b62c94e02c</td>\n",
       "      <td>579545</td>\n",
       "      <td>Landing Page Submission</td>\n",
       "      <td>Direct Traffic</td>\n",
       "      <td>Yes</td>\n",
       "      <td>No</td>\n",
       "      <td>0</td>\n",
       "      <td>2.0</td>\n",
       "      <td>199</td>\n",
       "      <td>2.0</td>\n",
       "      <td>...</td>\n",
       "      <td>No</td>\n",
       "      <td>Potential Lead</td>\n",
       "      <td>Mumbai</td>\n",
       "      <td>02.Medium</td>\n",
       "      <td>01.High</td>\n",
       "      <td>13.0</td>\n",
       "      <td>20.0</td>\n",
       "      <td>No</td>\n",
       "      <td>Yes</td>\n",
       "      <td>SMS Sent</td>\n",
       "    </tr>\n",
       "    <tr>\n",
       "      <th>9238</th>\n",
       "      <td>5330a7d1-2f2b-4df4-85d6-64ca2f6b95b9</td>\n",
       "      <td>579538</td>\n",
       "      <td>Landing Page Submission</td>\n",
       "      <td>Google</td>\n",
       "      <td>No</td>\n",
       "      <td>No</td>\n",
       "      <td>1</td>\n",
       "      <td>3.0</td>\n",
       "      <td>499</td>\n",
       "      <td>3.0</td>\n",
       "      <td>...</td>\n",
       "      <td>No</td>\n",
       "      <td>NaN</td>\n",
       "      <td>Other Metro Cities</td>\n",
       "      <td>02.Medium</td>\n",
       "      <td>02.Medium</td>\n",
       "      <td>15.0</td>\n",
       "      <td>16.0</td>\n",
       "      <td>No</td>\n",
       "      <td>No</td>\n",
       "      <td>SMS Sent</td>\n",
       "    </tr>\n",
       "    <tr>\n",
       "      <th>9239</th>\n",
       "      <td>571b5c8e-a5b2-4d57-8574-f2ffb06fdeff</td>\n",
       "      <td>579533</td>\n",
       "      <td>Landing Page Submission</td>\n",
       "      <td>Direct Traffic</td>\n",
       "      <td>No</td>\n",
       "      <td>No</td>\n",
       "      <td>1</td>\n",
       "      <td>6.0</td>\n",
       "      <td>1279</td>\n",
       "      <td>3.0</td>\n",
       "      <td>...</td>\n",
       "      <td>No</td>\n",
       "      <td>Potential Lead</td>\n",
       "      <td>Other Cities</td>\n",
       "      <td>02.Medium</td>\n",
       "      <td>01.High</td>\n",
       "      <td>15.0</td>\n",
       "      <td>18.0</td>\n",
       "      <td>No</td>\n",
       "      <td>Yes</td>\n",
       "      <td>Modified</td>\n",
       "    </tr>\n",
       "  </tbody>\n",
       "</table>\n",
       "<p>3 rows × 37 columns</p>\n",
       "</div>"
      ],
      "text/plain": [
       "                               Prospect ID  Lead Number  \\\n",
       "9237  aac550fe-a586-452d-8d3c-f1b62c94e02c       579545   \n",
       "9238  5330a7d1-2f2b-4df4-85d6-64ca2f6b95b9       579538   \n",
       "9239  571b5c8e-a5b2-4d57-8574-f2ffb06fdeff       579533   \n",
       "\n",
       "                  Lead Origin     Lead Source Do Not Email Do Not Call  \\\n",
       "9237  Landing Page Submission  Direct Traffic          Yes          No   \n",
       "9238  Landing Page Submission          Google           No          No   \n",
       "9239  Landing Page Submission  Direct Traffic           No          No   \n",
       "\n",
       "      Converted  TotalVisits  Total Time Spent on Website  \\\n",
       "9237          0          2.0                          199   \n",
       "9238          1          3.0                          499   \n",
       "9239          1          6.0                         1279   \n",
       "\n",
       "      Page Views Per Visit  ... Get updates on DM Content    Lead Profile  \\\n",
       "9237                   2.0  ...                        No  Potential Lead   \n",
       "9238                   3.0  ...                        No             NaN   \n",
       "9239                   3.0  ...                        No  Potential Lead   \n",
       "\n",
       "                    City Asymmetrique Activity Index  \\\n",
       "9237              Mumbai                   02.Medium   \n",
       "9238  Other Metro Cities                   02.Medium   \n",
       "9239        Other Cities                   02.Medium   \n",
       "\n",
       "     Asymmetrique Profile Index Asymmetrique Activity Score  \\\n",
       "9237                    01.High                        13.0   \n",
       "9238                  02.Medium                        15.0   \n",
       "9239                    01.High                        15.0   \n",
       "\n",
       "     Asymmetrique Profile Score I agree to pay the amount through cheque  \\\n",
       "9237                       20.0                                       No   \n",
       "9238                       16.0                                       No   \n",
       "9239                       18.0                                       No   \n",
       "\n",
       "     A free copy of Mastering The Interview Last Notable Activity  \n",
       "9237                                    Yes              SMS Sent  \n",
       "9238                                     No              SMS Sent  \n",
       "9239                                    Yes              Modified  \n",
       "\n",
       "[3 rows x 37 columns]"
      ]
     },
     "execution_count": 2,
     "metadata": {},
     "output_type": "execute_result"
    }
   ],
   "source": [
    "# Reading the dataset into pandas dataframe\n",
    "leads_df = pd.read_csv('Leads.csv')\n",
    "leads_df.tail(3)"
   ]
  },
  {
   "cell_type": "markdown",
   "metadata": {
    "colab_type": "text",
    "id": "Qnj8jZkalLjF"
   },
   "source": [
    "## 1.1 Checking the data properties"
   ]
  },
  {
   "cell_type": "code",
   "execution_count": 3,
   "metadata": {
    "colab": {},
    "colab_type": "code",
    "id": "BGPm0NKcDRDH"
   },
   "outputs": [],
   "source": [
    "# Pandas profiling\n",
    "# ppReport = pp.ProfileReport(leads_df)\n",
    "# ppReport.to_file(outputfile='Leads_PPreport.html')"
   ]
  },
  {
   "cell_type": "code",
   "execution_count": 4,
   "metadata": {
    "colab": {
     "base_uri": "https://localhost:8080/",
     "height": 0
    },
    "colab_type": "code",
    "id": "vae2xixrPRA9",
    "outputId": "f12dcfd5-3501-4ef0-a204-6303ed117c4c"
   },
   "outputs": [
    {
     "name": "stdout",
     "output_type": "stream",
     "text": [
      "Number of Duplicates\n",
      "0\n",
      "*****************\n",
      "Data Frame shape (9240, 37)\n",
      "***************\n",
      "<class 'pandas.core.frame.DataFrame'>\n",
      "RangeIndex: 9240 entries, 0 to 9239\n",
      "Data columns (total 37 columns):\n",
      "Prospect ID                                      9240 non-null object\n",
      "Lead Number                                      9240 non-null int64\n",
      "Lead Origin                                      9240 non-null object\n",
      "Lead Source                                      9204 non-null object\n",
      "Do Not Email                                     9240 non-null object\n",
      "Do Not Call                                      9240 non-null object\n",
      "Converted                                        9240 non-null int64\n",
      "TotalVisits                                      9103 non-null float64\n",
      "Total Time Spent on Website                      9240 non-null int64\n",
      "Page Views Per Visit                             9103 non-null float64\n",
      "Last Activity                                    9137 non-null object\n",
      "Country                                          6779 non-null object\n",
      "Specialization                                   7802 non-null object\n",
      "How did you hear about X Education               7033 non-null object\n",
      "What is your current occupation                  6550 non-null object\n",
      "What matters most to you in choosing a course    6531 non-null object\n",
      "Search                                           9240 non-null object\n",
      "Magazine                                         9240 non-null object\n",
      "Newspaper Article                                9240 non-null object\n",
      "X Education Forums                               9240 non-null object\n",
      "Newspaper                                        9240 non-null object\n",
      "Digital Advertisement                            9240 non-null object\n",
      "Through Recommendations                          9240 non-null object\n",
      "Receive More Updates About Our Courses           9240 non-null object\n",
      "Tags                                             5887 non-null object\n",
      "Lead Quality                                     4473 non-null object\n",
      "Update me on Supply Chain Content                9240 non-null object\n",
      "Get updates on DM Content                        9240 non-null object\n",
      "Lead Profile                                     6531 non-null object\n",
      "City                                             7820 non-null object\n",
      "Asymmetrique Activity Index                      5022 non-null object\n",
      "Asymmetrique Profile Index                       5022 non-null object\n",
      "Asymmetrique Activity Score                      5022 non-null float64\n",
      "Asymmetrique Profile Score                       5022 non-null float64\n",
      "I agree to pay the amount through cheque         9240 non-null object\n",
      "A free copy of Mastering The Interview           9240 non-null object\n",
      "Last Notable Activity                            9240 non-null object\n",
      "dtypes: float64(4), int64(3), object(30)\n",
      "memory usage: 2.6+ MB\n",
      "None\n",
      "********************************************************************\n",
      "Description of numerical variables\n"
     ]
    },
    {
     "data": {
      "text/html": [
       "<div>\n",
       "<style scoped>\n",
       "    .dataframe tbody tr th:only-of-type {\n",
       "        vertical-align: middle;\n",
       "    }\n",
       "\n",
       "    .dataframe tbody tr th {\n",
       "        vertical-align: top;\n",
       "    }\n",
       "\n",
       "    .dataframe thead th {\n",
       "        text-align: right;\n",
       "    }\n",
       "</style>\n",
       "<table border=\"1\" class=\"dataframe\">\n",
       "  <thead>\n",
       "    <tr style=\"text-align: right;\">\n",
       "      <th></th>\n",
       "      <th>Lead Number</th>\n",
       "      <th>Converted</th>\n",
       "      <th>TotalVisits</th>\n",
       "      <th>Total Time Spent on Website</th>\n",
       "      <th>Page Views Per Visit</th>\n",
       "      <th>Asymmetrique Activity Score</th>\n",
       "      <th>Asymmetrique Profile Score</th>\n",
       "    </tr>\n",
       "  </thead>\n",
       "  <tbody>\n",
       "    <tr>\n",
       "      <th>count</th>\n",
       "      <td>9240.000000</td>\n",
       "      <td>9240.000000</td>\n",
       "      <td>9103.000000</td>\n",
       "      <td>9240.000000</td>\n",
       "      <td>9103.000000</td>\n",
       "      <td>5022.000000</td>\n",
       "      <td>5022.000000</td>\n",
       "    </tr>\n",
       "    <tr>\n",
       "      <th>mean</th>\n",
       "      <td>617188.435606</td>\n",
       "      <td>0.385390</td>\n",
       "      <td>3.445238</td>\n",
       "      <td>487.698268</td>\n",
       "      <td>2.362820</td>\n",
       "      <td>14.306252</td>\n",
       "      <td>16.344883</td>\n",
       "    </tr>\n",
       "    <tr>\n",
       "      <th>std</th>\n",
       "      <td>23405.995698</td>\n",
       "      <td>0.486714</td>\n",
       "      <td>4.854853</td>\n",
       "      <td>548.021466</td>\n",
       "      <td>2.161418</td>\n",
       "      <td>1.386694</td>\n",
       "      <td>1.811395</td>\n",
       "    </tr>\n",
       "    <tr>\n",
       "      <th>min</th>\n",
       "      <td>579533.000000</td>\n",
       "      <td>0.000000</td>\n",
       "      <td>0.000000</td>\n",
       "      <td>0.000000</td>\n",
       "      <td>0.000000</td>\n",
       "      <td>7.000000</td>\n",
       "      <td>11.000000</td>\n",
       "    </tr>\n",
       "    <tr>\n",
       "      <th>25%</th>\n",
       "      <td>596484.500000</td>\n",
       "      <td>0.000000</td>\n",
       "      <td>1.000000</td>\n",
       "      <td>12.000000</td>\n",
       "      <td>1.000000</td>\n",
       "      <td>14.000000</td>\n",
       "      <td>15.000000</td>\n",
       "    </tr>\n",
       "    <tr>\n",
       "      <th>50%</th>\n",
       "      <td>615479.000000</td>\n",
       "      <td>0.000000</td>\n",
       "      <td>3.000000</td>\n",
       "      <td>248.000000</td>\n",
       "      <td>2.000000</td>\n",
       "      <td>14.000000</td>\n",
       "      <td>16.000000</td>\n",
       "    </tr>\n",
       "    <tr>\n",
       "      <th>75%</th>\n",
       "      <td>637387.250000</td>\n",
       "      <td>1.000000</td>\n",
       "      <td>5.000000</td>\n",
       "      <td>936.000000</td>\n",
       "      <td>3.000000</td>\n",
       "      <td>15.000000</td>\n",
       "      <td>18.000000</td>\n",
       "    </tr>\n",
       "    <tr>\n",
       "      <th>max</th>\n",
       "      <td>660737.000000</td>\n",
       "      <td>1.000000</td>\n",
       "      <td>251.000000</td>\n",
       "      <td>2272.000000</td>\n",
       "      <td>55.000000</td>\n",
       "      <td>18.000000</td>\n",
       "      <td>20.000000</td>\n",
       "    </tr>\n",
       "  </tbody>\n",
       "</table>\n",
       "</div>"
      ],
      "text/plain": [
       "         Lead Number    Converted  TotalVisits  Total Time Spent on Website  \\\n",
       "count    9240.000000  9240.000000  9103.000000                  9240.000000   \n",
       "mean   617188.435606     0.385390     3.445238                   487.698268   \n",
       "std     23405.995698     0.486714     4.854853                   548.021466   \n",
       "min    579533.000000     0.000000     0.000000                     0.000000   \n",
       "25%    596484.500000     0.000000     1.000000                    12.000000   \n",
       "50%    615479.000000     0.000000     3.000000                   248.000000   \n",
       "75%    637387.250000     1.000000     5.000000                   936.000000   \n",
       "max    660737.000000     1.000000   251.000000                  2272.000000   \n",
       "\n",
       "       Page Views Per Visit  Asymmetrique Activity Score  \\\n",
       "count           9103.000000                  5022.000000   \n",
       "mean               2.362820                    14.306252   \n",
       "std                2.161418                     1.386694   \n",
       "min                0.000000                     7.000000   \n",
       "25%                1.000000                    14.000000   \n",
       "50%                2.000000                    14.000000   \n",
       "75%                3.000000                    15.000000   \n",
       "max               55.000000                    18.000000   \n",
       "\n",
       "       Asymmetrique Profile Score  \n",
       "count                 5022.000000  \n",
       "mean                    16.344883  \n",
       "std                      1.811395  \n",
       "min                     11.000000  \n",
       "25%                     15.000000  \n",
       "50%                     16.000000  \n",
       "75%                     18.000000  \n",
       "max                     20.000000  "
      ]
     },
     "execution_count": 4,
     "metadata": {},
     "output_type": "execute_result"
    }
   ],
   "source": [
    "# Checking for duplicate data\n",
    "print('Number of Duplicates')\n",
    "print(leads_df.duplicated().sum())\n",
    "print('*****************')\n",
    "\n",
    "# Checking the shape of dataframe\n",
    "print('Data Frame shape',leads_df.shape)\n",
    "print('***************')\n",
    "\n",
    "# Checking the datatypes of all the columns\n",
    "print(leads_df.info())\n",
    "print('********************************************************************')\n",
    "\n",
    "# Understaing the numerical variables\n",
    "print('Description of numerical variables')\n",
    "leads_df.describe()"
   ]
  },
  {
   "cell_type": "code",
   "execution_count": 5,
   "metadata": {
    "colab": {
     "base_uri": "https://localhost:8080/",
     "height": 0
    },
    "colab_type": "code",
    "id": "DlMPkT6mnkOe",
    "outputId": "c2d605c5-e5ff-423c-e6cc-8686e1323d83"
   },
   "outputs": [
    {
     "data": {
      "text/plain": [
       "Prospect ID                                       0.00\n",
       "Lead Number                                       0.00\n",
       "Lead Origin                                       0.00\n",
       "Lead Source                                       0.39\n",
       "Do Not Email                                      0.00\n",
       "Do Not Call                                       0.00\n",
       "Converted                                         0.00\n",
       "TotalVisits                                       1.48\n",
       "Total Time Spent on Website                       0.00\n",
       "Page Views Per Visit                              1.48\n",
       "Last Activity                                     1.11\n",
       "Country                                          26.63\n",
       "Specialization                                   15.56\n",
       "How did you hear about X Education               23.89\n",
       "What is your current occupation                  29.11\n",
       "What matters most to you in choosing a course    29.32\n",
       "Search                                            0.00\n",
       "Magazine                                          0.00\n",
       "Newspaper Article                                 0.00\n",
       "X Education Forums                                0.00\n",
       "Newspaper                                         0.00\n",
       "Digital Advertisement                             0.00\n",
       "Through Recommendations                           0.00\n",
       "Receive More Updates About Our Courses            0.00\n",
       "Tags                                             36.29\n",
       "Lead Quality                                     51.59\n",
       "Update me on Supply Chain Content                 0.00\n",
       "Get updates on DM Content                         0.00\n",
       "Lead Profile                                     29.32\n",
       "City                                             15.37\n",
       "Asymmetrique Activity Index                      45.65\n",
       "Asymmetrique Profile Index                       45.65\n",
       "Asymmetrique Activity Score                      45.65\n",
       "Asymmetrique Profile Score                       45.65\n",
       "I agree to pay the amount through cheque          0.00\n",
       "A free copy of Mastering The Interview            0.00\n",
       "Last Notable Activity                             0.00\n",
       "dtype: float64"
      ]
     },
     "execution_count": 5,
     "metadata": {},
     "output_type": "execute_result"
    }
   ],
   "source": [
    "# Finding % of Missing Values\n",
    "round(100*(leads_df.isnull().sum()/len(leads_df.index)), 2)"
   ]
  },
  {
   "cell_type": "markdown",
   "metadata": {
    "colab_type": "text",
    "id": "JOqyHiKTlgVh"
   },
   "source": [
    "## 1.2 Cleaning the dataset"
   ]
  },
  {
   "cell_type": "code",
   "execution_count": 6,
   "metadata": {
    "colab": {
     "base_uri": "https://localhost:8080/",
     "height": 0
    },
    "colab_type": "code",
    "id": "f2Z5prrch4Zx",
    "outputId": "4fa315ad-560e-489a-bb39-a965cf742e74"
   },
   "outputs": [
    {
     "data": {
      "image/png": "[encoded data removed]",
      "text/plain": [
       "<Figure size 720x288 with 1 Axes>"
      ]
     },
     "metadata": {
      "needs_background": "light"
     },
     "output_type": "display_data"
    },
    {
     "data": {
      "image/png": "[encoded data removed]",
      "text/plain": [
       "<Figure size 720x288 with 1 Axes>"
      ]
     },
     "metadata": {
      "needs_background": "light"
     },
     "output_type": "display_data"
    },
    {
     "data": {
      "image/png": "[encoded data removed]",
      "text/plain": [
       "<Figure size 720x288 with 1 Axes>"
      ]
     },
     "metadata": {
      "needs_background": "light"
     },
     "output_type": "display_data"
    },
    {
     "data": {
      "image/png": "[encoded data removed]",
      "text/plain": [
       "<Figure size 720x288 with 1 Axes>"
      ]
     },
     "metadata": {
      "needs_background": "light"
     },
     "output_type": "display_data"
    },
    {
     "data": {
      "image/png": "[encoded data removed]",
      "text/plain": [
       "<Figure size 720x288 with 1 Axes>"
      ]
     },
     "metadata": {
      "needs_background": "light"
     },
     "output_type": "display_data"
    },
    {
     "data": {
      "image/png": "[encoded data removed]",
      "text/plain": [
       "<Figure size 720x288 with 1 Axes>"
      ]
     },
     "metadata": {
      "needs_background": "light"
     },
     "output_type": "display_data"
    },
    {
     "data": {
      "image/png": "[encoded data removed]",
      "text/plain": [
       "<Figure size 720x288 with 1 Axes>"
      ]
     },
     "metadata": {
      "needs_background": "light"
     },
     "output_type": "display_data"
    },
    {
     "data": {
      "image/png": "[encoded data removed]",
      "text/plain": [
       "<Figure size 720x288 with 1 Axes>"
      ]
     },
     "metadata": {
      "needs_background": "light"
     },
     "output_type": "display_data"
    },
    {
     "data": {
      "image/png": "[encoded data removed]",
      "text/plain": [
       "<Figure size 720x288 with 1 Axes>"
      ]
     },
     "metadata": {
      "needs_background": "light"
     },
     "output_type": "display_data"
    },
    {
     "data": {
      "image/png": "[encoded data removed]",
      "text/plain": [
       "<Figure size 720x288 with 1 Axes>"
      ]
     },
     "metadata": {
      "needs_background": "light"
     },
     "output_type": "display_data"
    },
    {
     "data": {
      "image/png": "[encoded data removed]",
      "text/plain": [
       "<Figure size 720x288 with 1 Axes>"
      ]
     },
     "metadata": {
      "needs_background": "light"
     },
     "output_type": "display_data"
    },
    {
     "data": {
      "image/png": "[encoded data removed]",
      "text/plain": [
       "<Figure size 720x288 with 1 Axes>"
      ]
     },
     "metadata": {
      "needs_background": "light"
     },
     "output_type": "display_data"
    },
    {
     "data": {
      "image/png": "[encoded data removed]",
      "text/plain": [
       "<Figure size 720x288 with 1 Axes>"
      ]
     },
     "metadata": {
      "needs_background": "light"
     },
     "output_type": "display_data"
    },
    {
     "data": {
      "image/png": "[encoded data removed]",
      "text/plain": [
       "<Figure size 720x288 with 1 Axes>"
      ]
     },
     "metadata": {
      "needs_background": "light"
     },
     "output_type": "display_data"
    },
    {
     "data": {
      "image/png": "[encoded data removed]",
      "text/plain": [
       "<Figure size 720x288 with 1 Axes>"
      ]
     },
     "metadata": {
      "needs_background": "light"
     },
     "output_type": "display_data"
    },
    {
     "data": {
      "image/png": "[encoded data removed]",
      "text/plain": [
       "<Figure size 720x288 with 1 Axes>"
      ]
     },
     "metadata": {
      "needs_background": "light"
     },
     "output_type": "display_data"
    },
    {
     "data": {
      "image/png": "[encoded data removed]",
      "text/plain": [
       "<Figure size 720x288 with 1 Axes>"
      ]
     },
     "metadata": {
      "needs_background": "light"
     },
     "output_type": "display_data"
    },
    {
     "data": {
      "image/png": "[encoded data removed]",
      "text/plain": [
       "<Figure size 720x288 with 1 Axes>"
      ]
     },
     "metadata": {
      "needs_background": "light"
     },
     "output_type": "display_data"
    },
    {
     "data": {
      "image/png": "[encoded data removed]",
      "text/plain": [
       "<Figure size 720x288 with 1 Axes>"
      ]
     },
     "metadata": {
      "needs_background": "light"
     },
     "output_type": "display_data"
    },
    {
     "data": {
      "image/png": "[encoded data removed]",
      "text/plain": [
       "<Figure size 720x288 with 1 Axes>"
      ]
     },
     "metadata": {
      "needs_background": "light"
     },
     "output_type": "display_data"
    },
    {
     "data": {
      "image/png": "[encoded data removed]",
      "text/plain": [
       "<Figure size 720x288 with 1 Axes>"
      ]
     },
     "metadata": {
      "needs_background": "light"
     },
     "output_type": "display_data"
    },
    {
     "data": {
      "image/png": "[encoded data removed]",
      "text/plain": [
       "<Figure size 720x288 with 1 Axes>"
      ]
     },
     "metadata": {
      "needs_background": "light"
     },
     "output_type": "display_data"
    },
    {
     "data": {
      "image/png": "[encoded data removed]",
      "text/plain": [
       "<Figure size 720x288 with 1 Axes>"
      ]
     },
     "metadata": {
      "needs_background": "light"
     },
     "output_type": "display_data"
    },
    {
     "data": {
      "image/png": "[encoded data removed]",
      "text/plain": [
       "<Figure size 720x288 with 1 Axes>"
      ]
     },
     "metadata": {
      "needs_background": "light"
     },
     "output_type": "display_data"
    },
    {
     "data": {
      "image/png": "[encoded data removed]",
      "text/plain": [
       "<Figure size 720x288 with 1 Axes>"
      ]
     },
     "metadata": {
      "needs_background": "light"
     },
     "output_type": "display_data"
    }
   ],
   "source": [
    "# Based on above observations and pandas profiling report, Below are the variables that may be removed\n",
    "\n",
    "var_list = ['Prospect ID', 'Do Not Email', 'Do Not Call', 'Country', 'What is your current occupation', \n",
    "             'What matters most to you in choosing a course', 'Specialization', 'How did you hear about X Education',\n",
    "             'Search', 'Magazine', 'Newspaper Article', 'X Education Forums', 'Newspaper', 'Digital Advertisement', \n",
    "             'Tags', 'Lead Quality',   'Update me on Supply Chain Content', 'Get updates on DM Content', 'Lead Profile', \n",
    "             'City', 'Asymmetrique Activity Index', 'Asymmetrique Profile Index', 'Asymmetrique Activity Score', \n",
    "             'Asymmetrique Profile Score', 'I agree to pay the amount through cheque']\n",
    "\n",
    "# Seperating the Numerical and categorical variables\n",
    "num_list = [ 'Asymmetrique Activity Score', 'Asymmetrique Profile Score', ]\n",
    "\n",
    "cat_list = [ 'Do Not Email', 'Do Not Call', 'Country', 'What is your current occupation','Through Recommendations', \n",
    "             'What matters most to you in choosing a course', 'Specialization', 'How did you hear about X Education',\n",
    "             'Search', 'Magazine', 'Newspaper Article', 'X Education Forums', 'Newspaper', 'Digital Advertisement', \n",
    "             'Tags', 'Lead Quality',   'Update me on Supply Chain Content', 'Get updates on DM Content', 'Lead Profile', \n",
    "             'City', 'Asymmetrique Activity Index', 'Asymmetrique Profile Index','I agree to pay the amount through cheque']\n",
    "\n",
    "# Visualising Numerical variable to be removed for confirmation\n",
    "for i in num_list:\n",
    "  fig = plt.figure(figsize = (10,4))\n",
    "  sns.violinplot(leads_df[i])\n",
    "  plt.show()\n",
    "\n",
    "# Visualising the categorical variables to be removed for confirmation\n",
    "for i in cat_list:\n",
    "  fig = plt.figure(figsize = (10,4))\n",
    "  sns.countplot(leads_df[i], order = leads_df[i].value_counts().index)\n",
    "  plt.xticks(rotation=90)\n",
    "  plt.show()\n"
   ]
  },
  {
   "cell_type": "markdown",
   "metadata": {
    "colab_type": "text",
    "id": "jgjUs5tQzuuQ"
   },
   "source": [
    "**Columns to be Dropped**\n",
    "1. Prospect ID is a unique Identifier. It will not add any information for model\n",
    "2. Asymmetrique Activity Score, Asymmetrique Profile Score, Asymmetrique Profile Index and Asymmetrique Activity Index are generated values and we do not know the formulation. Also for these we cannot imput values for more than 45% records.\n",
    "3. 'Do not email' and 'Do not call' has very less variation hence these do not add any value in the model.\n",
    "4. In 'country', India has the maximun dominence in the data and for online education place should not matter that much.\n",
    "5. 'What matters most to you in choosing a course' can be removed as it has mostly single selection and has missing values\n",
    "6. 'Search','Magazine', 'Newspaper Article', 'Newspaper', 'Digital Advertisement' all have very less information. Can be dropped.\n",
    "7. 'Tags' although has 36% missing values, the data can have important information of the status.\n",
    "8. 'Update me on Supply Chain Content', 'Get updates on DM Content' have very less information, hence can be removed\n",
    "9. 'City' can be removed as there is not much notable distributuin and has many null and select values.\n",
    "10. 'I agree to pay the amount through cheque' has just No. Therefore can be removed.\n",
    "11. 'Through Recommendations' has also very less information.\n",
    "\n",
    "\n",
    "**Columns that can be kept**\n",
    "1. 'What is your current occupation' has good info as per bussiness choice. It may bring out the potential targets for marketing.\n",
    "\n",
    "2. 'Specialisation', although has 30%  missing values, has good amount of data with varity of options. This can bring out good patterns.\n",
    "\n",
    "3. 'Lead quality' and 'Lead profile' also has good business relevance.\n"
   ]
  },
  {
   "cell_type": "code",
   "execution_count": 7,
   "metadata": {
    "colab": {
     "base_uri": "https://localhost:8080/",
     "height": 0
    },
    "colab_type": "code",
    "id": "5AcDKsOyllAE",
    "outputId": "eb751c36-d911-4c09-b199-d379e4cd2c69"
   },
   "outputs": [
    {
     "data": {
      "text/plain": [
       "Lead Number                                0.00\n",
       "Lead Origin                                0.00\n",
       "Lead Source                                0.39\n",
       "Converted                                  0.00\n",
       "TotalVisits                                1.48\n",
       "Total Time Spent on Website                0.00\n",
       "Page Views Per Visit                       1.48\n",
       "Last Activity                              1.11\n",
       "Specialization                            15.56\n",
       "What is your current occupation           29.11\n",
       "Receive More Updates About Our Courses     0.00\n",
       "Lead Quality                              51.59\n",
       "Lead Profile                              29.32\n",
       "A free copy of Mastering The Interview     0.00\n",
       "Last Notable Activity                      0.00\n",
       "dtype: float64"
      ]
     },
     "execution_count": 7,
     "metadata": {},
     "output_type": "execute_result"
    }
   ],
   "source": [
    "# Dropping the unwanted columns\n",
    "leads_df2 = leads_df.drop(['Prospect ID', 'Do Not Email', 'Do Not Call', 'Country', 'What matters most to you in choosing a course', \n",
    "                             'How did you hear about X Education', 'Search', 'Magazine', 'Newspaper Article', \n",
    "                             'X Education Forums', 'Newspaper', 'Digital Advertisement', 'Tags', 'Through Recommendations',\n",
    "                             'Update me on Supply Chain Content', 'Get updates on DM Content',  'City', \n",
    "                             'Asymmetrique Activity Index', 'Asymmetrique Profile Index', 'Asymmetrique Activity Score',\n",
    "                             'Asymmetrique Profile Score', 'I agree to pay the amount through cheque'], axis=1)\n",
    "# Finding % of Missing Values\n",
    "round(100*(leads_df2.isnull().sum()/len(leads_df2.index)), 2)\n"
   ]
  },
  {
   "cell_type": "code",
   "execution_count": 8,
   "metadata": {
    "colab": {
     "base_uri": "https://localhost:8080/",
     "height": 0
    },
    "colab_type": "code",
    "id": "9e-KUeWWxGhD",
    "outputId": "fea6f4ab-3802-4228-925f-7ed967292510"
   },
   "outputs": [
    {
     "data": {
      "text/plain": [
       "Lead Number                               0.00\n",
       "Lead Origin                               0.00\n",
       "Lead Source                               0.39\n",
       "Converted                                 0.00\n",
       "TotalVisits                               1.48\n",
       "Total Time Spent on Website               0.00\n",
       "Page Views Per Visit                      1.48\n",
       "Last Activity                             1.11\n",
       "Specialization                            0.00\n",
       "What is your current occupation           0.00\n",
       "Receive More Updates About Our Courses    0.00\n",
       "Lead Quality                              0.00\n",
       "Lead Profile                              0.00\n",
       "A free copy of Mastering The Interview    0.00\n",
       "Last Notable Activity                     0.00\n",
       "dtype: float64"
      ]
     },
     "execution_count": 8,
     "metadata": {},
     "output_type": "execute_result"
    }
   ],
   "source": [
    "# Imputing the values for high %ge null value variables\n",
    "\n",
    "# Replacing the Speccilization contents: null values and select with 'Unknown'\n",
    "leads_df2['Specialization'] = leads_df2['Specialization'].replace(np.nan, 'Select')\n",
    "leads_df2['Specialization'] = leads_df2['Specialization'].replace('Select', 'Unknown')\n",
    "\n",
    "# Replacing the null values of 'What is your current occupation' with 'Unknown'\n",
    "leads_df2['What is your current occupation'] = leads_df2['What is your current occupation'].replace(np.nan, 'Unknown')\n",
    "\n",
    "# 'Lead Quality' has 50% missing values has imputing the values with 'Unknown'\n",
    "leads_df2['Lead Quality'] = leads_df2['Lead Quality'].replace(np.nan, 'Unknown')\n",
    "\n",
    "# Replacing the 'Lead Profile' contents: null values and select with 'Unknown'\n",
    "leads_df2['Lead Profile'] = leads_df2['Lead Profile'].replace(np.nan, 'Select')\n",
    "leads_df2['Lead Profile'] = leads_df2['Lead Profile'].replace('Select', 'Unknown')\n",
    "\n",
    "# Finding % of Missing Values\n",
    "round(100*(leads_df2.isnull().sum()/len(leads_df2.index)), 2)"
   ]
  },
  {
   "cell_type": "code",
   "execution_count": 9,
   "metadata": {
    "colab": {
     "base_uri": "https://localhost:8080/",
     "height": 0
    },
    "colab_type": "code",
    "id": "l7Ob-KPpgx5s",
    "outputId": "3526f3ae-b21d-47bb-92d2-365e1bef1af4"
   },
   "outputs": [
    {
     "data": {
      "text/plain": [
       "Lead Number                               0\n",
       "Lead Origin                               0\n",
       "Lead Source                               0\n",
       "Converted                                 0\n",
       "TotalVisits                               0\n",
       "Total Time Spent on Website               0\n",
       "Page Views Per Visit                      0\n",
       "Last Activity                             0\n",
       "Specialization                            0\n",
       "What is your current occupation           0\n",
       "Receive More Updates About Our Courses    0\n",
       "Lead Quality                              0\n",
       "Lead Profile                              0\n",
       "A free copy of Mastering The Interview    0\n",
       "Last Notable Activity                     0\n",
       "dtype: int64"
      ]
     },
     "execution_count": 9,
     "metadata": {},
     "output_type": "execute_result"
    }
   ],
   "source": [
    "# Checking for any residual 'Select' in the dataframe if any\n",
    "(leads_df2=='Select').sum()"
   ]
  },
  {
   "cell_type": "markdown",
   "metadata": {},
   "source": [
    "**There are no Select values left in dataframe**"
   ]
  },
  {
   "cell_type": "code",
   "execution_count": 10,
   "metadata": {
    "colab": {
     "base_uri": "https://localhost:8080/",
     "height": 0
    },
    "colab_type": "code",
    "id": "joLCjFIK7_hR",
    "outputId": "b391c6be-f158-4035-8fc0-456dee51e28e"
   },
   "outputs": [
    {
     "name": "stdout",
     "output_type": "stream",
     "text": [
      "Shape of dataframe:  (9074, 15)\n",
      "********************************************\n",
      "Lead Number                               0.0\n",
      "Lead Origin                               0.0\n",
      "Lead Source                               0.0\n",
      "Converted                                 0.0\n",
      "TotalVisits                               0.0\n",
      "Total Time Spent on Website               0.0\n",
      "Page Views Per Visit                      0.0\n",
      "Last Activity                             0.0\n",
      "Specialization                            0.0\n",
      "What is your current occupation           0.0\n",
      "Receive More Updates About Our Courses    0.0\n",
      "Lead Quality                              0.0\n",
      "Lead Profile                              0.0\n",
      "A free copy of Mastering The Interview    0.0\n",
      "Last Notable Activity                     0.0\n",
      "dtype: float64\n",
      "********************************************\n",
      "%ge of missing data (Rows) 1.8 %\n"
     ]
    }
   ],
   "source": [
    "# Dropping the rows with null values\n",
    "leads_df2 = leads_df2.dropna()\n",
    "\n",
    "# Checking the shape of dataframe\n",
    "print('Shape of dataframe: ',leads_df2.shape)\n",
    "print('********************************************')\n",
    "\n",
    "# Finding % of Missing Values\n",
    "print(round(100*(leads_df2.isnull().sum()/len(leads_df2.index)), 2))\n",
    "print('********************************************')\n",
    "\n",
    "# Missing rows %ge\n",
    "print('%ge of missing data (Rows)',round((len(leads_df)-len(leads_df2))*100/(len(leads_df)),2),'%')"
   ]
  },
  {
   "cell_type": "markdown",
   "metadata": {},
   "source": [
    "**Now data is clean**"
   ]
  },
  {
   "cell_type": "code",
   "execution_count": 11,
   "metadata": {
    "colab": {
     "base_uri": "https://localhost:8080/",
     "height": 0
    },
    "colab_type": "code",
    "id": "2czdcWrO-SjW",
    "outputId": "005975f0-346e-461e-9629-87f30d91b037"
   },
   "outputs": [
    {
     "data": {
      "image/png": "[encoded data removed]",
      "text/plain": [
       "<Figure size 1440x144 with 1 Axes>"
      ]
     },
     "metadata": {
      "needs_background": "light"
     },
     "output_type": "display_data"
    },
    {
     "data": {
      "image/png": "[encoded data removed]",
      "text/plain": [
       "<Figure size 1440x144 with 1 Axes>"
      ]
     },
     "metadata": {
      "needs_background": "light"
     },
     "output_type": "display_data"
    },
    {
     "data": {
      "image/png": "[encoded data removed]",
      "text/plain": [
       "<Figure size 1440x144 with 1 Axes>"
      ]
     },
     "metadata": {
      "needs_background": "light"
     },
     "output_type": "display_data"
    },
    {
     "data": {
      "image/png": "[encoded data removed]",
      "text/plain": [
       "<Figure size 1440x144 with 1 Axes>"
      ]
     },
     "metadata": {
      "needs_background": "light"
     },
     "output_type": "display_data"
    },
    {
     "data": {
      "image/png": "[encoded data removed]",
      "text/plain": [
       "<Figure size 720x360 with 1 Axes>"
      ]
     },
     "metadata": {
      "needs_background": "light"
     },
     "output_type": "display_data"
    },
    {
     "data": {
      "image/png": "[encoded data removed]",
      "text/plain": [
       "<Figure size 720x360 with 1 Axes>"
      ]
     },
     "metadata": {
      "needs_background": "light"
     },
     "output_type": "display_data"
    },
    {
     "data": {
      "image/png": "[encoded data removed]",
      "text/plain": [
       "<Figure size 720x360 with 1 Axes>"
      ]
     },
     "metadata": {
      "needs_background": "light"
     },
     "output_type": "display_data"
    },
    {
     "data": {
      "image/png": "[encoded data removed]",
      "text/plain": [
       "<Figure size 720x360 with 1 Axes>"
      ]
     },
     "metadata": {
      "needs_background": "light"
     },
     "output_type": "display_data"
    },
    {
     "data": {
      "image/png": "[encoded data removed]",
      "text/plain": [
       "<Figure size 720x360 with 1 Axes>"
      ]
     },
     "metadata": {
      "needs_background": "light"
     },
     "output_type": "display_data"
    },
    {
     "data": {
      "image/png": "[encoded data removed]",
      "text/plain": [
       "<Figure size 720x360 with 1 Axes>"
      ]
     },
     "metadata": {
      "needs_background": "light"
     },
     "output_type": "display_data"
    },
    {
     "data": {
      "image/png": "[encoded data removed]",
      "text/plain": [
       "<Figure size 720x360 with 1 Axes>"
      ]
     },
     "metadata": {
      "needs_background": "light"
     },
     "output_type": "display_data"
    },
    {
     "data": {
      "image/png": "[encoded data removed]",
      "text/plain": [
       "<Figure size 720x360 with 1 Axes>"
      ]
     },
     "metadata": {
      "needs_background": "light"
     },
     "output_type": "display_data"
    },
    {
     "data": {
      "image/png": "[encoded data removed]",
      "text/plain": [
       "<Figure size 720x360 with 1 Axes>"
      ]
     },
     "metadata": {
      "needs_background": "light"
     },
     "output_type": "display_data"
    },
    {
     "data": {
      "image/png": "[encoded data removed]",
      "text/plain": [
       "<Figure size 720x360 with 1 Axes>"
      ]
     },
     "metadata": {
      "needs_background": "light"
     },
     "output_type": "display_data"
    }
   ],
   "source": [
    "# Checking the individual values of each columns\n",
    "col = leads_df2.columns\n",
    "\n",
    "num_col = ['Converted', 'TotalVisits', 'Total Time Spent on Website', 'Page Views Per Visit', ]\n",
    "\n",
    "cat_col = ['Lead Origin', 'Lead Source',  'Last Activity', 'Specialization', 'What is your current occupation', \n",
    "           'Receive More Updates About Our Courses', 'Lead Quality', 'Lead Profile', \n",
    "           'A free copy of Mastering The Interview', 'Last Notable Activity']\n",
    "\n",
    "for i in num_col:\n",
    "  fig = plt.figure(figsize=(20,2))\n",
    "  sns.boxplot(leads_df2[i])\n",
    "  plt.show()\n",
    "\n",
    "for i in cat_col:\n",
    "  fig = plt.figure(figsize=(10,5))\n",
    "  sns.countplot(leads_df2[i], order = leads_df2[i].value_counts().index)\n",
    "  plt.xticks(rotation = 90)\n",
    "  plt.show()\n"
   ]
  },
  {
   "cell_type": "markdown",
   "metadata": {
    "colab_type": "text",
    "id": "6jlCdaffp_eu"
   },
   "source": [
    "## 1.3 Outlier Treatment"
   ]
  },
  {
   "cell_type": "code",
   "execution_count": 12,
   "metadata": {
    "colab": {
     "base_uri": "https://localhost:8080/",
     "height": 0
    },
    "colab_type": "code",
    "id": "lhMu2ZL4CdMz",
    "outputId": "e7c02930-fb2f-4fb8-cf03-66e67a1aa99f"
   },
   "outputs": [
    {
     "name": "stdout",
     "output_type": "stream",
     "text": [
      "above 95 percentile value:  10.0\n"
     ]
    },
    {
     "data": {
      "image/png": "[encoded data removed]",
      "text/plain": [
       "<Figure size 1080x72 with 1 Axes>"
      ]
     },
     "metadata": {
      "needs_background": "light"
     },
     "output_type": "display_data"
    },
    {
     "data": {
      "image/png": "[encoded data removed]",
      "text/plain": [
       "<Figure size 1080x72 with 1 Axes>"
      ]
     },
     "metadata": {
      "needs_background": "light"
     },
     "output_type": "display_data"
    },
    {
     "name": "stdout",
     "output_type": "stream",
     "text": [
      "**********************************************************************************************************\n",
      "above 95 percentile value:  6.0\n"
     ]
    },
    {
     "data": {
      "image/png": "[encoded data removed]",
      "text/plain": [
       "<Figure size 1080x72 with 1 Axes>"
      ]
     },
     "metadata": {
      "needs_background": "light"
     },
     "output_type": "display_data"
    },
    {
     "data": {
      "image/png": "[encoded data removed]",
      "text/plain": [
       "<Figure size 1080x72 with 1 Axes>"
      ]
     },
     "metadata": {
      "needs_background": "light"
     },
     "output_type": "display_data"
    },
    {
     "name": "stdout",
     "output_type": "stream",
     "text": [
      "**********************************************************************************************************\n",
      "Shape of dataframe:  (8124, 15)\n",
      "%ge of missing data (Rows) 12.08 %\n"
     ]
    }
   ],
   "source": [
    "# Outlier Treatment\n",
    "outliers = ['TotalVisits', 'Page Views Per Visit']\n",
    "for col in outliers:\n",
    "  limit = 0.95\n",
    "\n",
    "  q = leads_df[col].quantile(limit)\n",
    "  print('above 95 percentile value: ',q)\n",
    "\n",
    "  leads_df2 = leads_df2[leads_df2[col]<q]  # Dataframe  after outliers removed\n",
    " \n",
    "  fig = plt.figure(figsize =(15,1))\n",
    "  sns.boxplot(leads_df[col])               # Box plot for original data for comparison\n",
    "  plt.show()\n",
    "\n",
    "  fig = plt.figure(figsize =(15,1))\n",
    "  sns.boxplot(leads_df2[col])              # Box plot after outliers removed\n",
    "  plt.show()\n",
    "  print('**********************************************************************************************************')\n",
    "\n",
    "# Missing rows %ge\n",
    "print('Shape of dataframe: ',leads_df2.shape)\n",
    "print('%ge of missing data (Rows)',round((len(leads_df)-len(leads_df2))*100/(len(leads_df)),2),'%')"
   ]
  },
  {
   "cell_type": "code",
   "execution_count": 13,
   "metadata": {
    "colab": {
     "base_uri": "https://localhost:8080/",
     "height": 0
    },
    "colab_type": "code",
    "id": "e-Y2Q4aBQTvn",
    "outputId": "abc1d06e-c663-471f-dcc5-0f5b2e7814bb"
   },
   "outputs": [
    {
     "data": {
      "text/plain": [
       "<matplotlib.axes._subplots.AxesSubplot at 0x7f9012429a58>"
      ]
     },
     "execution_count": 13,
     "metadata": {},
     "output_type": "execute_result"
    },
    {
     "data": {
      "image/png": "[encoded data removed]",
      "text/plain": [
       "<Figure size 432x288 with 2 Axes>"
      ]
     },
     "metadata": {
      "needs_background": "light"
     },
     "output_type": "display_data"
    }
   ],
   "source": [
    "# Bivariate analysis of numerical variables\n",
    "sns.heatmap(leads_df2.corr(), annot = True)"
   ]
  },
  {
   "cell_type": "code",
   "execution_count": 14,
   "metadata": {
    "colab": {
     "base_uri": "https://localhost:8080/",
     "height": 0
    },
    "colab_type": "code",
    "id": "uqX-76K6U9Vz",
    "outputId": "75004150-2e91-4068-86ce-9a3438b8a48f"
   },
   "outputs": [
    {
     "data": {
      "text/html": [
       "<div>\n",
       "<style scoped>\n",
       "    .dataframe tbody tr th:only-of-type {\n",
       "        vertical-align: middle;\n",
       "    }\n",
       "\n",
       "    .dataframe tbody tr th {\n",
       "        vertical-align: top;\n",
       "    }\n",
       "\n",
       "    .dataframe thead th {\n",
       "        text-align: right;\n",
       "    }\n",
       "</style>\n",
       "<table border=\"1\" class=\"dataframe\">\n",
       "  <thead>\n",
       "    <tr style=\"text-align: right;\">\n",
       "      <th></th>\n",
       "      <th>Lead Number</th>\n",
       "      <th>Lead Origin</th>\n",
       "      <th>Lead Source</th>\n",
       "      <th>Converted</th>\n",
       "      <th>TotalVisits</th>\n",
       "      <th>Total Time Spent on Website</th>\n",
       "      <th>Page Views Per Visit</th>\n",
       "      <th>Last Activity</th>\n",
       "      <th>Specialization</th>\n",
       "      <th>What is your current occupation</th>\n",
       "      <th>Receive More Updates About Our Courses</th>\n",
       "      <th>Lead Quality</th>\n",
       "      <th>Lead Profile</th>\n",
       "      <th>A free copy of Mastering The Interview</th>\n",
       "      <th>Last Notable Activity</th>\n",
       "    </tr>\n",
       "  </thead>\n",
       "  <tbody>\n",
       "    <tr>\n",
       "      <th>9237</th>\n",
       "      <td>579545</td>\n",
       "      <td>Landing Page Submission</td>\n",
       "      <td>Direct Traffic</td>\n",
       "      <td>0</td>\n",
       "      <td>2.0</td>\n",
       "      <td>199</td>\n",
       "      <td>2.0</td>\n",
       "      <td>SMS Sent</td>\n",
       "      <td>Business Administration</td>\n",
       "      <td>Unemployed</td>\n",
       "      <td>No</td>\n",
       "      <td>Not Sure</td>\n",
       "      <td>Potential Lead</td>\n",
       "      <td>Yes</td>\n",
       "      <td>SMS Sent</td>\n",
       "    </tr>\n",
       "    <tr>\n",
       "      <th>9238</th>\n",
       "      <td>579538</td>\n",
       "      <td>Landing Page Submission</td>\n",
       "      <td>Google</td>\n",
       "      <td>1</td>\n",
       "      <td>3.0</td>\n",
       "      <td>499</td>\n",
       "      <td>3.0</td>\n",
       "      <td>SMS Sent</td>\n",
       "      <td>Human Resource Management</td>\n",
       "      <td>Unknown</td>\n",
       "      <td>No</td>\n",
       "      <td>Unknown</td>\n",
       "      <td>Unknown</td>\n",
       "      <td>No</td>\n",
       "      <td>SMS Sent</td>\n",
       "    </tr>\n",
       "    <tr>\n",
       "      <th>9239</th>\n",
       "      <td>579533</td>\n",
       "      <td>Landing Page Submission</td>\n",
       "      <td>Direct Traffic</td>\n",
       "      <td>1</td>\n",
       "      <td>6.0</td>\n",
       "      <td>1279</td>\n",
       "      <td>3.0</td>\n",
       "      <td>SMS Sent</td>\n",
       "      <td>Supply Chain Management</td>\n",
       "      <td>Unemployed</td>\n",
       "      <td>No</td>\n",
       "      <td>Might be</td>\n",
       "      <td>Potential Lead</td>\n",
       "      <td>Yes</td>\n",
       "      <td>Modified</td>\n",
       "    </tr>\n",
       "  </tbody>\n",
       "</table>\n",
       "</div>"
      ],
      "text/plain": [
       "      Lead Number              Lead Origin     Lead Source  Converted  \\\n",
       "9237       579545  Landing Page Submission  Direct Traffic          0   \n",
       "9238       579538  Landing Page Submission          Google          1   \n",
       "9239       579533  Landing Page Submission  Direct Traffic          1   \n",
       "\n",
       "      TotalVisits  Total Time Spent on Website  Page Views Per Visit  \\\n",
       "9237          2.0                          199                   2.0   \n",
       "9238          3.0                          499                   3.0   \n",
       "9239          6.0                         1279                   3.0   \n",
       "\n",
       "     Last Activity             Specialization What is your current occupation  \\\n",
       "9237      SMS Sent    Business Administration                      Unemployed   \n",
       "9238      SMS Sent  Human Resource Management                         Unknown   \n",
       "9239      SMS Sent    Supply Chain Management                      Unemployed   \n",
       "\n",
       "     Receive More Updates About Our Courses Lead Quality    Lead Profile  \\\n",
       "9237                                     No     Not Sure  Potential Lead   \n",
       "9238                                     No      Unknown         Unknown   \n",
       "9239                                     No     Might be  Potential Lead   \n",
       "\n",
       "     A free copy of Mastering The Interview Last Notable Activity  \n",
       "9237                                    Yes              SMS Sent  \n",
       "9238                                     No              SMS Sent  \n",
       "9239                                    Yes              Modified  "
      ]
     },
     "execution_count": 14,
     "metadata": {},
     "output_type": "execute_result"
    }
   ],
   "source": [
    "# Decreasing the number of values in categorical variables by combining the values\n",
    "leads_df2['Lead Source'] = leads_df2['Lead Source'].replace(['google'], 'Google')\n",
    "\n",
    "leads_df2['Lead Source'] = leads_df2['Lead Source'].replace(['bing','Click2call', 'Live Chat','Social Media', 'NC_EDM', 'Pay per Click Ads', 'Press_Release',\n",
    "   'WeLearn',  'blog', 'testone', 'welearnblog_Home', 'youtubechannel'], 'Combined')\n",
    "\n",
    "leads_df2['Last Activity'] = leads_df2['Last Activity'].replace(['Unreachable','Unsubscribed', 'Had a Phone Conversation','Approached upfront',\n",
    "                                                                 'View in browser link Clicked','Email Received','Email Marked Spam','Resubscribed to emails',\n",
    "                                                                 'Visited Booth in Tradeshow'], 'Combined')\n",
    "\n",
    "leads_df2['Last Activity'] = leads_df2['Last Activity'].replace(['Email Bounced', 'Unsubscribed', 'Unreachable', 'Had a Phone Conversation', 'Email Marked Spam', 'Form Submitted on Website', \n",
    "                                                                 'Email Received', 'Resubscribed to emails', 'View in browser link Clicked', 'Approached upfront'], 'Combined')\n",
    "\n",
    "leads_df2.tail(3)"
   ]
  },
  {
   "cell_type": "code",
   "execution_count": 15,
   "metadata": {
    "colab": {},
    "colab_type": "code",
    "id": "pjHb5f-GdfBa"
   },
   "outputs": [],
   "source": [
    "# Binary Variables\n",
    "bi_var = ['Receive More Updates About Our Courses','A free copy of Mastering The Interview']\n",
    "\n",
    "# Numerical variables\n",
    "num_var = ['Lead Number', 'TotalVisits', 'Total Time Spent on Website', 'Page Views Per Visit', 'Converted']\n",
    "\n",
    "#Categorical Variables\n",
    "cat_var = ['Lead Origin', 'Lead Source', 'Last Activity', 'Specialization', 'What is your current occupation',\n",
    "       'Lead Quality', 'Lead Profile',  'Last Notable Activity']"
   ]
  },
  {
   "cell_type": "code",
   "execution_count": 16,
   "metadata": {
    "colab": {
     "base_uri": "https://localhost:8080/",
     "height": 0
    },
    "colab_type": "code",
    "id": "ilaeQ7wGdngY",
    "outputId": "900fbb61-ef3b-4464-a14a-b389ea5ef61d"
   },
   "outputs": [
    {
     "name": "stdout",
     "output_type": "stream",
     "text": [
      "(8124, 81)\n",
      "(8124, 73)\n"
     ]
    }
   ],
   "source": [
    "# Creating Dummy variables\n",
    "leads_df2_dum = pd.get_dummies(leads_df2[cat_var], drop_first=True)\n",
    "\n",
    "# Mearging with Dataframe\n",
    "leads_df_final = pd.concat([leads_df2, leads_df2_dum], axis=1)\n",
    "print(leads_df_final.shape)\n",
    "\n",
    "# deleting the categorical variables\n",
    "leads_df_final = leads_df_final.drop(cat_var, axis = 1)\n",
    "print(leads_df_final.shape)\n"
   ]
  },
  {
   "cell_type": "code",
   "execution_count": 17,
   "metadata": {
    "colab": {
     "base_uri": "https://localhost:8080/",
     "height": 0
    },
    "colab_type": "code",
    "id": "tn1jwT3g9wTQ",
    "outputId": "4afc85f0-7b13-4c9d-eadb-2a94bce123b7"
   },
   "outputs": [
    {
     "data": {
      "text/html": [
       "<div>\n",
       "<style scoped>\n",
       "    .dataframe tbody tr th:only-of-type {\n",
       "        vertical-align: middle;\n",
       "    }\n",
       "\n",
       "    .dataframe tbody tr th {\n",
       "        vertical-align: top;\n",
       "    }\n",
       "\n",
       "    .dataframe thead th {\n",
       "        text-align: right;\n",
       "    }\n",
       "</style>\n",
       "<table border=\"1\" class=\"dataframe\">\n",
       "  <thead>\n",
       "    <tr style=\"text-align: right;\">\n",
       "      <th></th>\n",
       "      <th>Lead Number</th>\n",
       "      <th>Converted</th>\n",
       "      <th>TotalVisits</th>\n",
       "      <th>Total Time Spent on Website</th>\n",
       "      <th>Page Views Per Visit</th>\n",
       "      <th>Receive More Updates About Our Courses</th>\n",
       "      <th>A free copy of Mastering The Interview</th>\n",
       "      <th>Lead Origin_Landing Page Submission</th>\n",
       "      <th>Lead Origin_Lead Add Form</th>\n",
       "      <th>Lead Origin_Lead Import</th>\n",
       "      <th>...</th>\n",
       "      <th>Last Notable Activity_Form Submitted on Website</th>\n",
       "      <th>Last Notable Activity_Had a Phone Conversation</th>\n",
       "      <th>Last Notable Activity_Modified</th>\n",
       "      <th>Last Notable Activity_Olark Chat Conversation</th>\n",
       "      <th>Last Notable Activity_Page Visited on Website</th>\n",
       "      <th>Last Notable Activity_Resubscribed to emails</th>\n",
       "      <th>Last Notable Activity_SMS Sent</th>\n",
       "      <th>Last Notable Activity_Unreachable</th>\n",
       "      <th>Last Notable Activity_Unsubscribed</th>\n",
       "      <th>Last Notable Activity_View in browser link Clicked</th>\n",
       "    </tr>\n",
       "  </thead>\n",
       "  <tbody>\n",
       "    <tr>\n",
       "      <th>0</th>\n",
       "      <td>660737</td>\n",
       "      <td>0</td>\n",
       "      <td>0.0</td>\n",
       "      <td>0</td>\n",
       "      <td>0.0</td>\n",
       "      <td>0</td>\n",
       "      <td>0</td>\n",
       "      <td>0</td>\n",
       "      <td>0</td>\n",
       "      <td>0</td>\n",
       "      <td>...</td>\n",
       "      <td>0</td>\n",
       "      <td>0</td>\n",
       "      <td>1</td>\n",
       "      <td>0</td>\n",
       "      <td>0</td>\n",
       "      <td>0</td>\n",
       "      <td>0</td>\n",
       "      <td>0</td>\n",
       "      <td>0</td>\n",
       "      <td>0</td>\n",
       "    </tr>\n",
       "    <tr>\n",
       "      <th>1</th>\n",
       "      <td>660728</td>\n",
       "      <td>0</td>\n",
       "      <td>5.0</td>\n",
       "      <td>674</td>\n",
       "      <td>2.5</td>\n",
       "      <td>0</td>\n",
       "      <td>0</td>\n",
       "      <td>0</td>\n",
       "      <td>0</td>\n",
       "      <td>0</td>\n",
       "      <td>...</td>\n",
       "      <td>0</td>\n",
       "      <td>0</td>\n",
       "      <td>0</td>\n",
       "      <td>0</td>\n",
       "      <td>0</td>\n",
       "      <td>0</td>\n",
       "      <td>0</td>\n",
       "      <td>0</td>\n",
       "      <td>0</td>\n",
       "      <td>0</td>\n",
       "    </tr>\n",
       "    <tr>\n",
       "      <th>2</th>\n",
       "      <td>660727</td>\n",
       "      <td>1</td>\n",
       "      <td>2.0</td>\n",
       "      <td>1532</td>\n",
       "      <td>2.0</td>\n",
       "      <td>0</td>\n",
       "      <td>1</td>\n",
       "      <td>1</td>\n",
       "      <td>0</td>\n",
       "      <td>0</td>\n",
       "      <td>...</td>\n",
       "      <td>0</td>\n",
       "      <td>0</td>\n",
       "      <td>0</td>\n",
       "      <td>0</td>\n",
       "      <td>0</td>\n",
       "      <td>0</td>\n",
       "      <td>0</td>\n",
       "      <td>0</td>\n",
       "      <td>0</td>\n",
       "      <td>0</td>\n",
       "    </tr>\n",
       "  </tbody>\n",
       "</table>\n",
       "<p>3 rows × 73 columns</p>\n",
       "</div>"
      ],
      "text/plain": [
       "   Lead Number  Converted  TotalVisits  Total Time Spent on Website  \\\n",
       "0       660737          0          0.0                            0   \n",
       "1       660728          0          5.0                          674   \n",
       "2       660727          1          2.0                         1532   \n",
       "\n",
       "   Page Views Per Visit  Receive More Updates About Our Courses  \\\n",
       "0                   0.0                                       0   \n",
       "1                   2.5                                       0   \n",
       "2                   2.0                                       0   \n",
       "\n",
       "   A free copy of Mastering The Interview  \\\n",
       "0                                       0   \n",
       "1                                       0   \n",
       "2                                       1   \n",
       "\n",
       "   Lead Origin_Landing Page Submission  Lead Origin_Lead Add Form  \\\n",
       "0                                    0                          0   \n",
       "1                                    0                          0   \n",
       "2                                    1                          0   \n",
       "\n",
       "   Lead Origin_Lead Import  ...  \\\n",
       "0                        0  ...   \n",
       "1                        0  ...   \n",
       "2                        0  ...   \n",
       "\n",
       "   Last Notable Activity_Form Submitted on Website  \\\n",
       "0                                                0   \n",
       "1                                                0   \n",
       "2                                                0   \n",
       "\n",
       "   Last Notable Activity_Had a Phone Conversation  \\\n",
       "0                                               0   \n",
       "1                                               0   \n",
       "2                                               0   \n",
       "\n",
       "   Last Notable Activity_Modified  \\\n",
       "0                               1   \n",
       "1                               0   \n",
       "2                               0   \n",
       "\n",
       "   Last Notable Activity_Olark Chat Conversation  \\\n",
       "0                                              0   \n",
       "1                                              0   \n",
       "2                                              0   \n",
       "\n",
       "   Last Notable Activity_Page Visited on Website  \\\n",
       "0                                              0   \n",
       "1                                              0   \n",
       "2                                              0   \n",
       "\n",
       "   Last Notable Activity_Resubscribed to emails  \\\n",
       "0                                             0   \n",
       "1                                             0   \n",
       "2                                             0   \n",
       "\n",
       "   Last Notable Activity_SMS Sent  Last Notable Activity_Unreachable  \\\n",
       "0                               0                                  0   \n",
       "1                               0                                  0   \n",
       "2                               0                                  0   \n",
       "\n",
       "   Last Notable Activity_Unsubscribed  \\\n",
       "0                                   0   \n",
       "1                                   0   \n",
       "2                                   0   \n",
       "\n",
       "   Last Notable Activity_View in browser link Clicked  \n",
       "0                                                  0   \n",
       "1                                                  0   \n",
       "2                                                  0   \n",
       "\n",
       "[3 rows x 73 columns]"
      ]
     },
     "execution_count": 17,
     "metadata": {},
     "output_type": "execute_result"
    }
   ],
   "source": [
    "# Defining the map function for converting Yes & No TO 1 & 0\n",
    "\n",
    "def binary_map(x):\n",
    "    return x.map({'Yes': 1, \"No\": 0})\n",
    "\n",
    "# Applying the function to the housing list\n",
    "leads_df_final[bi_var] = leads_df_final[bi_var].apply(binary_map)\n",
    "\n",
    "leads_df_final.head(3)"
   ]
  },
  {
   "cell_type": "code",
   "execution_count": 18,
   "metadata": {
    "colab": {
     "base_uri": "https://localhost:8080/",
     "height": 0
    },
    "colab_type": "code",
    "id": "PEHZwXnw1pkq",
    "outputId": "d6374ef4-2b48-4a93-a090-c897d60d1a0c"
   },
   "outputs": [
    {
     "data": {
      "text/plain": [
       "37.456917774495324"
      ]
     },
     "execution_count": 18,
     "metadata": {},
     "output_type": "execute_result"
    }
   ],
   "source": [
    "# Checking the conversion\n",
    "conversion_ratio = (sum(leads_df_final['Converted'])/len(leads_df_final['Converted'].index))*100\n",
    "conversion_ratio"
   ]
  },
  {
   "cell_type": "markdown",
   "metadata": {
    "colab_type": "text",
    "id": "9luFGhagvpVM"
   },
   "source": [
    "## 1.4 EDA Inferances"
   ]
  },
  {
   "cell_type": "markdown",
   "metadata": {
    "colab_type": "text",
    "id": "p6Oht7E-rA_N"
   },
   "source": [
    "\n",
    "1. The following columns are dropped: \n",
    "> ['Prospect ID', 'Do Not Email', 'Do Not Call', 'Country', 'What matters most to you in choosing a course', 'How did you hear about X Education', 'Search', 'Magazine', 'Newspaper Article', 'X Education Forums', 'Newspaper', 'Digital Advertisement', 'Tags', 'Through Recommendations', 'Update me on Supply Chain Content', 'Get updates on DM Content',  'City', 'Asymmetrique Activity Index', 'Asymmetrique Profile Index', 'Asymmetrique Activity Score', 'Asymmetrique Profile Score', 'I agree to pay the amount through cheque']\n",
    "\n",
    "2. Outliers are removed by removing the values over 95 percentile.\n",
    "3. Data has many null values. The values where there are very high, a new value 'Unknown' has been created not to cause any bias in the data\n",
    "4. where ever the null values are very less, that is less than 2%, rows were deleted\n",
    "5. Our Target variable **Converted** is positivly correlated with **Total time spent on website**\n",
    "6. **Page views per visit** is highly correlated with **Total visits.**\n",
    "\n",
    "\n",
    "\n"
   ]
  },
  {
   "cell_type": "markdown",
   "metadata": {
    "colab_type": "text",
    "id": "fo4nX6YurJoG"
   },
   "source": [
    "# 2. Modelling"
   ]
  },
  {
   "cell_type": "markdown",
   "metadata": {
    "colab_type": "text",
    "id": "bBdYQ6vPrpLq"
   },
   "source": [
    "## 2.1 Seperating the Dependant and Independant variables"
   ]
  },
  {
   "cell_type": "code",
   "execution_count": 19,
   "metadata": {
    "colab": {
     "base_uri": "https://localhost:8080/",
     "height": 320
    },
    "colab_type": "code",
    "id": "_FzoeG6ErIKE",
    "outputId": "92625bf5-c9d2-477e-c0dc-550f313d55d3"
   },
   "outputs": [
    {
     "name": "stdout",
     "output_type": "stream",
     "text": [
      "0    0\n",
      "1    0\n",
      "2    1\n",
      "Name: Converted, dtype: int64\n"
     ]
    },
    {
     "data": {
      "text/html": [
       "<div>\n",
       "<style scoped>\n",
       "    .dataframe tbody tr th:only-of-type {\n",
       "        vertical-align: middle;\n",
       "    }\n",
       "\n",
       "    .dataframe tbody tr th {\n",
       "        vertical-align: top;\n",
       "    }\n",
       "\n",
       "    .dataframe thead th {\n",
       "        text-align: right;\n",
       "    }\n",
       "</style>\n",
       "<table border=\"1\" class=\"dataframe\">\n",
       "  <thead>\n",
       "    <tr style=\"text-align: right;\">\n",
       "      <th></th>\n",
       "      <th>TotalVisits</th>\n",
       "      <th>Total Time Spent on Website</th>\n",
       "      <th>Page Views Per Visit</th>\n",
       "      <th>Receive More Updates About Our Courses</th>\n",
       "      <th>A free copy of Mastering The Interview</th>\n",
       "      <th>Lead Origin_Landing Page Submission</th>\n",
       "      <th>Lead Origin_Lead Add Form</th>\n",
       "      <th>Lead Origin_Lead Import</th>\n",
       "      <th>Lead Source_Direct Traffic</th>\n",
       "      <th>Lead Source_Facebook</th>\n",
       "      <th>...</th>\n",
       "      <th>Last Notable Activity_Form Submitted on Website</th>\n",
       "      <th>Last Notable Activity_Had a Phone Conversation</th>\n",
       "      <th>Last Notable Activity_Modified</th>\n",
       "      <th>Last Notable Activity_Olark Chat Conversation</th>\n",
       "      <th>Last Notable Activity_Page Visited on Website</th>\n",
       "      <th>Last Notable Activity_Resubscribed to emails</th>\n",
       "      <th>Last Notable Activity_SMS Sent</th>\n",
       "      <th>Last Notable Activity_Unreachable</th>\n",
       "      <th>Last Notable Activity_Unsubscribed</th>\n",
       "      <th>Last Notable Activity_View in browser link Clicked</th>\n",
       "    </tr>\n",
       "  </thead>\n",
       "  <tbody>\n",
       "    <tr>\n",
       "      <th>0</th>\n",
       "      <td>0.0</td>\n",
       "      <td>0</td>\n",
       "      <td>0.0</td>\n",
       "      <td>0</td>\n",
       "      <td>0</td>\n",
       "      <td>0</td>\n",
       "      <td>0</td>\n",
       "      <td>0</td>\n",
       "      <td>0</td>\n",
       "      <td>0</td>\n",
       "      <td>...</td>\n",
       "      <td>0</td>\n",
       "      <td>0</td>\n",
       "      <td>1</td>\n",
       "      <td>0</td>\n",
       "      <td>0</td>\n",
       "      <td>0</td>\n",
       "      <td>0</td>\n",
       "      <td>0</td>\n",
       "      <td>0</td>\n",
       "      <td>0</td>\n",
       "    </tr>\n",
       "    <tr>\n",
       "      <th>1</th>\n",
       "      <td>5.0</td>\n",
       "      <td>674</td>\n",
       "      <td>2.5</td>\n",
       "      <td>0</td>\n",
       "      <td>0</td>\n",
       "      <td>0</td>\n",
       "      <td>0</td>\n",
       "      <td>0</td>\n",
       "      <td>0</td>\n",
       "      <td>0</td>\n",
       "      <td>...</td>\n",
       "      <td>0</td>\n",
       "      <td>0</td>\n",
       "      <td>0</td>\n",
       "      <td>0</td>\n",
       "      <td>0</td>\n",
       "      <td>0</td>\n",
       "      <td>0</td>\n",
       "      <td>0</td>\n",
       "      <td>0</td>\n",
       "      <td>0</td>\n",
       "    </tr>\n",
       "    <tr>\n",
       "      <th>2</th>\n",
       "      <td>2.0</td>\n",
       "      <td>1532</td>\n",
       "      <td>2.0</td>\n",
       "      <td>0</td>\n",
       "      <td>1</td>\n",
       "      <td>1</td>\n",
       "      <td>0</td>\n",
       "      <td>0</td>\n",
       "      <td>1</td>\n",
       "      <td>0</td>\n",
       "      <td>...</td>\n",
       "      <td>0</td>\n",
       "      <td>0</td>\n",
       "      <td>0</td>\n",
       "      <td>0</td>\n",
       "      <td>0</td>\n",
       "      <td>0</td>\n",
       "      <td>0</td>\n",
       "      <td>0</td>\n",
       "      <td>0</td>\n",
       "      <td>0</td>\n",
       "    </tr>\n",
       "  </tbody>\n",
       "</table>\n",
       "<p>3 rows × 71 columns</p>\n",
       "</div>"
      ],
      "text/plain": [
       "   TotalVisits  Total Time Spent on Website  Page Views Per Visit  \\\n",
       "0          0.0                            0                   0.0   \n",
       "1          5.0                          674                   2.5   \n",
       "2          2.0                         1532                   2.0   \n",
       "\n",
       "   Receive More Updates About Our Courses  \\\n",
       "0                                       0   \n",
       "1                                       0   \n",
       "2                                       0   \n",
       "\n",
       "   A free copy of Mastering The Interview  \\\n",
       "0                                       0   \n",
       "1                                       0   \n",
       "2                                       1   \n",
       "\n",
       "   Lead Origin_Landing Page Submission  Lead Origin_Lead Add Form  \\\n",
       "0                                    0                          0   \n",
       "1                                    0                          0   \n",
       "2                                    1                          0   \n",
       "\n",
       "   Lead Origin_Lead Import  Lead Source_Direct Traffic  Lead Source_Facebook  \\\n",
       "0                        0                           0                     0   \n",
       "1                        0                           0                     0   \n",
       "2                        0                           1                     0   \n",
       "\n",
       "   ...  Last Notable Activity_Form Submitted on Website  \\\n",
       "0  ...                                                0   \n",
       "1  ...                                                0   \n",
       "2  ...                                                0   \n",
       "\n",
       "   Last Notable Activity_Had a Phone Conversation  \\\n",
       "0                                               0   \n",
       "1                                               0   \n",
       "2                                               0   \n",
       "\n",
       "   Last Notable Activity_Modified  \\\n",
       "0                               1   \n",
       "1                               0   \n",
       "2                               0   \n",
       "\n",
       "   Last Notable Activity_Olark Chat Conversation  \\\n",
       "0                                              0   \n",
       "1                                              0   \n",
       "2                                              0   \n",
       "\n",
       "   Last Notable Activity_Page Visited on Website  \\\n",
       "0                                              0   \n",
       "1                                              0   \n",
       "2                                              0   \n",
       "\n",
       "   Last Notable Activity_Resubscribed to emails  \\\n",
       "0                                             0   \n",
       "1                                             0   \n",
       "2                                             0   \n",
       "\n",
       "   Last Notable Activity_SMS Sent  Last Notable Activity_Unreachable  \\\n",
       "0                               0                                  0   \n",
       "1                               0                                  0   \n",
       "2                               0                                  0   \n",
       "\n",
       "   Last Notable Activity_Unsubscribed  \\\n",
       "0                                   0   \n",
       "1                                   0   \n",
       "2                                   0   \n",
       "\n",
       "   Last Notable Activity_View in browser link Clicked  \n",
       "0                                                  0   \n",
       "1                                                  0   \n",
       "2                                                  0   \n",
       "\n",
       "[3 rows x 71 columns]"
      ]
     },
     "execution_count": 19,
     "metadata": {},
     "output_type": "execute_result"
    }
   ],
   "source": [
    "# creating a dataframe of target variable\n",
    "y = leads_df_final['Converted']\n",
    "print(y.head(3))\n",
    "\n",
    "# Creating a data frame of independent variables\n",
    "X = leads_df_final.drop(['Lead Number','Converted'], axis=1)\n",
    "X.head(3)"
   ]
  },
  {
   "cell_type": "markdown",
   "metadata": {
    "colab_type": "text",
    "id": "Mhu7aeGtvLPO"
   },
   "source": [
    "## 2.2 Train and Test Split"
   ]
  },
  {
   "cell_type": "code",
   "execution_count": 20,
   "metadata": {
    "colab": {},
    "colab_type": "code",
    "id": "9jkJIRhtsfV_"
   },
   "outputs": [],
   "source": [
    "# train and test split\n",
    "X_train, X_test, y_train, y_test = train_test_split(X, y, train_size=0.7, test_size=0.3, random_state=100)"
   ]
  },
  {
   "cell_type": "code",
   "execution_count": 21,
   "metadata": {
    "colab": {
     "base_uri": "https://localhost:8080/",
     "height": 0
    },
    "colab_type": "code",
    "id": "pmokMaSisrvi",
    "outputId": "55d88da8-d1e0-4b8d-a5ff-949c346ef9ee"
   },
   "outputs": [
    {
     "data": {
      "text/html": [
       "<div>\n",
       "<style scoped>\n",
       "    .dataframe tbody tr th:only-of-type {\n",
       "        vertical-align: middle;\n",
       "    }\n",
       "\n",
       "    .dataframe tbody tr th {\n",
       "        vertical-align: top;\n",
       "    }\n",
       "\n",
       "    .dataframe thead th {\n",
       "        text-align: right;\n",
       "    }\n",
       "</style>\n",
       "<table border=\"1\" class=\"dataframe\">\n",
       "  <thead>\n",
       "    <tr style=\"text-align: right;\">\n",
       "      <th></th>\n",
       "      <th>TotalVisits</th>\n",
       "      <th>Total Time Spent on Website</th>\n",
       "      <th>Page Views Per Visit</th>\n",
       "      <th>Receive More Updates About Our Courses</th>\n",
       "      <th>A free copy of Mastering The Interview</th>\n",
       "      <th>Lead Origin_Landing Page Submission</th>\n",
       "      <th>Lead Origin_Lead Add Form</th>\n",
       "      <th>Lead Origin_Lead Import</th>\n",
       "      <th>Lead Source_Direct Traffic</th>\n",
       "      <th>Lead Source_Facebook</th>\n",
       "      <th>...</th>\n",
       "      <th>Last Notable Activity_Form Submitted on Website</th>\n",
       "      <th>Last Notable Activity_Had a Phone Conversation</th>\n",
       "      <th>Last Notable Activity_Modified</th>\n",
       "      <th>Last Notable Activity_Olark Chat Conversation</th>\n",
       "      <th>Last Notable Activity_Page Visited on Website</th>\n",
       "      <th>Last Notable Activity_Resubscribed to emails</th>\n",
       "      <th>Last Notable Activity_SMS Sent</th>\n",
       "      <th>Last Notable Activity_Unreachable</th>\n",
       "      <th>Last Notable Activity_Unsubscribed</th>\n",
       "      <th>Last Notable Activity_View in browser link Clicked</th>\n",
       "    </tr>\n",
       "  </thead>\n",
       "  <tbody>\n",
       "    <tr>\n",
       "      <th>3994</th>\n",
       "      <td>-0.723054</td>\n",
       "      <td>0.921363</td>\n",
       "      <td>-0.615309</td>\n",
       "      <td>0</td>\n",
       "      <td>1</td>\n",
       "      <td>1</td>\n",
       "      <td>0</td>\n",
       "      <td>0</td>\n",
       "      <td>1</td>\n",
       "      <td>0</td>\n",
       "      <td>...</td>\n",
       "      <td>0</td>\n",
       "      <td>0</td>\n",
       "      <td>1</td>\n",
       "      <td>0</td>\n",
       "      <td>0</td>\n",
       "      <td>0</td>\n",
       "      <td>0</td>\n",
       "      <td>0</td>\n",
       "      <td>0</td>\n",
       "      <td>0</td>\n",
       "    </tr>\n",
       "    <tr>\n",
       "      <th>897</th>\n",
       "      <td>1.145076</td>\n",
       "      <td>-0.244296</td>\n",
       "      <td>-0.174197</td>\n",
       "      <td>0</td>\n",
       "      <td>1</td>\n",
       "      <td>1</td>\n",
       "      <td>0</td>\n",
       "      <td>0</td>\n",
       "      <td>0</td>\n",
       "      <td>0</td>\n",
       "      <td>...</td>\n",
       "      <td>0</td>\n",
       "      <td>0</td>\n",
       "      <td>0</td>\n",
       "      <td>0</td>\n",
       "      <td>0</td>\n",
       "      <td>0</td>\n",
       "      <td>0</td>\n",
       "      <td>0</td>\n",
       "      <td>0</td>\n",
       "      <td>0</td>\n",
       "    </tr>\n",
       "    <tr>\n",
       "      <th>4030</th>\n",
       "      <td>0.678043</td>\n",
       "      <td>1.617057</td>\n",
       "      <td>1.359821</td>\n",
       "      <td>0</td>\n",
       "      <td>0</td>\n",
       "      <td>1</td>\n",
       "      <td>0</td>\n",
       "      <td>0</td>\n",
       "      <td>0</td>\n",
       "      <td>0</td>\n",
       "      <td>...</td>\n",
       "      <td>0</td>\n",
       "      <td>1</td>\n",
       "      <td>0</td>\n",
       "      <td>0</td>\n",
       "      <td>0</td>\n",
       "      <td>0</td>\n",
       "      <td>0</td>\n",
       "      <td>0</td>\n",
       "      <td>0</td>\n",
       "      <td>0</td>\n",
       "    </tr>\n",
       "  </tbody>\n",
       "</table>\n",
       "<p>3 rows × 71 columns</p>\n",
       "</div>"
      ],
      "text/plain": [
       "      TotalVisits  Total Time Spent on Website  Page Views Per Visit  \\\n",
       "3994    -0.723054                     0.921363             -0.615309   \n",
       "897      1.145076                    -0.244296             -0.174197   \n",
       "4030     0.678043                     1.617057              1.359821   \n",
       "\n",
       "      Receive More Updates About Our Courses  \\\n",
       "3994                                       0   \n",
       "897                                        0   \n",
       "4030                                       0   \n",
       "\n",
       "      A free copy of Mastering The Interview  \\\n",
       "3994                                       1   \n",
       "897                                        1   \n",
       "4030                                       0   \n",
       "\n",
       "      Lead Origin_Landing Page Submission  Lead Origin_Lead Add Form  \\\n",
       "3994                                    1                          0   \n",
       "897                                     1                          0   \n",
       "4030                                    1                          0   \n",
       "\n",
       "      Lead Origin_Lead Import  Lead Source_Direct Traffic  \\\n",
       "3994                        0                           1   \n",
       "897                         0                           0   \n",
       "4030                        0                           0   \n",
       "\n",
       "      Lead Source_Facebook  ...  \\\n",
       "3994                     0  ...   \n",
       "897                      0  ...   \n",
       "4030                     0  ...   \n",
       "\n",
       "      Last Notable Activity_Form Submitted on Website  \\\n",
       "3994                                                0   \n",
       "897                                                 0   \n",
       "4030                                                0   \n",
       "\n",
       "      Last Notable Activity_Had a Phone Conversation  \\\n",
       "3994                                               0   \n",
       "897                                                0   \n",
       "4030                                               1   \n",
       "\n",
       "      Last Notable Activity_Modified  \\\n",
       "3994                               1   \n",
       "897                                0   \n",
       "4030                               0   \n",
       "\n",
       "      Last Notable Activity_Olark Chat Conversation  \\\n",
       "3994                                              0   \n",
       "897                                               0   \n",
       "4030                                              0   \n",
       "\n",
       "      Last Notable Activity_Page Visited on Website  \\\n",
       "3994                                              0   \n",
       "897                                               0   \n",
       "4030                                              0   \n",
       "\n",
       "      Last Notable Activity_Resubscribed to emails  \\\n",
       "3994                                             0   \n",
       "897                                              0   \n",
       "4030                                             0   \n",
       "\n",
       "      Last Notable Activity_SMS Sent  Last Notable Activity_Unreachable  \\\n",
       "3994                               0                                  0   \n",
       "897                                0                                  0   \n",
       "4030                               0                                  0   \n",
       "\n",
       "      Last Notable Activity_Unsubscribed  \\\n",
       "3994                                   0   \n",
       "897                                    0   \n",
       "4030                                   0   \n",
       "\n",
       "      Last Notable Activity_View in browser link Clicked  \n",
       "3994                                                  0   \n",
       "897                                                   0   \n",
       "4030                                                  0   \n",
       "\n",
       "[3 rows x 71 columns]"
      ]
     },
     "execution_count": 21,
     "metadata": {},
     "output_type": "execute_result"
    }
   ],
   "source": [
    "# Scaling the numerical values\n",
    "scaler = StandardScaler()\n",
    "X_train[['TotalVisits', 'Total Time Spent on Website', 'Page Views Per Visit']] = scaler.fit_transform(X_train[['TotalVisits', 'Total Time Spent on Website', 'Page Views Per Visit']])\n",
    "X_train.head(3)"
   ]
  },
  {
   "cell_type": "markdown",
   "metadata": {
    "colab_type": "text",
    "id": "BJKnrQUk6ypk"
   },
   "source": [
    "## 2.3 Logistic Model Building"
   ]
  },
  {
   "cell_type": "code",
   "execution_count": 22,
   "metadata": {
    "colab": {
     "base_uri": "https://localhost:8080/",
     "height": 1000
    },
    "colab_type": "code",
    "id": "_Q2aK4FJ12b4",
    "outputId": "0b6cbd55-df5d-4463-e044-d69b04305e25"
   },
   "outputs": [
    {
     "data": {
      "text/html": [
       "<table class=\"simpletable\">\n",
       "<caption>Generalized Linear Model Regression Results</caption>\n",
       "<tr>\n",
       "  <th>Dep. Variable:</th>       <td>Converted</td>    <th>  No. Observations:  </th>  <td>  5686</td> \n",
       "</tr>\n",
       "<tr>\n",
       "  <th>Model:</th>                  <td>GLM</td>       <th>  Df Residuals:      </th>  <td>  5615</td> \n",
       "</tr>\n",
       "<tr>\n",
       "  <th>Model Family:</th>        <td>Binomial</td>     <th>  Df Model:          </th>  <td>    70</td> \n",
       "</tr>\n",
       "<tr>\n",
       "  <th>Link Function:</th>         <td>logit</td>      <th>  Scale:             </th> <td>  1.0000</td>\n",
       "</tr>\n",
       "<tr>\n",
       "  <th>Method:</th>                <td>IRLS</td>       <th>  Log-Likelihood:    </th> <td> -1824.2</td>\n",
       "</tr>\n",
       "<tr>\n",
       "  <th>Date:</th>            <td>Mon, 07 Oct 2019</td> <th>  Deviance:          </th> <td>  3648.4</td>\n",
       "</tr>\n",
       "<tr>\n",
       "  <th>Time:</th>                <td>20:17:45</td>     <th>  Pearson chi2:      </th> <td>5.50e+03</td>\n",
       "</tr>\n",
       "<tr>\n",
       "  <th>No. Iterations:</th>         <td>23</td>        <th>                     </th>     <td> </td>   \n",
       "</tr>\n",
       "<tr>\n",
       "  <th>Covariance Type:</th>     <td>nonrobust</td>    <th>                     </th>     <td> </td>   \n",
       "</tr>\n",
       "</table>\n",
       "<table class=\"simpletable\">\n",
       "<tr>\n",
       "                            <td></td>                              <th>coef</th>     <th>std err</th>      <th>z</th>      <th>P>|z|</th>  <th>[0.025</th>    <th>0.975]</th>  \n",
       "</tr>\n",
       "<tr>\n",
       "  <th>const</th>                                                <td>   46.5512</td> <td> 1.35e+05</td> <td>    0.000</td> <td> 1.000</td> <td>-2.64e+05</td> <td> 2.64e+05</td>\n",
       "</tr>\n",
       "<tr>\n",
       "  <th>TotalVisits</th>                                          <td>    0.3032</td> <td>    0.069</td> <td>    4.422</td> <td> 0.000</td> <td>    0.169</td> <td>    0.438</td>\n",
       "</tr>\n",
       "<tr>\n",
       "  <th>Total Time Spent on Website</th>                          <td>    1.0717</td> <td>    0.049</td> <td>   21.662</td> <td> 0.000</td> <td>    0.975</td> <td>    1.169</td>\n",
       "</tr>\n",
       "<tr>\n",
       "  <th>Page Views Per Visit</th>                                 <td>   -0.2688</td> <td>    0.080</td> <td>   -3.369</td> <td> 0.001</td> <td>   -0.425</td> <td>   -0.112</td>\n",
       "</tr>\n",
       "<tr>\n",
       "  <th>Receive More Updates About Our Courses</th>               <td>-4.632e-09</td> <td> 2.27e-05</td> <td>   -0.000</td> <td> 1.000</td> <td>-4.45e-05</td> <td> 4.45e-05</td>\n",
       "</tr>\n",
       "<tr>\n",
       "  <th>A free copy of Mastering The Interview</th>               <td>    0.1433</td> <td>    0.142</td> <td>    1.007</td> <td> 0.314</td> <td>   -0.136</td> <td>    0.422</td>\n",
       "</tr>\n",
       "<tr>\n",
       "  <th>Lead Origin_Landing Page Submission</th>                  <td>   -0.5406</td> <td>    0.180</td> <td>   -2.997</td> <td> 0.003</td> <td>   -0.894</td> <td>   -0.187</td>\n",
       "</tr>\n",
       "<tr>\n",
       "  <th>Lead Origin_Lead Add Form</th>                            <td>    0.5507</td> <td>    1.535</td> <td>    0.359</td> <td> 0.720</td> <td>   -2.457</td> <td>    3.558</td>\n",
       "</tr>\n",
       "<tr>\n",
       "  <th>Lead Origin_Lead Import</th>                              <td>   26.0207</td> <td> 1.31e+05</td> <td>    0.000</td> <td> 1.000</td> <td>-2.57e+05</td> <td> 2.57e+05</td>\n",
       "</tr>\n",
       "<tr>\n",
       "  <th>Lead Source_Direct Traffic</th>                           <td>   -1.0471</td> <td>    0.904</td> <td>   -1.158</td> <td> 0.247</td> <td>   -2.819</td> <td>    0.725</td>\n",
       "</tr>\n",
       "<tr>\n",
       "  <th>Lead Source_Facebook</th>                                 <td>  -26.0633</td> <td> 1.31e+05</td> <td>   -0.000</td> <td> 1.000</td> <td>-2.57e+05</td> <td> 2.57e+05</td>\n",
       "</tr>\n",
       "<tr>\n",
       "  <th>Lead Source_Google</th>                                   <td>   -0.7327</td> <td>    0.899</td> <td>   -0.815</td> <td> 0.415</td> <td>   -2.494</td> <td>    1.029</td>\n",
       "</tr>\n",
       "<tr>\n",
       "  <th>Lead Source_Olark Chat</th>                               <td>    0.5302</td> <td>    0.907</td> <td>    0.584</td> <td> 0.559</td> <td>   -1.248</td> <td>    2.309</td>\n",
       "</tr>\n",
       "<tr>\n",
       "  <th>Lead Source_Organic Search</th>                           <td>   -0.9011</td> <td>    0.909</td> <td>   -0.992</td> <td> 0.321</td> <td>   -2.682</td> <td>    0.880</td>\n",
       "</tr>\n",
       "<tr>\n",
       "  <th>Lead Source_Reference</th>                                <td>    1.0747</td> <td>    1.270</td> <td>    0.846</td> <td> 0.397</td> <td>   -1.414</td> <td>    3.563</td>\n",
       "</tr>\n",
       "<tr>\n",
       "  <th>Lead Source_Referral Sites</th>                           <td>   -1.2328</td> <td>    0.976</td> <td>   -1.263</td> <td> 0.207</td> <td>   -3.147</td> <td>    0.681</td>\n",
       "</tr>\n",
       "<tr>\n",
       "  <th>Lead Source_Welingak Website</th>                         <td>    4.0812</td> <td>    1.440</td> <td>    2.834</td> <td> 0.005</td> <td>    1.259</td> <td>    6.904</td>\n",
       "</tr>\n",
       "<tr>\n",
       "  <th>Last Activity_Converted to Lead</th>                      <td>    0.1696</td> <td>    0.337</td> <td>    0.503</td> <td> 0.615</td> <td>   -0.491</td> <td>    0.830</td>\n",
       "</tr>\n",
       "<tr>\n",
       "  <th>Last Activity_Email Link Clicked</th>                     <td>    0.7921</td> <td>    0.474</td> <td>    1.672</td> <td> 0.094</td> <td>   -0.136</td> <td>    1.720</td>\n",
       "</tr>\n",
       "<tr>\n",
       "  <th>Last Activity_Email Opened</th>                           <td>    0.7954</td> <td>    0.292</td> <td>    2.728</td> <td> 0.006</td> <td>    0.224</td> <td>    1.367</td>\n",
       "</tr>\n",
       "<tr>\n",
       "  <th>Last Activity_Olark Chat Conversation</th>                <td>   -0.3758</td> <td>    0.318</td> <td>   -1.184</td> <td> 0.237</td> <td>   -0.998</td> <td>    0.246</td>\n",
       "</tr>\n",
       "<tr>\n",
       "  <th>Last Activity_Page Visited on Website</th>                <td>    0.3063</td> <td>    0.366</td> <td>    0.836</td> <td> 0.403</td> <td>   -0.412</td> <td>    1.025</td>\n",
       "</tr>\n",
       "<tr>\n",
       "  <th>Last Activity_SMS Sent</th>                               <td>    1.4771</td> <td>    0.290</td> <td>    5.097</td> <td> 0.000</td> <td>    0.909</td> <td>    2.045</td>\n",
       "</tr>\n",
       "<tr>\n",
       "  <th>Specialization_Business Administration</th>               <td>   -0.4811</td> <td>    0.332</td> <td>   -1.449</td> <td> 0.147</td> <td>   -1.132</td> <td>    0.170</td>\n",
       "</tr>\n",
       "<tr>\n",
       "  <th>Specialization_E-Business</th>                            <td>    0.9412</td> <td>    0.563</td> <td>    1.672</td> <td> 0.095</td> <td>   -0.162</td> <td>    2.045</td>\n",
       "</tr>\n",
       "<tr>\n",
       "  <th>Specialization_E-COMMERCE</th>                            <td>   -0.0233</td> <td>    0.464</td> <td>   -0.050</td> <td> 0.960</td> <td>   -0.932</td> <td>    0.886</td>\n",
       "</tr>\n",
       "<tr>\n",
       "  <th>Specialization_Finance Management</th>                    <td>   -0.4262</td> <td>    0.288</td> <td>   -1.480</td> <td> 0.139</td> <td>   -0.991</td> <td>    0.138</td>\n",
       "</tr>\n",
       "<tr>\n",
       "  <th>Specialization_Healthcare Management</th>                 <td>   -0.4738</td> <td>    0.435</td> <td>   -1.088</td> <td> 0.276</td> <td>   -1.327</td> <td>    0.379</td>\n",
       "</tr>\n",
       "<tr>\n",
       "  <th>Specialization_Hospitality Management</th>                <td>   -0.6632</td> <td>    0.463</td> <td>   -1.432</td> <td> 0.152</td> <td>   -1.571</td> <td>    0.245</td>\n",
       "</tr>\n",
       "<tr>\n",
       "  <th>Specialization_Human Resource Management</th>             <td>   -0.3757</td> <td>    0.292</td> <td>   -1.287</td> <td> 0.198</td> <td>   -0.948</td> <td>    0.196</td>\n",
       "</tr>\n",
       "<tr>\n",
       "  <th>Specialization_IT Projects Management</th>                <td>   -0.1753</td> <td>    0.330</td> <td>   -0.531</td> <td> 0.595</td> <td>   -0.822</td> <td>    0.471</td>\n",
       "</tr>\n",
       "<tr>\n",
       "  <th>Specialization_International Business</th>                <td>   -0.7206</td> <td>    0.432</td> <td>   -1.669</td> <td> 0.095</td> <td>   -1.567</td> <td>    0.126</td>\n",
       "</tr>\n",
       "<tr>\n",
       "  <th>Specialization_Marketing Management</th>                  <td>   -0.2496</td> <td>    0.293</td> <td>   -0.852</td> <td> 0.394</td> <td>   -0.824</td> <td>    0.325</td>\n",
       "</tr>\n",
       "<tr>\n",
       "  <th>Specialization_Media and Advertising</th>                 <td>   -0.8203</td> <td>    0.388</td> <td>   -2.113</td> <td> 0.035</td> <td>   -1.581</td> <td>   -0.059</td>\n",
       "</tr>\n",
       "<tr>\n",
       "  <th>Specialization_Operations Management</th>                 <td>   -0.0230</td> <td>    0.312</td> <td>   -0.074</td> <td> 0.941</td> <td>   -0.635</td> <td>    0.589</td>\n",
       "</tr>\n",
       "<tr>\n",
       "  <th>Specialization_Retail Management</th>                     <td>   -0.8637</td> <td>    0.554</td> <td>   -1.560</td> <td> 0.119</td> <td>   -1.949</td> <td>    0.221</td>\n",
       "</tr>\n",
       "<tr>\n",
       "  <th>Specialization_Rural and Agribusiness</th>                <td>   -0.1981</td> <td>    0.538</td> <td>   -0.368</td> <td> 0.713</td> <td>   -1.253</td> <td>    0.856</td>\n",
       "</tr>\n",
       "<tr>\n",
       "  <th>Specialization_Services Excellence</th>                   <td>   -0.7872</td> <td>    0.855</td> <td>   -0.921</td> <td> 0.357</td> <td>   -2.463</td> <td>    0.888</td>\n",
       "</tr>\n",
       "<tr>\n",
       "  <th>Specialization_Supply Chain Management</th>               <td>   -0.3140</td> <td>    0.344</td> <td>   -0.914</td> <td> 0.361</td> <td>   -0.987</td> <td>    0.359</td>\n",
       "</tr>\n",
       "<tr>\n",
       "  <th>Specialization_Travel and Tourism</th>                    <td>   -0.5501</td> <td>    0.432</td> <td>   -1.275</td> <td> 0.202</td> <td>   -1.396</td> <td>    0.296</td>\n",
       "</tr>\n",
       "<tr>\n",
       "  <th>Specialization_Unknown</th>                               <td>   -0.5689</td> <td>    0.301</td> <td>   -1.889</td> <td> 0.059</td> <td>   -1.159</td> <td>    0.021</td>\n",
       "</tr>\n",
       "<tr>\n",
       "  <th>What is your current occupation_Housewife</th>            <td>   26.0057</td> <td> 4.21e+04</td> <td>    0.001</td> <td> 1.000</td> <td>-8.25e+04</td> <td> 8.26e+04</td>\n",
       "</tr>\n",
       "<tr>\n",
       "  <th>What is your current occupation_Other</th>                <td>    2.2194</td> <td>    1.752</td> <td>    1.267</td> <td> 0.205</td> <td>   -1.214</td> <td>    5.652</td>\n",
       "</tr>\n",
       "<tr>\n",
       "  <th>What is your current occupation_Student</th>              <td>    2.1894</td> <td>    1.431</td> <td>    1.529</td> <td> 0.126</td> <td>   -0.616</td> <td>    4.995</td>\n",
       "</tr>\n",
       "<tr>\n",
       "  <th>What is your current occupation_Unemployed</th>           <td>    2.0034</td> <td>    1.389</td> <td>    1.442</td> <td> 0.149</td> <td>   -0.719</td> <td>    4.726</td>\n",
       "</tr>\n",
       "<tr>\n",
       "  <th>What is your current occupation_Unknown</th>              <td>    1.3045</td> <td>    1.393</td> <td>    0.937</td> <td> 0.349</td> <td>   -1.426</td> <td>    4.035</td>\n",
       "</tr>\n",
       "<tr>\n",
       "  <th>What is your current occupation_Working Professional</th> <td>    3.7489</td> <td>    1.407</td> <td>    2.664</td> <td> 0.008</td> <td>    0.990</td> <td>    6.508</td>\n",
       "</tr>\n",
       "<tr>\n",
       "  <th>Lead Quality_Low in Relevance</th>                        <td>   -1.1739</td> <td>    0.307</td> <td>   -3.820</td> <td> 0.000</td> <td>   -1.776</td> <td>   -0.572</td>\n",
       "</tr>\n",
       "<tr>\n",
       "  <th>Lead Quality_Might be</th>                                <td>   -1.7699</td> <td>    0.281</td> <td>   -6.301</td> <td> 0.000</td> <td>   -2.320</td> <td>   -1.219</td>\n",
       "</tr>\n",
       "<tr>\n",
       "  <th>Lead Quality_Not Sure</th>                                <td>   -3.6677</td> <td>    0.290</td> <td>  -12.644</td> <td> 0.000</td> <td>   -4.236</td> <td>   -3.099</td>\n",
       "</tr>\n",
       "<tr>\n",
       "  <th>Lead Quality_Unknown</th>                                 <td>   -3.0289</td> <td>    0.280</td> <td>  -10.819</td> <td> 0.000</td> <td>   -3.578</td> <td>   -2.480</td>\n",
       "</tr>\n",
       "<tr>\n",
       "  <th>Lead Quality_Worst</th>                                   <td>   -5.2627</td> <td>    0.472</td> <td>  -11.147</td> <td> 0.000</td> <td>   -6.188</td> <td>   -4.337</td>\n",
       "</tr>\n",
       "<tr>\n",
       "  <th>Lead Profile_Lateral Student</th>                         <td>    0.2739</td> <td> 4.47e+04</td> <td> 6.13e-06</td> <td> 1.000</td> <td>-8.76e+04</td> <td> 8.76e+04</td>\n",
       "</tr>\n",
       "<tr>\n",
       "  <th>Lead Profile_Other Leads</th>                             <td>  -21.8050</td> <td> 3.08e+04</td> <td>   -0.001</td> <td> 0.999</td> <td>-6.03e+04</td> <td> 6.03e+04</td>\n",
       "</tr>\n",
       "<tr>\n",
       "  <th>Lead Profile_Potential Lead</th>                          <td>  -21.7730</td> <td> 3.08e+04</td> <td>   -0.001</td> <td> 0.999</td> <td>-6.03e+04</td> <td> 6.03e+04</td>\n",
       "</tr>\n",
       "<tr>\n",
       "  <th>Lead Profile_Student of SomeSchool</th>                   <td>  -22.8475</td> <td> 3.08e+04</td> <td>   -0.001</td> <td> 0.999</td> <td>-6.03e+04</td> <td> 6.03e+04</td>\n",
       "</tr>\n",
       "<tr>\n",
       "  <th>Lead Profile_Unknown</th>                                 <td>  -22.4125</td> <td> 3.08e+04</td> <td>   -0.001</td> <td> 0.999</td> <td>-6.03e+04</td> <td> 6.03e+04</td>\n",
       "</tr>\n",
       "<tr>\n",
       "  <th>Last Notable Activity_Email Bounced</th>                  <td>  -23.9283</td> <td> 1.31e+05</td> <td>   -0.000</td> <td> 1.000</td> <td>-2.57e+05</td> <td> 2.57e+05</td>\n",
       "</tr>\n",
       "<tr>\n",
       "  <th>Last Notable Activity_Email Link Clicked</th>             <td>  -24.2666</td> <td> 1.31e+05</td> <td>   -0.000</td> <td> 1.000</td> <td>-2.57e+05</td> <td> 2.57e+05</td>\n",
       "</tr>\n",
       "<tr>\n",
       "  <th>Last Notable Activity_Email Marked Spam</th>              <td>   -1.7206</td> <td> 1.53e+05</td> <td>-1.12e-05</td> <td> 1.000</td> <td>   -3e+05</td> <td>    3e+05</td>\n",
       "</tr>\n",
       "<tr>\n",
       "  <th>Last Notable Activity_Email Opened</th>                   <td>  -24.0570</td> <td> 1.31e+05</td> <td>   -0.000</td> <td> 1.000</td> <td>-2.57e+05</td> <td> 2.57e+05</td>\n",
       "</tr>\n",
       "<tr>\n",
       "  <th>Last Notable Activity_Email Received</th>                 <td>   -2.5636</td> <td> 1.85e+05</td> <td>-1.38e-05</td> <td> 1.000</td> <td>-3.63e+05</td> <td> 3.63e+05</td>\n",
       "</tr>\n",
       "<tr>\n",
       "  <th>Last Notable Activity_Form Submitted on Website</th>      <td>  -45.0977</td> <td> 1.85e+05</td> <td>   -0.000</td> <td> 1.000</td> <td>-3.63e+05</td> <td> 3.63e+05</td>\n",
       "</tr>\n",
       "<tr>\n",
       "  <th>Last Notable Activity_Had a Phone Conversation</th>       <td>  -21.4442</td> <td> 1.31e+05</td> <td>   -0.000</td> <td> 1.000</td> <td>-2.57e+05</td> <td> 2.57e+05</td>\n",
       "</tr>\n",
       "<tr>\n",
       "  <th>Last Notable Activity_Modified</th>                       <td>  -24.3648</td> <td> 1.31e+05</td> <td>   -0.000</td> <td> 1.000</td> <td>-2.57e+05</td> <td> 2.57e+05</td>\n",
       "</tr>\n",
       "<tr>\n",
       "  <th>Last Notable Activity_Olark Chat Conversation</th>        <td>  -24.3829</td> <td> 1.31e+05</td> <td>   -0.000</td> <td> 1.000</td> <td>-2.57e+05</td> <td> 2.57e+05</td>\n",
       "</tr>\n",
       "<tr>\n",
       "  <th>Last Notable Activity_Page Visited on Website</th>        <td>  -23.6995</td> <td> 1.31e+05</td> <td>   -0.000</td> <td> 1.000</td> <td>-2.57e+05</td> <td> 2.57e+05</td>\n",
       "</tr>\n",
       "<tr>\n",
       "  <th>Last Notable Activity_Resubscribed to emails</th>         <td>    3.1271</td> <td> 1.85e+05</td> <td> 1.69e-05</td> <td> 1.000</td> <td>-3.63e+05</td> <td> 3.63e+05</td>\n",
       "</tr>\n",
       "<tr>\n",
       "  <th>Last Notable Activity_SMS Sent</th>                       <td>  -23.1198</td> <td> 1.31e+05</td> <td>   -0.000</td> <td> 1.000</td> <td>-2.57e+05</td> <td> 2.57e+05</td>\n",
       "</tr>\n",
       "<tr>\n",
       "  <th>Last Notable Activity_Unreachable</th>                    <td>  -21.2486</td> <td> 1.31e+05</td> <td>   -0.000</td> <td> 1.000</td> <td>-2.57e+05</td> <td> 2.57e+05</td>\n",
       "</tr>\n",
       "<tr>\n",
       "  <th>Last Notable Activity_Unsubscribed</th>                   <td>  -22.9170</td> <td> 1.31e+05</td> <td>   -0.000</td> <td> 1.000</td> <td>-2.57e+05</td> <td> 2.57e+05</td>\n",
       "</tr>\n",
       "<tr>\n",
       "  <th>Last Notable Activity_View in browser link Clicked</th>   <td>  -45.9251</td> <td> 1.85e+05</td> <td>   -0.000</td> <td> 1.000</td> <td>-3.63e+05</td> <td> 3.63e+05</td>\n",
       "</tr>\n",
       "</table>"
      ],
      "text/plain": [
       "<class 'statsmodels.iolib.summary.Summary'>\n",
       "\"\"\"\n",
       "                 Generalized Linear Model Regression Results                  \n",
       "==============================================================================\n",
       "Dep. Variable:              Converted   No. Observations:                 5686\n",
       "Model:                            GLM   Df Residuals:                     5615\n",
       "Model Family:                Binomial   Df Model:                           70\n",
       "Link Function:                  logit   Scale:                          1.0000\n",
       "Method:                          IRLS   Log-Likelihood:                -1824.2\n",
       "Date:                Mon, 07 Oct 2019   Deviance:                       3648.4\n",
       "Time:                        20:17:45   Pearson chi2:                 5.50e+03\n",
       "No. Iterations:                    23                                         \n",
       "Covariance Type:            nonrobust                                         \n",
       "========================================================================================================================\n",
       "                                                           coef    std err          z      P>|z|      [0.025      0.975]\n",
       "------------------------------------------------------------------------------------------------------------------------\n",
       "const                                                   46.5512   1.35e+05      0.000      1.000   -2.64e+05    2.64e+05\n",
       "TotalVisits                                              0.3032      0.069      4.422      0.000       0.169       0.438\n",
       "Total Time Spent on Website                              1.0717      0.049     21.662      0.000       0.975       1.169\n",
       "Page Views Per Visit                                    -0.2688      0.080     -3.369      0.001      -0.425      -0.112\n",
       "Receive More Updates About Our Courses               -4.632e-09   2.27e-05     -0.000      1.000   -4.45e-05    4.45e-05\n",
       "A free copy of Mastering The Interview                   0.1433      0.142      1.007      0.314      -0.136       0.422\n",
       "Lead Origin_Landing Page Submission                     -0.5406      0.180     -2.997      0.003      -0.894      -0.187\n",
       "Lead Origin_Lead Add Form                                0.5507      1.535      0.359      0.720      -2.457       3.558\n",
       "Lead Origin_Lead Import                                 26.0207   1.31e+05      0.000      1.000   -2.57e+05    2.57e+05\n",
       "Lead Source_Direct Traffic                              -1.0471      0.904     -1.158      0.247      -2.819       0.725\n",
       "Lead Source_Facebook                                   -26.0633   1.31e+05     -0.000      1.000   -2.57e+05    2.57e+05\n",
       "Lead Source_Google                                      -0.7327      0.899     -0.815      0.415      -2.494       1.029\n",
       "Lead Source_Olark Chat                                   0.5302      0.907      0.584      0.559      -1.248       2.309\n",
       "Lead Source_Organic Search                              -0.9011      0.909     -0.992      0.321      -2.682       0.880\n",
       "Lead Source_Reference                                    1.0747      1.270      0.846      0.397      -1.414       3.563\n",
       "Lead Source_Referral Sites                              -1.2328      0.976     -1.263      0.207      -3.147       0.681\n",
       "Lead Source_Welingak Website                             4.0812      1.440      2.834      0.005       1.259       6.904\n",
       "Last Activity_Converted to Lead                          0.1696      0.337      0.503      0.615      -0.491       0.830\n",
       "Last Activity_Email Link Clicked                         0.7921      0.474      1.672      0.094      -0.136       1.720\n",
       "Last Activity_Email Opened                               0.7954      0.292      2.728      0.006       0.224       1.367\n",
       "Last Activity_Olark Chat Conversation                   -0.3758      0.318     -1.184      0.237      -0.998       0.246\n",
       "Last Activity_Page Visited on Website                    0.3063      0.366      0.836      0.403      -0.412       1.025\n",
       "Last Activity_SMS Sent                                   1.4771      0.290      5.097      0.000       0.909       2.045\n",
       "Specialization_Business Administration                  -0.4811      0.332     -1.449      0.147      -1.132       0.170\n",
       "Specialization_E-Business                                0.9412      0.563      1.672      0.095      -0.162       2.045\n",
       "Specialization_E-COMMERCE                               -0.0233      0.464     -0.050      0.960      -0.932       0.886\n",
       "Specialization_Finance Management                       -0.4262      0.288     -1.480      0.139      -0.991       0.138\n",
       "Specialization_Healthcare Management                    -0.4738      0.435     -1.088      0.276      -1.327       0.379\n",
       "Specialization_Hospitality Management                   -0.6632      0.463     -1.432      0.152      -1.571       0.245\n",
       "Specialization_Human Resource Management                -0.3757      0.292     -1.287      0.198      -0.948       0.196\n",
       "Specialization_IT Projects Management                   -0.1753      0.330     -0.531      0.595      -0.822       0.471\n",
       "Specialization_International Business                   -0.7206      0.432     -1.669      0.095      -1.567       0.126\n",
       "Specialization_Marketing Management                     -0.2496      0.293     -0.852      0.394      -0.824       0.325\n",
       "Specialization_Media and Advertising                    -0.8203      0.388     -2.113      0.035      -1.581      -0.059\n",
       "Specialization_Operations Management                    -0.0230      0.312     -0.074      0.941      -0.635       0.589\n",
       "Specialization_Retail Management                        -0.8637      0.554     -1.560      0.119      -1.949       0.221\n",
       "Specialization_Rural and Agribusiness                   -0.1981      0.538     -0.368      0.713      -1.253       0.856\n",
       "Specialization_Services Excellence                      -0.7872      0.855     -0.921      0.357      -2.463       0.888\n",
       "Specialization_Supply Chain Management                  -0.3140      0.344     -0.914      0.361      -0.987       0.359\n",
       "Specialization_Travel and Tourism                       -0.5501      0.432     -1.275      0.202      -1.396       0.296\n",
       "Specialization_Unknown                                  -0.5689      0.301     -1.889      0.059      -1.159       0.021\n",
       "What is your current occupation_Housewife               26.0057   4.21e+04      0.001      1.000   -8.25e+04    8.26e+04\n",
       "What is your current occupation_Other                    2.2194      1.752      1.267      0.205      -1.214       5.652\n",
       "What is your current occupation_Student                  2.1894      1.431      1.529      0.126      -0.616       4.995\n",
       "What is your current occupation_Unemployed               2.0034      1.389      1.442      0.149      -0.719       4.726\n",
       "What is your current occupation_Unknown                  1.3045      1.393      0.937      0.349      -1.426       4.035\n",
       "What is your current occupation_Working Professional     3.7489      1.407      2.664      0.008       0.990       6.508\n",
       "Lead Quality_Low in Relevance                           -1.1739      0.307     -3.820      0.000      -1.776      -0.572\n",
       "Lead Quality_Might be                                   -1.7699      0.281     -6.301      0.000      -2.320      -1.219\n",
       "Lead Quality_Not Sure                                   -3.6677      0.290    -12.644      0.000      -4.236      -3.099\n",
       "Lead Quality_Unknown                                    -3.0289      0.280    -10.819      0.000      -3.578      -2.480\n",
       "Lead Quality_Worst                                      -5.2627      0.472    -11.147      0.000      -6.188      -4.337\n",
       "Lead Profile_Lateral Student                             0.2739   4.47e+04   6.13e-06      1.000   -8.76e+04    8.76e+04\n",
       "Lead Profile_Other Leads                               -21.8050   3.08e+04     -0.001      0.999   -6.03e+04    6.03e+04\n",
       "Lead Profile_Potential Lead                            -21.7730   3.08e+04     -0.001      0.999   -6.03e+04    6.03e+04\n",
       "Lead Profile_Student of SomeSchool                     -22.8475   3.08e+04     -0.001      0.999   -6.03e+04    6.03e+04\n",
       "Lead Profile_Unknown                                   -22.4125   3.08e+04     -0.001      0.999   -6.03e+04    6.03e+04\n",
       "Last Notable Activity_Email Bounced                    -23.9283   1.31e+05     -0.000      1.000   -2.57e+05    2.57e+05\n",
       "Last Notable Activity_Email Link Clicked               -24.2666   1.31e+05     -0.000      1.000   -2.57e+05    2.57e+05\n",
       "Last Notable Activity_Email Marked Spam                 -1.7206   1.53e+05  -1.12e-05      1.000      -3e+05       3e+05\n",
       "Last Notable Activity_Email Opened                     -24.0570   1.31e+05     -0.000      1.000   -2.57e+05    2.57e+05\n",
       "Last Notable Activity_Email Received                    -2.5636   1.85e+05  -1.38e-05      1.000   -3.63e+05    3.63e+05\n",
       "Last Notable Activity_Form Submitted on Website        -45.0977   1.85e+05     -0.000      1.000   -3.63e+05    3.63e+05\n",
       "Last Notable Activity_Had a Phone Conversation         -21.4442   1.31e+05     -0.000      1.000   -2.57e+05    2.57e+05\n",
       "Last Notable Activity_Modified                         -24.3648   1.31e+05     -0.000      1.000   -2.57e+05    2.57e+05\n",
       "Last Notable Activity_Olark Chat Conversation          -24.3829   1.31e+05     -0.000      1.000   -2.57e+05    2.57e+05\n",
       "Last Notable Activity_Page Visited on Website          -23.6995   1.31e+05     -0.000      1.000   -2.57e+05    2.57e+05\n",
       "Last Notable Activity_Resubscribed to emails             3.1271   1.85e+05   1.69e-05      1.000   -3.63e+05    3.63e+05\n",
       "Last Notable Activity_SMS Sent                         -23.1198   1.31e+05     -0.000      1.000   -2.57e+05    2.57e+05\n",
       "Last Notable Activity_Unreachable                      -21.2486   1.31e+05     -0.000      1.000   -2.57e+05    2.57e+05\n",
       "Last Notable Activity_Unsubscribed                     -22.9170   1.31e+05     -0.000      1.000   -2.57e+05    2.57e+05\n",
       "Last Notable Activity_View in browser link Clicked     -45.9251   1.85e+05     -0.000      1.000   -3.63e+05    3.63e+05\n",
       "========================================================================================================================\n",
       "\"\"\""
      ]
     },
     "execution_count": 22,
     "metadata": {},
     "output_type": "execute_result"
    }
   ],
   "source": [
    "# Initial Logistic regression model\n",
    "logm = sm.GLM(y_train,(sm.add_constant(X_train)), family = sm.families.Binomial())\n",
    "logm.fit().summary()"
   ]
  },
  {
   "cell_type": "code",
   "execution_count": 23,
   "metadata": {
    "colab": {},
    "colab_type": "code",
    "id": "-sylPmUR9hUW"
   },
   "outputs": [],
   "source": [
    "# Feature Selection using RFE\n",
    "logreg = LogisticRegression()\n",
    "rfe = RFE(logreg, 15)             # running RFE with 15 variables as output\n",
    "rfe = rfe.fit(X_train, y_train)"
   ]
  },
  {
   "cell_type": "code",
   "execution_count": 24,
   "metadata": {
    "colab": {
     "base_uri": "https://localhost:8080/",
     "height": 1000
    },
    "colab_type": "code",
    "id": "-49-LUycB8NX",
    "outputId": "d4aa0bd9-6cbd-413e-bc14-b969ca33670e"
   },
   "outputs": [
    {
     "data": {
      "text/plain": [
       "[('TotalVisits', False, 26),\n",
       " ('Total Time Spent on Website', True, 1),\n",
       " ('Page Views Per Visit', False, 27),\n",
       " ('Receive More Updates About Our Courses', False, 57),\n",
       " ('A free copy of Mastering The Interview', False, 42),\n",
       " ('Lead Origin_Landing Page Submission', False, 16),\n",
       " ('Lead Origin_Lead Add Form', True, 1),\n",
       " ('Lead Origin_Lead Import', True, 1),\n",
       " ('Lead Source_Direct Traffic', False, 31),\n",
       " ('Lead Source_Facebook', False, 35),\n",
       " ('Lead Source_Google', False, 33),\n",
       " ('Lead Source_Olark Chat', True, 1),\n",
       " ('Lead Source_Organic Search', False, 32),\n",
       " ('Lead Source_Reference', False, 36),\n",
       " ('Lead Source_Referral Sites', False, 18),\n",
       " ('Lead Source_Welingak Website', True, 1),\n",
       " ('Last Activity_Converted to Lead', False, 44),\n",
       " ('Last Activity_Email Link Clicked', False, 10),\n",
       " ('Last Activity_Email Opened', False, 6),\n",
       " ('Last Activity_Olark Chat Conversation', False, 15),\n",
       " ('Last Activity_Page Visited on Website', False, 47),\n",
       " ('Last Activity_SMS Sent', True, 1),\n",
       " ('Specialization_Business Administration', False, 38),\n",
       " ('Specialization_E-Business', False, 2),\n",
       " ('Specialization_E-COMMERCE', False, 30),\n",
       " ('Specialization_Finance Management', False, 40),\n",
       " ('Specialization_Healthcare Management', False, 39),\n",
       " ('Specialization_Hospitality Management', False, 23),\n",
       " ('Specialization_Human Resource Management', False, 41),\n",
       " ('Specialization_IT Projects Management', False, 54),\n",
       " ('Specialization_International Business', False, 24),\n",
       " ('Specialization_Marketing Management', False, 56),\n",
       " ('Specialization_Media and Advertising', False, 17),\n",
       " ('Specialization_Operations Management', False, 28),\n",
       " ('Specialization_Retail Management', False, 20),\n",
       " ('Specialization_Rural and Agribusiness', False, 52),\n",
       " ('Specialization_Services Excellence', False, 25),\n",
       " ('Specialization_Supply Chain Management', False, 51),\n",
       " ('Specialization_Travel and Tourism', False, 37),\n",
       " ('Specialization_Unknown', False, 21),\n",
       " ('What is your current occupation_Housewife', True, 1),\n",
       " ('What is your current occupation_Other', False, 46),\n",
       " ('What is your current occupation_Student', False, 48),\n",
       " ('What is your current occupation_Unemployed', False, 55),\n",
       " ('What is your current occupation_Unknown', False, 4),\n",
       " ('What is your current occupation_Working Professional', True, 1),\n",
       " ('Lead Quality_Low in Relevance', False, 14),\n",
       " ('Lead Quality_Might be', True, 1),\n",
       " ('Lead Quality_Not Sure', True, 1),\n",
       " ('Lead Quality_Unknown', True, 1),\n",
       " ('Lead Quality_Worst', True, 1),\n",
       " ('Lead Profile_Lateral Student', False, 13),\n",
       " ('Lead Profile_Other Leads', False, 34),\n",
       " ('Lead Profile_Potential Lead', False, 29),\n",
       " ('Lead Profile_Student of SomeSchool', False, 3),\n",
       " ('Lead Profile_Unknown', False, 8),\n",
       " ('Last Notable Activity_Email Bounced', False, 12),\n",
       " ('Last Notable Activity_Email Link Clicked', False, 9),\n",
       " ('Last Notable Activity_Email Marked Spam', False, 43),\n",
       " ('Last Notable Activity_Email Opened', False, 7),\n",
       " ('Last Notable Activity_Email Received', False, 49),\n",
       " ('Last Notable Activity_Form Submitted on Website', False, 50),\n",
       " ('Last Notable Activity_Had a Phone Conversation', False, 11),\n",
       " ('Last Notable Activity_Modified', True, 1),\n",
       " ('Last Notable Activity_Olark Chat Conversation', True, 1),\n",
       " ('Last Notable Activity_Page Visited on Website', False, 53),\n",
       " ('Last Notable Activity_Resubscribed to emails', False, 5),\n",
       " ('Last Notable Activity_SMS Sent', False, 19),\n",
       " ('Last Notable Activity_Unreachable', True, 1),\n",
       " ('Last Notable Activity_Unsubscribed', False, 22),\n",
       " ('Last Notable Activity_View in browser link Clicked', False, 45)]"
      ]
     },
     "execution_count": 24,
     "metadata": {},
     "output_type": "execute_result"
    }
   ],
   "source": [
    "# Listing and ranking the features by RFE\n",
    "list(zip(X_train.columns, rfe.support_, rfe.ranking_))"
   ]
  },
  {
   "cell_type": "code",
   "execution_count": 25,
   "metadata": {
    "colab": {
     "base_uri": "https://localhost:8080/",
     "height": 208
    },
    "colab_type": "code",
    "id": "nHeKIav0B8LE",
    "outputId": "4cca2156-b0ed-4862-aa1e-d529bbb9f9a3"
   },
   "outputs": [
    {
     "data": {
      "text/plain": [
       "Index(['Total Time Spent on Website', 'Lead Origin_Lead Add Form',\n",
       "       'Lead Origin_Lead Import', 'Lead Source_Olark Chat',\n",
       "       'Lead Source_Welingak Website', 'Last Activity_SMS Sent',\n",
       "       'What is your current occupation_Housewife',\n",
       "       'What is your current occupation_Working Professional',\n",
       "       'Lead Quality_Might be', 'Lead Quality_Not Sure',\n",
       "       'Lead Quality_Unknown', 'Lead Quality_Worst',\n",
       "       'Last Notable Activity_Modified',\n",
       "       'Last Notable Activity_Olark Chat Conversation',\n",
       "       'Last Notable Activity_Unreachable'],\n",
       "      dtype='object')"
      ]
     },
     "execution_count": 25,
     "metadata": {},
     "output_type": "execute_result"
    }
   ],
   "source": [
    "# Storin the list of selected variables for building the LR Model\n",
    "col = X_train.columns[rfe.support_]\n",
    "col"
   ]
  },
  {
   "cell_type": "markdown",
   "metadata": {
    "colab_type": "text",
    "id": "Ik6jIFBiDayF"
   },
   "source": [
    "### Model 1"
   ]
  },
  {
   "cell_type": "code",
   "execution_count": 26,
   "metadata": {
    "colab": {
     "base_uri": "https://localhost:8080/",
     "height": 594
    },
    "colab_type": "code",
    "id": "WVdz_u-nDXb2",
    "outputId": "abb34dea-9f87-4fc1-ef4b-ec7091ff51cc"
   },
   "outputs": [
    {
     "data": {
      "text/html": [
       "<table class=\"simpletable\">\n",
       "<caption>Generalized Linear Model Regression Results</caption>\n",
       "<tr>\n",
       "  <th>Dep. Variable:</th>       <td>Converted</td>    <th>  No. Observations:  </th>  <td>  5686</td> \n",
       "</tr>\n",
       "<tr>\n",
       "  <th>Model:</th>                  <td>GLM</td>       <th>  Df Residuals:      </th>  <td>  5670</td> \n",
       "</tr>\n",
       "<tr>\n",
       "  <th>Model Family:</th>        <td>Binomial</td>     <th>  Df Model:          </th>  <td>    15</td> \n",
       "</tr>\n",
       "<tr>\n",
       "  <th>Link Function:</th>         <td>logit</td>      <th>  Scale:             </th> <td>  1.0000</td>\n",
       "</tr>\n",
       "<tr>\n",
       "  <th>Method:</th>                <td>IRLS</td>       <th>  Log-Likelihood:    </th> <td> -1925.7</td>\n",
       "</tr>\n",
       "<tr>\n",
       "  <th>Date:</th>            <td>Mon, 07 Oct 2019</td> <th>  Deviance:          </th> <td>  3851.4</td>\n",
       "</tr>\n",
       "<tr>\n",
       "  <th>Time:</th>                <td>20:17:47</td>     <th>  Pearson chi2:      </th> <td>5.94e+03</td>\n",
       "</tr>\n",
       "<tr>\n",
       "  <th>No. Iterations:</th>         <td>21</td>        <th>                     </th>     <td> </td>   \n",
       "</tr>\n",
       "<tr>\n",
       "  <th>Covariance Type:</th>     <td>nonrobust</td>    <th>                     </th>     <td> </td>   \n",
       "</tr>\n",
       "</table>\n",
       "<table class=\"simpletable\">\n",
       "<tr>\n",
       "                            <td></td>                              <th>coef</th>     <th>std err</th>      <th>z</th>      <th>P>|z|</th>  <th>[0.025</th>    <th>0.975]</th>  \n",
       "</tr>\n",
       "<tr>\n",
       "  <th>const</th>                                                <td>    1.2225</td> <td>    0.143</td> <td>    8.547</td> <td> 0.000</td> <td>    0.942</td> <td>    1.503</td>\n",
       "</tr>\n",
       "<tr>\n",
       "  <th>Total Time Spent on Website</th>                          <td>    1.0736</td> <td>    0.048</td> <td>   22.453</td> <td> 0.000</td> <td>    0.980</td> <td>    1.167</td>\n",
       "</tr>\n",
       "<tr>\n",
       "  <th>Lead Origin_Lead Add Form</th>                            <td>    3.0162</td> <td>    0.284</td> <td>   10.636</td> <td> 0.000</td> <td>    2.460</td> <td>    3.572</td>\n",
       "</tr>\n",
       "<tr>\n",
       "  <th>Lead Origin_Lead Import</th>                              <td>    1.4107</td> <td>    0.655</td> <td>    2.153</td> <td> 0.031</td> <td>    0.126</td> <td>    2.695</td>\n",
       "</tr>\n",
       "<tr>\n",
       "  <th>Lead Source_Olark Chat</th>                               <td>    1.4486</td> <td>    0.119</td> <td>   12.214</td> <td> 0.000</td> <td>    1.216</td> <td>    1.681</td>\n",
       "</tr>\n",
       "<tr>\n",
       "  <th>Lead Source_Welingak Website</th>                         <td>    2.9088</td> <td>    0.777</td> <td>    3.746</td> <td> 0.000</td> <td>    1.387</td> <td>    4.431</td>\n",
       "</tr>\n",
       "<tr>\n",
       "  <th>Last Activity_SMS Sent</th>                               <td>    1.4265</td> <td>    0.091</td> <td>   15.679</td> <td> 0.000</td> <td>    1.248</td> <td>    1.605</td>\n",
       "</tr>\n",
       "<tr>\n",
       "  <th>What is your current occupation_Housewife</th>            <td>   21.5173</td> <td> 1.55e+04</td> <td>    0.001</td> <td> 0.999</td> <td>-3.04e+04</td> <td> 3.05e+04</td>\n",
       "</tr>\n",
       "<tr>\n",
       "  <th>What is your current occupation_Working Professional</th> <td>    1.7873</td> <td>    0.237</td> <td>    7.557</td> <td> 0.000</td> <td>    1.324</td> <td>    2.251</td>\n",
       "</tr>\n",
       "<tr>\n",
       "  <th>Lead Quality_Might be</th>                                <td>   -1.4431</td> <td>    0.169</td> <td>   -8.552</td> <td> 0.000</td> <td>   -1.774</td> <td>   -1.112</td>\n",
       "</tr>\n",
       "<tr>\n",
       "  <th>Lead Quality_Not Sure</th>                                <td>   -3.3701</td> <td>    0.181</td> <td>  -18.637</td> <td> 0.000</td> <td>   -3.724</td> <td>   -3.016</td>\n",
       "</tr>\n",
       "<tr>\n",
       "  <th>Lead Quality_Unknown</th>                                 <td>   -3.1762</td> <td>    0.149</td> <td>  -21.346</td> <td> 0.000</td> <td>   -3.468</td> <td>   -2.885</td>\n",
       "</tr>\n",
       "<tr>\n",
       "  <th>Lead Quality_Worst</th>                                   <td>   -5.0945</td> <td>    0.375</td> <td>  -13.582</td> <td> 0.000</td> <td>   -5.830</td> <td>   -4.359</td>\n",
       "</tr>\n",
       "<tr>\n",
       "  <th>Last Notable Activity_Modified</th>                       <td>   -1.0510</td> <td>    0.093</td> <td>  -11.358</td> <td> 0.000</td> <td>   -1.232</td> <td>   -0.870</td>\n",
       "</tr>\n",
       "<tr>\n",
       "  <th>Last Notable Activity_Olark Chat Conversation</th>        <td>   -1.3772</td> <td>    0.365</td> <td>   -3.770</td> <td> 0.000</td> <td>   -2.093</td> <td>   -0.661</td>\n",
       "</tr>\n",
       "<tr>\n",
       "  <th>Last Notable Activity_Unreachable</th>                    <td>    1.6669</td> <td>    0.711</td> <td>    2.346</td> <td> 0.019</td> <td>    0.274</td> <td>    3.060</td>\n",
       "</tr>\n",
       "</table>"
      ],
      "text/plain": [
       "<class 'statsmodels.iolib.summary.Summary'>\n",
       "\"\"\"\n",
       "                 Generalized Linear Model Regression Results                  \n",
       "==============================================================================\n",
       "Dep. Variable:              Converted   No. Observations:                 5686\n",
       "Model:                            GLM   Df Residuals:                     5670\n",
       "Model Family:                Binomial   Df Model:                           15\n",
       "Link Function:                  logit   Scale:                          1.0000\n",
       "Method:                          IRLS   Log-Likelihood:                -1925.7\n",
       "Date:                Mon, 07 Oct 2019   Deviance:                       3851.4\n",
       "Time:                        20:17:47   Pearson chi2:                 5.94e+03\n",
       "No. Iterations:                    21                                         \n",
       "Covariance Type:            nonrobust                                         \n",
       "========================================================================================================================\n",
       "                                                           coef    std err          z      P>|z|      [0.025      0.975]\n",
       "------------------------------------------------------------------------------------------------------------------------\n",
       "const                                                    1.2225      0.143      8.547      0.000       0.942       1.503\n",
       "Total Time Spent on Website                              1.0736      0.048     22.453      0.000       0.980       1.167\n",
       "Lead Origin_Lead Add Form                                3.0162      0.284     10.636      0.000       2.460       3.572\n",
       "Lead Origin_Lead Import                                  1.4107      0.655      2.153      0.031       0.126       2.695\n",
       "Lead Source_Olark Chat                                   1.4486      0.119     12.214      0.000       1.216       1.681\n",
       "Lead Source_Welingak Website                             2.9088      0.777      3.746      0.000       1.387       4.431\n",
       "Last Activity_SMS Sent                                   1.4265      0.091     15.679      0.000       1.248       1.605\n",
       "What is your current occupation_Housewife               21.5173   1.55e+04      0.001      0.999   -3.04e+04    3.05e+04\n",
       "What is your current occupation_Working Professional     1.7873      0.237      7.557      0.000       1.324       2.251\n",
       "Lead Quality_Might be                                   -1.4431      0.169     -8.552      0.000      -1.774      -1.112\n",
       "Lead Quality_Not Sure                                   -3.3701      0.181    -18.637      0.000      -3.724      -3.016\n",
       "Lead Quality_Unknown                                    -3.1762      0.149    -21.346      0.000      -3.468      -2.885\n",
       "Lead Quality_Worst                                      -5.0945      0.375    -13.582      0.000      -5.830      -4.359\n",
       "Last Notable Activity_Modified                          -1.0510      0.093    -11.358      0.000      -1.232      -0.870\n",
       "Last Notable Activity_Olark Chat Conversation           -1.3772      0.365     -3.770      0.000      -2.093      -0.661\n",
       "Last Notable Activity_Unreachable                        1.6669      0.711      2.346      0.019       0.274       3.060\n",
       "========================================================================================================================\n",
       "\"\"\""
      ]
     },
     "execution_count": 26,
     "metadata": {},
     "output_type": "execute_result"
    }
   ],
   "source": [
    "X_train_sm = sm.add_constant(X_train[col])\n",
    "logm1 = sm.GLM(y_train,X_train_sm, family = sm.families.Binomial())\n",
    "res = logm1.fit()\n",
    "res.summary()"
   ]
  },
  {
   "cell_type": "code",
   "execution_count": 27,
   "metadata": {
    "colab": {
     "base_uri": "https://localhost:8080/",
     "height": 520
    },
    "colab_type": "code",
    "id": "y3uvqAeJGsQL",
    "outputId": "6b9e88dd-15dc-45bd-e33f-1bfa16d16222"
   },
   "outputs": [
    {
     "data": {
      "text/html": [
       "<div>\n",
       "<style scoped>\n",
       "    .dataframe tbody tr th:only-of-type {\n",
       "        vertical-align: middle;\n",
       "    }\n",
       "\n",
       "    .dataframe tbody tr th {\n",
       "        vertical-align: top;\n",
       "    }\n",
       "\n",
       "    .dataframe thead th {\n",
       "        text-align: right;\n",
       "    }\n",
       "</style>\n",
       "<table border=\"1\" class=\"dataframe\">\n",
       "  <thead>\n",
       "    <tr style=\"text-align: right;\">\n",
       "      <th></th>\n",
       "      <th>Features</th>\n",
       "      <th>VIF</th>\n",
       "    </tr>\n",
       "  </thead>\n",
       "  <tbody>\n",
       "    <tr>\n",
       "      <th>10</th>\n",
       "      <td>Lead Quality_Unknown</td>\n",
       "      <td>1.95</td>\n",
       "    </tr>\n",
       "    <tr>\n",
       "      <th>5</th>\n",
       "      <td>Last Activity_SMS Sent</td>\n",
       "      <td>1.76</td>\n",
       "    </tr>\n",
       "    <tr>\n",
       "      <th>8</th>\n",
       "      <td>Lead Quality_Might be</td>\n",
       "      <td>1.70</td>\n",
       "    </tr>\n",
       "    <tr>\n",
       "      <th>12</th>\n",
       "      <td>Last Notable Activity_Modified</td>\n",
       "      <td>1.68</td>\n",
       "    </tr>\n",
       "    <tr>\n",
       "      <th>3</th>\n",
       "      <td>Lead Source_Olark Chat</td>\n",
       "      <td>1.62</td>\n",
       "    </tr>\n",
       "    <tr>\n",
       "      <th>1</th>\n",
       "      <td>Lead Origin_Lead Add Form</td>\n",
       "      <td>1.58</td>\n",
       "    </tr>\n",
       "    <tr>\n",
       "      <th>4</th>\n",
       "      <td>Lead Source_Welingak Website</td>\n",
       "      <td>1.35</td>\n",
       "    </tr>\n",
       "    <tr>\n",
       "      <th>7</th>\n",
       "      <td>What is your current occupation_Working Profes...</td>\n",
       "      <td>1.32</td>\n",
       "    </tr>\n",
       "    <tr>\n",
       "      <th>0</th>\n",
       "      <td>Total Time Spent on Website</td>\n",
       "      <td>1.31</td>\n",
       "    </tr>\n",
       "    <tr>\n",
       "      <th>9</th>\n",
       "      <td>Lead Quality_Not Sure</td>\n",
       "      <td>1.21</td>\n",
       "    </tr>\n",
       "    <tr>\n",
       "      <th>11</th>\n",
       "      <td>Lead Quality_Worst</td>\n",
       "      <td>1.13</td>\n",
       "    </tr>\n",
       "    <tr>\n",
       "      <th>13</th>\n",
       "      <td>Last Notable Activity_Olark Chat Conversation</td>\n",
       "      <td>1.09</td>\n",
       "    </tr>\n",
       "    <tr>\n",
       "      <th>2</th>\n",
       "      <td>Lead Origin_Lead Import</td>\n",
       "      <td>1.01</td>\n",
       "    </tr>\n",
       "    <tr>\n",
       "      <th>14</th>\n",
       "      <td>Last Notable Activity_Unreachable</td>\n",
       "      <td>1.01</td>\n",
       "    </tr>\n",
       "    <tr>\n",
       "      <th>6</th>\n",
       "      <td>What is your current occupation_Housewife</td>\n",
       "      <td>1.00</td>\n",
       "    </tr>\n",
       "  </tbody>\n",
       "</table>\n",
       "</div>"
      ],
      "text/plain": [
       "                                             Features   VIF\n",
       "10                               Lead Quality_Unknown  1.95\n",
       "5                              Last Activity_SMS Sent  1.76\n",
       "8                               Lead Quality_Might be  1.70\n",
       "12                     Last Notable Activity_Modified  1.68\n",
       "3                              Lead Source_Olark Chat  1.62\n",
       "1                           Lead Origin_Lead Add Form  1.58\n",
       "4                        Lead Source_Welingak Website  1.35\n",
       "7   What is your current occupation_Working Profes...  1.32\n",
       "0                         Total Time Spent on Website  1.31\n",
       "9                               Lead Quality_Not Sure  1.21\n",
       "11                                 Lead Quality_Worst  1.13\n",
       "13      Last Notable Activity_Olark Chat Conversation  1.09\n",
       "2                             Lead Origin_Lead Import  1.01\n",
       "14                  Last Notable Activity_Unreachable  1.01\n",
       "6           What is your current occupation_Housewife  1.00"
      ]
     },
     "execution_count": 27,
     "metadata": {},
     "output_type": "execute_result"
    }
   ],
   "source": [
    "# Create a dataframe that will contain the names of all the feature variables and their respective VIFs\n",
    "vif = pd.DataFrame()\n",
    "vif['Features'] = X_train[col].columns\n",
    "vif['VIF'] = [variance_inflation_factor(X_train[col].values, i) for i in range(X_train[col].shape[1])]\n",
    "vif['VIF'] = round(vif['VIF'], 2)\n",
    "vif = vif.sort_values(by = \"VIF\", ascending = False)\n",
    "vif"
   ]
  },
  {
   "cell_type": "code",
   "execution_count": 28,
   "metadata": {
    "colab": {
     "base_uri": "https://localhost:8080/",
     "height": 191
    },
    "colab_type": "code",
    "id": "V5XTta67DjsP",
    "outputId": "78d8b1fa-0b6d-4bf8-cbed-3a61a46dff3b"
   },
   "outputs": [
    {
     "data": {
      "text/plain": [
       "Index(['Total Time Spent on Website', 'Lead Origin_Lead Add Form',\n",
       "       'Lead Origin_Lead Import', 'Lead Source_Olark Chat',\n",
       "       'Lead Source_Welingak Website', 'Last Activity_SMS Sent',\n",
       "       'What is your current occupation_Working Professional',\n",
       "       'Lead Quality_Might be', 'Lead Quality_Not Sure',\n",
       "       'Lead Quality_Unknown', 'Lead Quality_Worst',\n",
       "       'Last Notable Activity_Modified',\n",
       "       'Last Notable Activity_Olark Chat Conversation',\n",
       "       'Last Notable Activity_Unreachable'],\n",
       "      dtype='object')"
      ]
     },
     "execution_count": 28,
     "metadata": {},
     "output_type": "execute_result"
    }
   ],
   "source": [
    "col1 = col.drop('What is your current occupation_Housewife',1)\n",
    "col1"
   ]
  },
  {
   "cell_type": "code",
   "execution_count": 29,
   "metadata": {
    "colab": {
     "base_uri": "https://localhost:8080/",
     "height": 573
    },
    "colab_type": "code",
    "id": "dFrbD0evFEk2",
    "outputId": "68846a50-dea3-4491-85d2-5c18bcf67507"
   },
   "outputs": [
    {
     "data": {
      "text/html": [
       "<table class=\"simpletable\">\n",
       "<caption>Generalized Linear Model Regression Results</caption>\n",
       "<tr>\n",
       "  <th>Dep. Variable:</th>       <td>Converted</td>    <th>  No. Observations:  </th>  <td>  5686</td> \n",
       "</tr>\n",
       "<tr>\n",
       "  <th>Model:</th>                  <td>GLM</td>       <th>  Df Residuals:      </th>  <td>  5671</td> \n",
       "</tr>\n",
       "<tr>\n",
       "  <th>Model Family:</th>        <td>Binomial</td>     <th>  Df Model:          </th>  <td>    14</td> \n",
       "</tr>\n",
       "<tr>\n",
       "  <th>Link Function:</th>         <td>logit</td>      <th>  Scale:             </th> <td>  1.0000</td>\n",
       "</tr>\n",
       "<tr>\n",
       "  <th>Method:</th>                <td>IRLS</td>       <th>  Log-Likelihood:    </th> <td> -1927.9</td>\n",
       "</tr>\n",
       "<tr>\n",
       "  <th>Date:</th>            <td>Mon, 07 Oct 2019</td> <th>  Deviance:          </th> <td>  3855.8</td>\n",
       "</tr>\n",
       "<tr>\n",
       "  <th>Time:</th>                <td>20:17:47</td>     <th>  Pearson chi2:      </th> <td>5.94e+03</td>\n",
       "</tr>\n",
       "<tr>\n",
       "  <th>No. Iterations:</th>          <td>7</td>        <th>                     </th>     <td> </td>   \n",
       "</tr>\n",
       "<tr>\n",
       "  <th>Covariance Type:</th>     <td>nonrobust</td>    <th>                     </th>     <td> </td>   \n",
       "</tr>\n",
       "</table>\n",
       "<table class=\"simpletable\">\n",
       "<tr>\n",
       "                            <td></td>                              <th>coef</th>     <th>std err</th>      <th>z</th>      <th>P>|z|</th>  <th>[0.025</th>    <th>0.975]</th>  \n",
       "</tr>\n",
       "<tr>\n",
       "  <th>const</th>                                                <td>    1.2386</td> <td>    0.143</td> <td>    8.675</td> <td> 0.000</td> <td>    0.959</td> <td>    1.518</td>\n",
       "</tr>\n",
       "<tr>\n",
       "  <th>Total Time Spent on Website</th>                          <td>    1.0730</td> <td>    0.048</td> <td>   22.453</td> <td> 0.000</td> <td>    0.979</td> <td>    1.167</td>\n",
       "</tr>\n",
       "<tr>\n",
       "  <th>Lead Origin_Lead Add Form</th>                            <td>    3.0166</td> <td>    0.283</td> <td>   10.645</td> <td> 0.000</td> <td>    2.461</td> <td>    3.572</td>\n",
       "</tr>\n",
       "<tr>\n",
       "  <th>Lead Origin_Lead Import</th>                              <td>    1.4038</td> <td>    0.656</td> <td>    2.139</td> <td> 0.032</td> <td>    0.118</td> <td>    2.690</td>\n",
       "</tr>\n",
       "<tr>\n",
       "  <th>Lead Source_Olark Chat</th>                               <td>    1.4452</td> <td>    0.119</td> <td>   12.190</td> <td> 0.000</td> <td>    1.213</td> <td>    1.678</td>\n",
       "</tr>\n",
       "<tr>\n",
       "  <th>Lead Source_Welingak Website</th>                         <td>    2.9070</td> <td>    0.777</td> <td>    3.744</td> <td> 0.000</td> <td>    1.385</td> <td>    4.429</td>\n",
       "</tr>\n",
       "<tr>\n",
       "  <th>Last Activity_SMS Sent</th>                               <td>    1.4232</td> <td>    0.091</td> <td>   15.646</td> <td> 0.000</td> <td>    1.245</td> <td>    1.601</td>\n",
       "</tr>\n",
       "<tr>\n",
       "  <th>What is your current occupation_Working Professional</th> <td>    1.7798</td> <td>    0.237</td> <td>    7.522</td> <td> 0.000</td> <td>    1.316</td> <td>    2.244</td>\n",
       "</tr>\n",
       "<tr>\n",
       "  <th>Lead Quality_Might be</th>                                <td>   -1.4512</td> <td>    0.169</td> <td>   -8.610</td> <td> 0.000</td> <td>   -1.782</td> <td>   -1.121</td>\n",
       "</tr>\n",
       "<tr>\n",
       "  <th>Lead Quality_Not Sure</th>                                <td>   -3.3840</td> <td>    0.181</td> <td>  -18.729</td> <td> 0.000</td> <td>   -3.738</td> <td>   -3.030</td>\n",
       "</tr>\n",
       "<tr>\n",
       "  <th>Lead Quality_Unknown</th>                                 <td>   -3.1909</td> <td>    0.149</td> <td>  -21.467</td> <td> 0.000</td> <td>   -3.482</td> <td>   -2.900</td>\n",
       "</tr>\n",
       "<tr>\n",
       "  <th>Lead Quality_Worst</th>                                   <td>   -5.1099</td> <td>    0.375</td> <td>  -13.626</td> <td> 0.000</td> <td>   -5.845</td> <td>   -4.375</td>\n",
       "</tr>\n",
       "<tr>\n",
       "  <th>Last Notable Activity_Modified</th>                       <td>   -1.0475</td> <td>    0.092</td> <td>  -11.333</td> <td> 0.000</td> <td>   -1.229</td> <td>   -0.866</td>\n",
       "</tr>\n",
       "<tr>\n",
       "  <th>Last Notable Activity_Olark Chat Conversation</th>        <td>   -1.3773</td> <td>    0.365</td> <td>   -3.770</td> <td> 0.000</td> <td>   -2.093</td> <td>   -0.661</td>\n",
       "</tr>\n",
       "<tr>\n",
       "  <th>Last Notable Activity_Unreachable</th>                    <td>    1.6634</td> <td>    0.711</td> <td>    2.339</td> <td> 0.019</td> <td>    0.270</td> <td>    3.057</td>\n",
       "</tr>\n",
       "</table>"
      ],
      "text/plain": [
       "<class 'statsmodels.iolib.summary.Summary'>\n",
       "\"\"\"\n",
       "                 Generalized Linear Model Regression Results                  \n",
       "==============================================================================\n",
       "Dep. Variable:              Converted   No. Observations:                 5686\n",
       "Model:                            GLM   Df Residuals:                     5671\n",
       "Model Family:                Binomial   Df Model:                           14\n",
       "Link Function:                  logit   Scale:                          1.0000\n",
       "Method:                          IRLS   Log-Likelihood:                -1927.9\n",
       "Date:                Mon, 07 Oct 2019   Deviance:                       3855.8\n",
       "Time:                        20:17:47   Pearson chi2:                 5.94e+03\n",
       "No. Iterations:                     7                                         \n",
       "Covariance Type:            nonrobust                                         \n",
       "========================================================================================================================\n",
       "                                                           coef    std err          z      P>|z|      [0.025      0.975]\n",
       "------------------------------------------------------------------------------------------------------------------------\n",
       "const                                                    1.2386      0.143      8.675      0.000       0.959       1.518\n",
       "Total Time Spent on Website                              1.0730      0.048     22.453      0.000       0.979       1.167\n",
       "Lead Origin_Lead Add Form                                3.0166      0.283     10.645      0.000       2.461       3.572\n",
       "Lead Origin_Lead Import                                  1.4038      0.656      2.139      0.032       0.118       2.690\n",
       "Lead Source_Olark Chat                                   1.4452      0.119     12.190      0.000       1.213       1.678\n",
       "Lead Source_Welingak Website                             2.9070      0.777      3.744      0.000       1.385       4.429\n",
       "Last Activity_SMS Sent                                   1.4232      0.091     15.646      0.000       1.245       1.601\n",
       "What is your current occupation_Working Professional     1.7798      0.237      7.522      0.000       1.316       2.244\n",
       "Lead Quality_Might be                                   -1.4512      0.169     -8.610      0.000      -1.782      -1.121\n",
       "Lead Quality_Not Sure                                   -3.3840      0.181    -18.729      0.000      -3.738      -3.030\n",
       "Lead Quality_Unknown                                    -3.1909      0.149    -21.467      0.000      -3.482      -2.900\n",
       "Lead Quality_Worst                                      -5.1099      0.375    -13.626      0.000      -5.845      -4.375\n",
       "Last Notable Activity_Modified                          -1.0475      0.092    -11.333      0.000      -1.229      -0.866\n",
       "Last Notable Activity_Olark Chat Conversation           -1.3773      0.365     -3.770      0.000      -2.093      -0.661\n",
       "Last Notable Activity_Unreachable                        1.6634      0.711      2.339      0.019       0.270       3.057\n",
       "========================================================================================================================\n",
       "\"\"\""
      ]
     },
     "execution_count": 29,
     "metadata": {},
     "output_type": "execute_result"
    }
   ],
   "source": [
    "# Model 2\n",
    "X_train_sm = sm.add_constant(X_train[col1])\n",
    "logm2 = sm.GLM(y_train,X_train_sm, family = sm.families.Binomial())\n",
    "res = logm2.fit()\n",
    "res.summary()"
   ]
  },
  {
   "cell_type": "code",
   "execution_count": 30,
   "metadata": {
    "colab": {
     "base_uri": "https://localhost:8080/",
     "height": 489
    },
    "colab_type": "code",
    "id": "5B0kBh-RFSRS",
    "outputId": "096722c7-21bc-486a-8c76-93f3d58513fb"
   },
   "outputs": [
    {
     "data": {
      "text/html": [
       "<div>\n",
       "<style scoped>\n",
       "    .dataframe tbody tr th:only-of-type {\n",
       "        vertical-align: middle;\n",
       "    }\n",
       "\n",
       "    .dataframe tbody tr th {\n",
       "        vertical-align: top;\n",
       "    }\n",
       "\n",
       "    .dataframe thead th {\n",
       "        text-align: right;\n",
       "    }\n",
       "</style>\n",
       "<table border=\"1\" class=\"dataframe\">\n",
       "  <thead>\n",
       "    <tr style=\"text-align: right;\">\n",
       "      <th></th>\n",
       "      <th>Features</th>\n",
       "      <th>VIF</th>\n",
       "    </tr>\n",
       "  </thead>\n",
       "  <tbody>\n",
       "    <tr>\n",
       "      <th>9</th>\n",
       "      <td>Lead Quality_Unknown</td>\n",
       "      <td>1.95</td>\n",
       "    </tr>\n",
       "    <tr>\n",
       "      <th>5</th>\n",
       "      <td>Last Activity_SMS Sent</td>\n",
       "      <td>1.76</td>\n",
       "    </tr>\n",
       "    <tr>\n",
       "      <th>7</th>\n",
       "      <td>Lead Quality_Might be</td>\n",
       "      <td>1.70</td>\n",
       "    </tr>\n",
       "    <tr>\n",
       "      <th>11</th>\n",
       "      <td>Last Notable Activity_Modified</td>\n",
       "      <td>1.68</td>\n",
       "    </tr>\n",
       "    <tr>\n",
       "      <th>3</th>\n",
       "      <td>Lead Source_Olark Chat</td>\n",
       "      <td>1.62</td>\n",
       "    </tr>\n",
       "    <tr>\n",
       "      <th>1</th>\n",
       "      <td>Lead Origin_Lead Add Form</td>\n",
       "      <td>1.58</td>\n",
       "    </tr>\n",
       "    <tr>\n",
       "      <th>4</th>\n",
       "      <td>Lead Source_Welingak Website</td>\n",
       "      <td>1.35</td>\n",
       "    </tr>\n",
       "    <tr>\n",
       "      <th>6</th>\n",
       "      <td>What is your current occupation_Working Profes...</td>\n",
       "      <td>1.32</td>\n",
       "    </tr>\n",
       "    <tr>\n",
       "      <th>0</th>\n",
       "      <td>Total Time Spent on Website</td>\n",
       "      <td>1.31</td>\n",
       "    </tr>\n",
       "    <tr>\n",
       "      <th>8</th>\n",
       "      <td>Lead Quality_Not Sure</td>\n",
       "      <td>1.21</td>\n",
       "    </tr>\n",
       "    <tr>\n",
       "      <th>10</th>\n",
       "      <td>Lead Quality_Worst</td>\n",
       "      <td>1.13</td>\n",
       "    </tr>\n",
       "    <tr>\n",
       "      <th>12</th>\n",
       "      <td>Last Notable Activity_Olark Chat Conversation</td>\n",
       "      <td>1.09</td>\n",
       "    </tr>\n",
       "    <tr>\n",
       "      <th>2</th>\n",
       "      <td>Lead Origin_Lead Import</td>\n",
       "      <td>1.01</td>\n",
       "    </tr>\n",
       "    <tr>\n",
       "      <th>13</th>\n",
       "      <td>Last Notable Activity_Unreachable</td>\n",
       "      <td>1.01</td>\n",
       "    </tr>\n",
       "  </tbody>\n",
       "</table>\n",
       "</div>"
      ],
      "text/plain": [
       "                                             Features   VIF\n",
       "9                                Lead Quality_Unknown  1.95\n",
       "5                              Last Activity_SMS Sent  1.76\n",
       "7                               Lead Quality_Might be  1.70\n",
       "11                     Last Notable Activity_Modified  1.68\n",
       "3                              Lead Source_Olark Chat  1.62\n",
       "1                           Lead Origin_Lead Add Form  1.58\n",
       "4                        Lead Source_Welingak Website  1.35\n",
       "6   What is your current occupation_Working Profes...  1.32\n",
       "0                         Total Time Spent on Website  1.31\n",
       "8                               Lead Quality_Not Sure  1.21\n",
       "10                                 Lead Quality_Worst  1.13\n",
       "12      Last Notable Activity_Olark Chat Conversation  1.09\n",
       "2                             Lead Origin_Lead Import  1.01\n",
       "13                  Last Notable Activity_Unreachable  1.01"
      ]
     },
     "execution_count": 30,
     "metadata": {},
     "output_type": "execute_result"
    }
   ],
   "source": [
    "# Create a dataframe that will contain the names of all the feature variables and their respective VIFs\n",
    "vif = pd.DataFrame()\n",
    "vif['Features'] = X_train[col1].columns\n",
    "vif['VIF'] = [variance_inflation_factor(X_train[col1].values, i) for i in range(X_train[col1].shape[1])]\n",
    "vif['VIF'] = round(vif['VIF'], 2)\n",
    "vif = vif.sort_values(by = \"VIF\", ascending = False)\n",
    "vif"
   ]
  },
  {
   "cell_type": "markdown",
   "metadata": {
    "colab_type": "text",
    "id": "AHvoo1aZ0MkB"
   },
   "source": [
    "## 2.4 Comparing the model output with train dataset output"
   ]
  },
  {
   "cell_type": "code",
   "execution_count": 31,
   "metadata": {
    "colab": {
     "base_uri": "https://localhost:8080/",
     "height": 0
    },
    "colab_type": "code",
    "id": "S1rlBWGjK6Je",
    "outputId": "9fcb57b6-d6ce-4799-c3b7-43b7a6120245"
   },
   "outputs": [
    {
     "data": {
      "text/html": [
       "<div>\n",
       "<style scoped>\n",
       "    .dataframe tbody tr th:only-of-type {\n",
       "        vertical-align: middle;\n",
       "    }\n",
       "\n",
       "    .dataframe tbody tr th {\n",
       "        vertical-align: top;\n",
       "    }\n",
       "\n",
       "    .dataframe thead th {\n",
       "        text-align: right;\n",
       "    }\n",
       "</style>\n",
       "<table border=\"1\" class=\"dataframe\">\n",
       "  <thead>\n",
       "    <tr style=\"text-align: right;\">\n",
       "      <th></th>\n",
       "      <th>Converted</th>\n",
       "      <th>Conv_prob</th>\n",
       "      <th>Lead_number</th>\n",
       "    </tr>\n",
       "  </thead>\n",
       "  <tbody>\n",
       "    <tr>\n",
       "      <th>0</th>\n",
       "      <td>0</td>\n",
       "      <td>0.432561</td>\n",
       "      <td>3994</td>\n",
       "    </tr>\n",
       "    <tr>\n",
       "      <th>1</th>\n",
       "      <td>0</td>\n",
       "      <td>0.098457</td>\n",
       "      <td>897</td>\n",
       "    </tr>\n",
       "    <tr>\n",
       "      <th>2</th>\n",
       "      <td>1</td>\n",
       "      <td>0.820911</td>\n",
       "      <td>4030</td>\n",
       "    </tr>\n",
       "    <tr>\n",
       "      <th>3</th>\n",
       "      <td>0</td>\n",
       "      <td>0.048830</td>\n",
       "      <td>4530</td>\n",
       "    </tr>\n",
       "    <tr>\n",
       "      <th>4</th>\n",
       "      <td>0</td>\n",
       "      <td>0.097580</td>\n",
       "      <td>1452</td>\n",
       "    </tr>\n",
       "  </tbody>\n",
       "</table>\n",
       "</div>"
      ],
      "text/plain": [
       "   Converted  Conv_prob  Lead_number\n",
       "0          0   0.432561         3994\n",
       "1          0   0.098457          897\n",
       "2          1   0.820911         4030\n",
       "3          0   0.048830         4530\n",
       "4          0   0.097580         1452"
      ]
     },
     "execution_count": 31,
     "metadata": {},
     "output_type": "execute_result"
    }
   ],
   "source": [
    "# Getting the predicted values on the train set\n",
    "y_train_pred = res.predict(X_train_sm)\n",
    "y_train_pred = y_train_pred.values.reshape(-1)\n",
    "\n",
    "y_train_pred_final = pd.DataFrame({'Converted':y_train.values, 'Conv_prob':y_train_pred})\n",
    "y_train_pred_final['Lead_number'] = y_train.index\n",
    "y_train_pred_final.head()"
   ]
  },
  {
   "cell_type": "code",
   "execution_count": 32,
   "metadata": {
    "colab": {
     "base_uri": "https://localhost:8080/",
     "height": 0
    },
    "colab_type": "code",
    "id": "7qdfcK933taL",
    "outputId": "982ba987-4dff-45b0-a1c4-f276f5da2f92"
   },
   "outputs": [
    {
     "data": {
      "text/html": [
       "<div>\n",
       "<style scoped>\n",
       "    .dataframe tbody tr th:only-of-type {\n",
       "        vertical-align: middle;\n",
       "    }\n",
       "\n",
       "    .dataframe tbody tr th {\n",
       "        vertical-align: top;\n",
       "    }\n",
       "\n",
       "    .dataframe thead th {\n",
       "        text-align: right;\n",
       "    }\n",
       "</style>\n",
       "<table border=\"1\" class=\"dataframe\">\n",
       "  <thead>\n",
       "    <tr style=\"text-align: right;\">\n",
       "      <th></th>\n",
       "      <th>Converted</th>\n",
       "      <th>Conv_prob</th>\n",
       "      <th>Lead_number</th>\n",
       "      <th>predicted</th>\n",
       "    </tr>\n",
       "  </thead>\n",
       "  <tbody>\n",
       "    <tr>\n",
       "      <th>0</th>\n",
       "      <td>0</td>\n",
       "      <td>0.432561</td>\n",
       "      <td>3994</td>\n",
       "      <td>0</td>\n",
       "    </tr>\n",
       "    <tr>\n",
       "      <th>1</th>\n",
       "      <td>0</td>\n",
       "      <td>0.098457</td>\n",
       "      <td>897</td>\n",
       "      <td>0</td>\n",
       "    </tr>\n",
       "    <tr>\n",
       "      <th>2</th>\n",
       "      <td>1</td>\n",
       "      <td>0.820911</td>\n",
       "      <td>4030</td>\n",
       "      <td>1</td>\n",
       "    </tr>\n",
       "    <tr>\n",
       "      <th>3</th>\n",
       "      <td>0</td>\n",
       "      <td>0.048830</td>\n",
       "      <td>4530</td>\n",
       "      <td>0</td>\n",
       "    </tr>\n",
       "    <tr>\n",
       "      <th>4</th>\n",
       "      <td>0</td>\n",
       "      <td>0.097580</td>\n",
       "      <td>1452</td>\n",
       "      <td>0</td>\n",
       "    </tr>\n",
       "  </tbody>\n",
       "</table>\n",
       "</div>"
      ],
      "text/plain": [
       "   Converted  Conv_prob  Lead_number  predicted\n",
       "0          0   0.432561         3994          0\n",
       "1          0   0.098457          897          0\n",
       "2          1   0.820911         4030          1\n",
       "3          0   0.048830         4530          0\n",
       "4          0   0.097580         1452          0"
      ]
     },
     "execution_count": 32,
     "metadata": {},
     "output_type": "execute_result"
    }
   ],
   "source": [
    "# Creating new column 'predicted' with 1 if Churn_Prob > 0.5 else 0\n",
    "y_train_pred_final['predicted'] = y_train_pred_final.Conv_prob.map(lambda x: 1 if x > 0.5 else 0)\n",
    "y_train_pred_final.head(5)"
   ]
  },
  {
   "cell_type": "code",
   "execution_count": 33,
   "metadata": {
    "colab": {
     "base_uri": "https://localhost:8080/",
     "height": 0
    },
    "colab_type": "code",
    "id": "38YTqJnL3tPg",
    "outputId": "44ef4dc3-3d80-4d7d-d80a-bc38f54ef746"
   },
   "outputs": [
    {
     "name": "stdout",
     "output_type": "stream",
     "text": [
      "0.8510376362996834\n"
     ]
    }
   ],
   "source": [
    "# Let's check the overall accuracy.\n",
    "print(metrics.accuracy_score(y_train_pred_final.Converted, y_train_pred_final.predicted))"
   ]
  },
  {
   "cell_type": "code",
   "execution_count": 34,
   "metadata": {
    "colab": {
     "base_uri": "https://localhost:8080/",
     "height": 0
    },
    "colab_type": "code",
    "id": "wWqS6ERb3tGc",
    "outputId": "7c68ff8b-ade4-4862-ec96-430f556c4bad"
   },
   "outputs": [
    {
     "name": "stdout",
     "output_type": "stream",
     "text": [
      "[[3221  303]\n",
      " [ 544 1618]]\n"
     ]
    }
   ],
   "source": [
    "# Confusion matrix \n",
    "confusion = metrics.confusion_matrix(y_train_pred_final.Converted, y_train_pred_final.predicted )\n",
    "print(confusion)"
   ]
  },
  {
   "cell_type": "code",
   "execution_count": 35,
   "metadata": {
    "colab": {},
    "colab_type": "code",
    "id": "U3qbja8q3s-3"
   },
   "outputs": [],
   "source": [
    "TP = confusion[1,1] # true positive \n",
    "TN = confusion[0,0] # true negatives\n",
    "FP = confusion[0,1] # false positives\n",
    "FN = confusion[1,0] # false negatives"
   ]
  },
  {
   "cell_type": "code",
   "execution_count": 36,
   "metadata": {
    "colab": {
     "base_uri": "https://localhost:8080/",
     "height": 0
    },
    "colab_type": "code",
    "id": "m-8N7WvC3s3K",
    "outputId": "c7877337-abc2-4173-e851-ec1186e55e2c"
   },
   "outputs": [
    {
     "data": {
      "text/plain": [
       "0.7483811285846439"
      ]
     },
     "execution_count": 36,
     "metadata": {},
     "output_type": "execute_result"
    }
   ],
   "source": [
    "# Let's see the sensitivity of our logistic regression model\n",
    "TP / float(TP+FN)"
   ]
  },
  {
   "cell_type": "code",
   "execution_count": 37,
   "metadata": {
    "colab": {
     "base_uri": "https://localhost:8080/",
     "height": 0
    },
    "colab_type": "code",
    "id": "E7liSfBW3svn",
    "outputId": "541d2dfc-9864-4c1a-c7fb-416581fdaed1"
   },
   "outputs": [
    {
     "data": {
      "text/plain": [
       "0.9140181611804767"
      ]
     },
     "execution_count": 37,
     "metadata": {},
     "output_type": "execute_result"
    }
   ],
   "source": [
    "# Let us calculate specificity\n",
    "TN / float(TN+FP)"
   ]
  },
  {
   "cell_type": "code",
   "execution_count": 38,
   "metadata": {
    "colab": {
     "base_uri": "https://localhost:8080/",
     "height": 0
    },
    "colab_type": "code",
    "id": "dSPJRC0-3soG",
    "outputId": "04d2ae66-d52f-4998-f360-41840c08e114"
   },
   "outputs": [
    {
     "name": "stdout",
     "output_type": "stream",
     "text": [
      "0.08598183881952327\n"
     ]
    }
   ],
   "source": [
    "# Calculate false positive rate - predicting churn when customer does not have churned\n",
    "print(FP/ float(TN+FP))"
   ]
  },
  {
   "cell_type": "code",
   "execution_count": 39,
   "metadata": {
    "colab": {
     "base_uri": "https://localhost:8080/",
     "height": 0
    },
    "colab_type": "code",
    "id": "DOqrJB3B3shj",
    "outputId": "acc21d04-f34f-47c6-e0ea-18e202ac2fcf"
   },
   "outputs": [
    {
     "name": "stdout",
     "output_type": "stream",
     "text": [
      "0.8422696512233212\n"
     ]
    }
   ],
   "source": [
    "# positive predictive value \n",
    "print (TP / float(TP+FP))"
   ]
  },
  {
   "cell_type": "code",
   "execution_count": 40,
   "metadata": {
    "colab": {
     "base_uri": "https://localhost:8080/",
     "height": 0
    },
    "colab_type": "code",
    "id": "OnpP7qcE3saq",
    "outputId": "70f089ac-0c0b-4d71-9d77-be023c96e492"
   },
   "outputs": [
    {
     "name": "stdout",
     "output_type": "stream",
     "text": [
      "0.8555112881806108\n"
     ]
    }
   ],
   "source": [
    "# Negative predictive value\n",
    "print (TN / float(TN+ FN))"
   ]
  },
  {
   "cell_type": "markdown",
   "metadata": {
    "colab_type": "text",
    "id": "8Qs4NRGG3sTS"
   },
   "source": [
    "### Plotting ROC curve"
   ]
  },
  {
   "cell_type": "code",
   "execution_count": 41,
   "metadata": {
    "colab": {},
    "colab_type": "code",
    "id": "rz-0mshE3sLD"
   },
   "outputs": [],
   "source": [
    "def draw_roc( actual, probs ):\n",
    "    fpr, tpr, thresholds = metrics.roc_curve( actual, probs,drop_intermediate = False )\n",
    "    auc_score = metrics.roc_auc_score( actual, probs )\n",
    "    plt.figure(figsize=(5, 5))\n",
    "    plt.plot( fpr, tpr, label='ROC curve (area = %0.2f)' % auc_score )\n",
    "    plt.plot([0, 1], [0, 1], 'k--')\n",
    "    plt.xlim([0.0, 1.0])\n",
    "    plt.ylim([0.0, 1.05])\n",
    "    plt.xlabel('False Positive Rate or [1 - True Negative Rate]')\n",
    "    plt.ylabel('True Positive Rate')\n",
    "    plt.title('Receiver operating characteristic example')\n",
    "    plt.legend(loc=\"lower right\")\n",
    "    plt.show()\n",
    "\n",
    "    return None"
   ]
  },
  {
   "cell_type": "code",
   "execution_count": 42,
   "metadata": {
    "colab": {},
    "colab_type": "code",
    "id": "uj5H0dO73sCs"
   },
   "outputs": [],
   "source": [
    "fpr, tpr, thresholds = metrics.roc_curve( y_train_pred_final.Converted, y_train_pred_final.Conv_prob, drop_intermediate = False )"
   ]
  },
  {
   "cell_type": "code",
   "execution_count": 43,
   "metadata": {
    "colab": {
     "base_uri": "https://localhost:8080/",
     "height": 0
    },
    "colab_type": "code",
    "id": "CQ0EiSNh3ro5",
    "outputId": "1e22cf23-7402-4414-8dba-8e7cb8585cd5"
   },
   "outputs": [
    {
     "data": {
      "image/png": "[encoded data removed]",
      "text/plain": [
       "<Figure size 360x360 with 1 Axes>"
      ]
     },
     "metadata": {
      "needs_background": "light"
     },
     "output_type": "display_data"
    }
   ],
   "source": [
    "draw_roc(y_train_pred_final.Converted, y_train_pred_final.Conv_prob)"
   ]
  },
  {
   "cell_type": "markdown",
   "metadata": {
    "colab_type": "text",
    "id": "7tjnBGSxQYJ5"
   },
   "source": [
    "## 2.5 Finding Optimal cutoff Point"
   ]
  },
  {
   "cell_type": "code",
   "execution_count": 44,
   "metadata": {
    "colab": {
     "base_uri": "https://localhost:8080/",
     "height": 0
    },
    "colab_type": "code",
    "id": "lT_OBZgMQc9K",
    "outputId": "5c43da12-b7af-4bd0-d722-4a39c58488c1"
   },
   "outputs": [
    {
     "data": {
      "text/html": [
       "<div>\n",
       "<style scoped>\n",
       "    .dataframe tbody tr th:only-of-type {\n",
       "        vertical-align: middle;\n",
       "    }\n",
       "\n",
       "    .dataframe tbody tr th {\n",
       "        vertical-align: top;\n",
       "    }\n",
       "\n",
       "    .dataframe thead th {\n",
       "        text-align: right;\n",
       "    }\n",
       "</style>\n",
       "<table border=\"1\" class=\"dataframe\">\n",
       "  <thead>\n",
       "    <tr style=\"text-align: right;\">\n",
       "      <th></th>\n",
       "      <th>Converted</th>\n",
       "      <th>Conv_prob</th>\n",
       "      <th>Lead_number</th>\n",
       "      <th>predicted</th>\n",
       "      <th>0.0</th>\n",
       "      <th>0.1</th>\n",
       "      <th>0.2</th>\n",
       "      <th>0.3</th>\n",
       "      <th>0.4</th>\n",
       "      <th>0.5</th>\n",
       "      <th>0.6</th>\n",
       "      <th>0.7</th>\n",
       "      <th>0.8</th>\n",
       "      <th>0.9</th>\n",
       "    </tr>\n",
       "  </thead>\n",
       "  <tbody>\n",
       "    <tr>\n",
       "      <th>0</th>\n",
       "      <td>0</td>\n",
       "      <td>0.432561</td>\n",
       "      <td>3994</td>\n",
       "      <td>0</td>\n",
       "      <td>1</td>\n",
       "      <td>1</td>\n",
       "      <td>1</td>\n",
       "      <td>1</td>\n",
       "      <td>1</td>\n",
       "      <td>0</td>\n",
       "      <td>0</td>\n",
       "      <td>0</td>\n",
       "      <td>0</td>\n",
       "      <td>0</td>\n",
       "    </tr>\n",
       "    <tr>\n",
       "      <th>1</th>\n",
       "      <td>0</td>\n",
       "      <td>0.098457</td>\n",
       "      <td>897</td>\n",
       "      <td>0</td>\n",
       "      <td>1</td>\n",
       "      <td>0</td>\n",
       "      <td>0</td>\n",
       "      <td>0</td>\n",
       "      <td>0</td>\n",
       "      <td>0</td>\n",
       "      <td>0</td>\n",
       "      <td>0</td>\n",
       "      <td>0</td>\n",
       "      <td>0</td>\n",
       "    </tr>\n",
       "    <tr>\n",
       "      <th>2</th>\n",
       "      <td>1</td>\n",
       "      <td>0.820911</td>\n",
       "      <td>4030</td>\n",
       "      <td>1</td>\n",
       "      <td>1</td>\n",
       "      <td>1</td>\n",
       "      <td>1</td>\n",
       "      <td>1</td>\n",
       "      <td>1</td>\n",
       "      <td>1</td>\n",
       "      <td>1</td>\n",
       "      <td>1</td>\n",
       "      <td>1</td>\n",
       "      <td>0</td>\n",
       "    </tr>\n",
       "    <tr>\n",
       "      <th>3</th>\n",
       "      <td>0</td>\n",
       "      <td>0.048830</td>\n",
       "      <td>4530</td>\n",
       "      <td>0</td>\n",
       "      <td>1</td>\n",
       "      <td>0</td>\n",
       "      <td>0</td>\n",
       "      <td>0</td>\n",
       "      <td>0</td>\n",
       "      <td>0</td>\n",
       "      <td>0</td>\n",
       "      <td>0</td>\n",
       "      <td>0</td>\n",
       "      <td>0</td>\n",
       "    </tr>\n",
       "    <tr>\n",
       "      <th>4</th>\n",
       "      <td>0</td>\n",
       "      <td>0.097580</td>\n",
       "      <td>1452</td>\n",
       "      <td>0</td>\n",
       "      <td>1</td>\n",
       "      <td>0</td>\n",
       "      <td>0</td>\n",
       "      <td>0</td>\n",
       "      <td>0</td>\n",
       "      <td>0</td>\n",
       "      <td>0</td>\n",
       "      <td>0</td>\n",
       "      <td>0</td>\n",
       "      <td>0</td>\n",
       "    </tr>\n",
       "  </tbody>\n",
       "</table>\n",
       "</div>"
      ],
      "text/plain": [
       "   Converted  Conv_prob  Lead_number  predicted  0.0  0.1  0.2  0.3  0.4  0.5  \\\n",
       "0          0   0.432561         3994          0    1    1    1    1    1    0   \n",
       "1          0   0.098457          897          0    1    0    0    0    0    0   \n",
       "2          1   0.820911         4030          1    1    1    1    1    1    1   \n",
       "3          0   0.048830         4530          0    1    0    0    0    0    0   \n",
       "4          0   0.097580         1452          0    1    0    0    0    0    0   \n",
       "\n",
       "   0.6  0.7  0.8  0.9  \n",
       "0    0    0    0    0  \n",
       "1    0    0    0    0  \n",
       "2    1    1    1    0  \n",
       "3    0    0    0    0  \n",
       "4    0    0    0    0  "
      ]
     },
     "execution_count": 44,
     "metadata": {},
     "output_type": "execute_result"
    }
   ],
   "source": [
    "# Let's create columns with different probability cutoffs \n",
    "numbers = [float(x)/10 for x in range(10)]\n",
    "for i in numbers:\n",
    "    y_train_pred_final[i]= y_train_pred_final.Conv_prob.map(lambda x: 1 if x > i else 0)\n",
    "y_train_pred_final.head()"
   ]
  },
  {
   "cell_type": "code",
   "execution_count": 45,
   "metadata": {
    "colab": {
     "base_uri": "https://localhost:8080/",
     "height": 0
    },
    "colab_type": "code",
    "id": "xu7DGoncQlIU",
    "outputId": "82495695-9cba-479d-dd78-890f79f3d675"
   },
   "outputs": [
    {
     "name": "stdout",
     "output_type": "stream",
     "text": [
      "     prob  accuracy     sensi     speci\n",
      "0.0   0.0  0.380232  1.000000  0.000000\n",
      "0.1   0.1  0.733380  0.963922  0.591941\n",
      "0.2   0.2  0.815336  0.900555  0.763053\n",
      "0.3   0.3  0.840134  0.853839  0.831725\n",
      "0.4   0.4  0.854027  0.818224  0.875993\n",
      "0.5   0.5  0.851038  0.748381  0.914018\n",
      "0.6   0.6  0.849103  0.704903  0.937571\n",
      "0.7   0.7  0.836792  0.638298  0.958570\n",
      "0.8   0.8  0.819205  0.569380  0.972474\n",
      "0.9   0.9  0.780162  0.443571  0.986663\n"
     ]
    }
   ],
   "source": [
    "# Now let's calculate accuracy, sensitivity and specificity for various probability cutoffs.\n",
    "cutoff_df = pd.DataFrame( columns = ['prob','accuracy','sensi','speci'])\n",
    "from sklearn.metrics import confusion_matrix\n",
    "\n",
    "# TP = confusion[1,1] # true positive \n",
    "# TN = confusion[0,0] # true negatives\n",
    "# FP = confusion[0,1] # false positives\n",
    "# FN = confusion[1,0] # false negatives\n",
    "\n",
    "num = [0.0,0.1,0.2,0.3,0.4,0.5,0.6,0.7,0.8,0.9]\n",
    "for i in num:\n",
    "    cm1 = metrics.confusion_matrix(y_train_pred_final.Converted, y_train_pred_final[i] )\n",
    "    total1=sum(sum(cm1))\n",
    "    accuracy = (cm1[0,0]+cm1[1,1])/total1\n",
    "    \n",
    "    speci = cm1[0,0]/(cm1[0,0]+cm1[0,1])\n",
    "    sensi = cm1[1,1]/(cm1[1,0]+cm1[1,1])\n",
    "    cutoff_df.loc[i] =[ i ,accuracy,sensi,speci]\n",
    "print(cutoff_df)"
   ]
  },
  {
   "cell_type": "code",
   "execution_count": 46,
   "metadata": {
    "colab": {
     "base_uri": "https://localhost:8080/",
     "height": 0
    },
    "colab_type": "code",
    "id": "CgR08lSSQ1Vx",
    "outputId": "bd59365e-5119-42b1-dfde-1d8423ae55ac"
   },
   "outputs": [
    {
     "data": {
      "image/png": "[encoded data removed]",
      "text/plain": [
       "<Figure size 432x288 with 1 Axes>"
      ]
     },
     "metadata": {
      "needs_background": "light"
     },
     "output_type": "display_data"
    }
   ],
   "source": [
    "# Let's plot accuracy, sensitivity and specificity for various probabilities.\n",
    "cutoff_df.plot.line(x='prob', y=['accuracy','sensi','speci'], )\n",
    "plt.show()"
   ]
  },
  {
   "cell_type": "markdown",
   "metadata": {
    "colab_type": "text",
    "id": "2EFsrapz3S0S"
   },
   "source": [
    "## 2.6 Re-evaluating the metrics using 32.5% as cutoff score"
   ]
  },
  {
   "cell_type": "code",
   "execution_count": 47,
   "metadata": {
    "colab": {
     "base_uri": "https://localhost:8080/",
     "height": 206
    },
    "colab_type": "code",
    "id": "mylWqHPeQ48F",
    "outputId": "493845b9-3e64-4ff1-ef89-e8270f02a5c6"
   },
   "outputs": [
    {
     "data": {
      "text/html": [
       "<div>\n",
       "<style scoped>\n",
       "    .dataframe tbody tr th:only-of-type {\n",
       "        vertical-align: middle;\n",
       "    }\n",
       "\n",
       "    .dataframe tbody tr th {\n",
       "        vertical-align: top;\n",
       "    }\n",
       "\n",
       "    .dataframe thead th {\n",
       "        text-align: right;\n",
       "    }\n",
       "</style>\n",
       "<table border=\"1\" class=\"dataframe\">\n",
       "  <thead>\n",
       "    <tr style=\"text-align: right;\">\n",
       "      <th></th>\n",
       "      <th>Converted</th>\n",
       "      <th>Conv_prob</th>\n",
       "      <th>Lead_number</th>\n",
       "      <th>predicted</th>\n",
       "      <th>0.0</th>\n",
       "      <th>0.1</th>\n",
       "      <th>0.2</th>\n",
       "      <th>0.3</th>\n",
       "      <th>0.4</th>\n",
       "      <th>0.5</th>\n",
       "      <th>0.6</th>\n",
       "      <th>0.7</th>\n",
       "      <th>0.8</th>\n",
       "      <th>0.9</th>\n",
       "      <th>final_predicted</th>\n",
       "    </tr>\n",
       "  </thead>\n",
       "  <tbody>\n",
       "    <tr>\n",
       "      <th>0</th>\n",
       "      <td>0</td>\n",
       "      <td>0.432561</td>\n",
       "      <td>3994</td>\n",
       "      <td>0</td>\n",
       "      <td>1</td>\n",
       "      <td>1</td>\n",
       "      <td>1</td>\n",
       "      <td>1</td>\n",
       "      <td>1</td>\n",
       "      <td>0</td>\n",
       "      <td>0</td>\n",
       "      <td>0</td>\n",
       "      <td>0</td>\n",
       "      <td>0</td>\n",
       "      <td>1</td>\n",
       "    </tr>\n",
       "    <tr>\n",
       "      <th>1</th>\n",
       "      <td>0</td>\n",
       "      <td>0.098457</td>\n",
       "      <td>897</td>\n",
       "      <td>0</td>\n",
       "      <td>1</td>\n",
       "      <td>0</td>\n",
       "      <td>0</td>\n",
       "      <td>0</td>\n",
       "      <td>0</td>\n",
       "      <td>0</td>\n",
       "      <td>0</td>\n",
       "      <td>0</td>\n",
       "      <td>0</td>\n",
       "      <td>0</td>\n",
       "      <td>0</td>\n",
       "    </tr>\n",
       "    <tr>\n",
       "      <th>2</th>\n",
       "      <td>1</td>\n",
       "      <td>0.820911</td>\n",
       "      <td>4030</td>\n",
       "      <td>1</td>\n",
       "      <td>1</td>\n",
       "      <td>1</td>\n",
       "      <td>1</td>\n",
       "      <td>1</td>\n",
       "      <td>1</td>\n",
       "      <td>1</td>\n",
       "      <td>1</td>\n",
       "      <td>1</td>\n",
       "      <td>1</td>\n",
       "      <td>0</td>\n",
       "      <td>1</td>\n",
       "    </tr>\n",
       "    <tr>\n",
       "      <th>3</th>\n",
       "      <td>0</td>\n",
       "      <td>0.048830</td>\n",
       "      <td>4530</td>\n",
       "      <td>0</td>\n",
       "      <td>1</td>\n",
       "      <td>0</td>\n",
       "      <td>0</td>\n",
       "      <td>0</td>\n",
       "      <td>0</td>\n",
       "      <td>0</td>\n",
       "      <td>0</td>\n",
       "      <td>0</td>\n",
       "      <td>0</td>\n",
       "      <td>0</td>\n",
       "      <td>0</td>\n",
       "    </tr>\n",
       "    <tr>\n",
       "      <th>4</th>\n",
       "      <td>0</td>\n",
       "      <td>0.097580</td>\n",
       "      <td>1452</td>\n",
       "      <td>0</td>\n",
       "      <td>1</td>\n",
       "      <td>0</td>\n",
       "      <td>0</td>\n",
       "      <td>0</td>\n",
       "      <td>0</td>\n",
       "      <td>0</td>\n",
       "      <td>0</td>\n",
       "      <td>0</td>\n",
       "      <td>0</td>\n",
       "      <td>0</td>\n",
       "      <td>0</td>\n",
       "    </tr>\n",
       "  </tbody>\n",
       "</table>\n",
       "</div>"
      ],
      "text/plain": [
       "   Converted  Conv_prob  Lead_number  predicted  0.0  0.1  0.2  0.3  0.4  0.5  \\\n",
       "0          0   0.432561         3994          0    1    1    1    1    1    0   \n",
       "1          0   0.098457          897          0    1    0    0    0    0    0   \n",
       "2          1   0.820911         4030          1    1    1    1    1    1    1   \n",
       "3          0   0.048830         4530          0    1    0    0    0    0    0   \n",
       "4          0   0.097580         1452          0    1    0    0    0    0    0   \n",
       "\n",
       "   0.6  0.7  0.8  0.9  final_predicted  \n",
       "0    0    0    0    0                1  \n",
       "1    0    0    0    0                0  \n",
       "2    1    1    1    0                1  \n",
       "3    0    0    0    0                0  \n",
       "4    0    0    0    0                0  "
      ]
     },
     "execution_count": 47,
     "metadata": {},
     "output_type": "execute_result"
    }
   ],
   "source": [
    "# From the curve above, 0.325 is the optimum point to take it as a cutoff probability.\n",
    "y_train_pred_final['final_predicted'] = y_train_pred_final.Conv_prob.map( lambda x: 1 if x > 0.325 else 0)\n",
    "y_train_pred_final.head()"
   ]
  },
  {
   "cell_type": "code",
   "execution_count": 48,
   "metadata": {
    "colab": {
     "base_uri": "https://localhost:8080/",
     "height": 206
    },
    "colab_type": "code",
    "id": "UenB_monRiRD",
    "outputId": "2784af09-5c9e-48a4-81ce-a0c8193f5117"
   },
   "outputs": [
    {
     "data": {
      "text/html": [
       "<div>\n",
       "<style scoped>\n",
       "    .dataframe tbody tr th:only-of-type {\n",
       "        vertical-align: middle;\n",
       "    }\n",
       "\n",
       "    .dataframe tbody tr th {\n",
       "        vertical-align: top;\n",
       "    }\n",
       "\n",
       "    .dataframe thead th {\n",
       "        text-align: right;\n",
       "    }\n",
       "</style>\n",
       "<table border=\"1\" class=\"dataframe\">\n",
       "  <thead>\n",
       "    <tr style=\"text-align: right;\">\n",
       "      <th></th>\n",
       "      <th>Converted</th>\n",
       "      <th>Conv_prob</th>\n",
       "      <th>Lead_number</th>\n",
       "      <th>predicted</th>\n",
       "      <th>0.0</th>\n",
       "      <th>0.1</th>\n",
       "      <th>0.2</th>\n",
       "      <th>0.3</th>\n",
       "      <th>0.4</th>\n",
       "      <th>0.5</th>\n",
       "      <th>0.6</th>\n",
       "      <th>0.7</th>\n",
       "      <th>0.8</th>\n",
       "      <th>0.9</th>\n",
       "      <th>final_predicted</th>\n",
       "      <th>Lead_Score %ge</th>\n",
       "    </tr>\n",
       "  </thead>\n",
       "  <tbody>\n",
       "    <tr>\n",
       "      <th>0</th>\n",
       "      <td>0</td>\n",
       "      <td>0.432561</td>\n",
       "      <td>3994</td>\n",
       "      <td>0</td>\n",
       "      <td>1</td>\n",
       "      <td>1</td>\n",
       "      <td>1</td>\n",
       "      <td>1</td>\n",
       "      <td>1</td>\n",
       "      <td>0</td>\n",
       "      <td>0</td>\n",
       "      <td>0</td>\n",
       "      <td>0</td>\n",
       "      <td>0</td>\n",
       "      <td>1</td>\n",
       "      <td>43</td>\n",
       "    </tr>\n",
       "    <tr>\n",
       "      <th>1</th>\n",
       "      <td>0</td>\n",
       "      <td>0.098457</td>\n",
       "      <td>897</td>\n",
       "      <td>0</td>\n",
       "      <td>1</td>\n",
       "      <td>0</td>\n",
       "      <td>0</td>\n",
       "      <td>0</td>\n",
       "      <td>0</td>\n",
       "      <td>0</td>\n",
       "      <td>0</td>\n",
       "      <td>0</td>\n",
       "      <td>0</td>\n",
       "      <td>0</td>\n",
       "      <td>0</td>\n",
       "      <td>10</td>\n",
       "    </tr>\n",
       "    <tr>\n",
       "      <th>2</th>\n",
       "      <td>1</td>\n",
       "      <td>0.820911</td>\n",
       "      <td>4030</td>\n",
       "      <td>1</td>\n",
       "      <td>1</td>\n",
       "      <td>1</td>\n",
       "      <td>1</td>\n",
       "      <td>1</td>\n",
       "      <td>1</td>\n",
       "      <td>1</td>\n",
       "      <td>1</td>\n",
       "      <td>1</td>\n",
       "      <td>1</td>\n",
       "      <td>0</td>\n",
       "      <td>1</td>\n",
       "      <td>82</td>\n",
       "    </tr>\n",
       "    <tr>\n",
       "      <th>3</th>\n",
       "      <td>0</td>\n",
       "      <td>0.048830</td>\n",
       "      <td>4530</td>\n",
       "      <td>0</td>\n",
       "      <td>1</td>\n",
       "      <td>0</td>\n",
       "      <td>0</td>\n",
       "      <td>0</td>\n",
       "      <td>0</td>\n",
       "      <td>0</td>\n",
       "      <td>0</td>\n",
       "      <td>0</td>\n",
       "      <td>0</td>\n",
       "      <td>0</td>\n",
       "      <td>0</td>\n",
       "      <td>5</td>\n",
       "    </tr>\n",
       "    <tr>\n",
       "      <th>4</th>\n",
       "      <td>0</td>\n",
       "      <td>0.097580</td>\n",
       "      <td>1452</td>\n",
       "      <td>0</td>\n",
       "      <td>1</td>\n",
       "      <td>0</td>\n",
       "      <td>0</td>\n",
       "      <td>0</td>\n",
       "      <td>0</td>\n",
       "      <td>0</td>\n",
       "      <td>0</td>\n",
       "      <td>0</td>\n",
       "      <td>0</td>\n",
       "      <td>0</td>\n",
       "      <td>0</td>\n",
       "      <td>10</td>\n",
       "    </tr>\n",
       "  </tbody>\n",
       "</table>\n",
       "</div>"
      ],
      "text/plain": [
       "   Converted  Conv_prob  Lead_number  predicted  0.0  0.1  0.2  0.3  0.4  0.5  \\\n",
       "0          0   0.432561         3994          0    1    1    1    1    1    0   \n",
       "1          0   0.098457          897          0    1    0    0    0    0    0   \n",
       "2          1   0.820911         4030          1    1    1    1    1    1    1   \n",
       "3          0   0.048830         4530          0    1    0    0    0    0    0   \n",
       "4          0   0.097580         1452          0    1    0    0    0    0    0   \n",
       "\n",
       "   0.6  0.7  0.8  0.9  final_predicted  Lead_Score %ge  \n",
       "0    0    0    0    0                1              43  \n",
       "1    0    0    0    0                0              10  \n",
       "2    1    1    1    0                1              82  \n",
       "3    0    0    0    0                0               5  \n",
       "4    0    0    0    0                0              10  "
      ]
     },
     "execution_count": 48,
     "metadata": {},
     "output_type": "execute_result"
    }
   ],
   "source": [
    "# Adding the lead score column\n",
    "y_train_pred_final['Lead_Score %ge'] = y_train_pred_final.Conv_prob.map( lambda x: round(x*100))\n",
    "y_train_pred_final.head()"
   ]
  },
  {
   "cell_type": "code",
   "execution_count": 49,
   "metadata": {
    "colab": {
     "base_uri": "https://localhost:8080/",
     "height": 34
    },
    "colab_type": "code",
    "id": "ARD_4NKVS9u5",
    "outputId": "47740c02-2ec4-456a-a5bf-2bcca4363d93"
   },
   "outputs": [
    {
     "name": "stdout",
     "output_type": "stream",
     "text": [
      "0.8445304256067534\n"
     ]
    }
   ],
   "source": [
    "# Let's check the overall accuracy.\n",
    "print(metrics.accuracy_score(y_train_pred_final.Converted, y_train_pred_final.final_predicted))"
   ]
  },
  {
   "cell_type": "code",
   "execution_count": 50,
   "metadata": {
    "colab": {
     "base_uri": "https://localhost:8080/",
     "height": 52
    },
    "colab_type": "code",
    "id": "CuuIKz3pS3u-",
    "outputId": "90c2ee75-5a47-4c0c-a63f-03bc72fcbfc2"
   },
   "outputs": [
    {
     "name": "stdout",
     "output_type": "stream",
     "text": [
      "[[2979  545]\n",
      " [ 339 1823]]\n"
     ]
    }
   ],
   "source": [
    "# Confusion matrix \n",
    "confusion = metrics.confusion_matrix(y_train_pred_final.Converted, y_train_pred_final.final_predicted )\n",
    "print(confusion)"
   ]
  },
  {
   "cell_type": "code",
   "execution_count": 51,
   "metadata": {
    "colab": {},
    "colab_type": "code",
    "id": "QZTWgtaWS3vI"
   },
   "outputs": [],
   "source": [
    "TP = confusion[1,1] # true positive \n",
    "TN = confusion[0,0] # true negatives\n",
    "FP = confusion[0,1] # false positives\n",
    "FN = confusion[1,0] # false negatives"
   ]
  },
  {
   "cell_type": "code",
   "execution_count": 52,
   "metadata": {
    "colab": {
     "base_uri": "https://localhost:8080/",
     "height": 34
    },
    "colab_type": "code",
    "id": "RGRZ44cAS3vQ",
    "outputId": "0ef9630e-38ea-45ab-a270-b742dd595e9a"
   },
   "outputs": [
    {
     "data": {
      "text/plain": [
       "0.8432007400555042"
      ]
     },
     "execution_count": 52,
     "metadata": {},
     "output_type": "execute_result"
    }
   ],
   "source": [
    "# Let's see the sensitivity of our logistic regression model\n",
    "TP / float(TP+FN)"
   ]
  },
  {
   "cell_type": "code",
   "execution_count": 53,
   "metadata": {
    "colab": {
     "base_uri": "https://localhost:8080/",
     "height": 34
    },
    "colab_type": "code",
    "id": "WUmHGlb1S3vX",
    "outputId": "ce39c3cf-5642-4af1-d500-1b5be6ce3dab"
   },
   "outputs": [
    {
     "data": {
      "text/plain": [
       "0.8453461975028377"
      ]
     },
     "execution_count": 53,
     "metadata": {},
     "output_type": "execute_result"
    }
   ],
   "source": [
    "# Let us calculate specificity\n",
    "TN / float(TN+FP)"
   ]
  },
  {
   "cell_type": "code",
   "execution_count": 54,
   "metadata": {
    "colab": {
     "base_uri": "https://localhost:8080/",
     "height": 34
    },
    "colab_type": "code",
    "id": "CX69UjxfS3ve",
    "outputId": "d3cb7129-4118-4810-f476-5190f6699d71"
   },
   "outputs": [
    {
     "name": "stdout",
     "output_type": "stream",
     "text": [
      "0.15465380249716232\n"
     ]
    }
   ],
   "source": [
    "# Calculate false postive rate - predicting churn when customer does not have churned\n",
    "print(FP/ float(TN+FP))"
   ]
  },
  {
   "cell_type": "code",
   "execution_count": 55,
   "metadata": {
    "colab": {
     "base_uri": "https://localhost:8080/",
     "height": 34
    },
    "colab_type": "code",
    "id": "VQnYKwQtS3vl",
    "outputId": "db51cc89-dbef-4cc5-a97e-249a99800c95"
   },
   "outputs": [
    {
     "name": "stdout",
     "output_type": "stream",
     "text": [
      "0.769847972972973\n"
     ]
    }
   ],
   "source": [
    "# positive predictive value \n",
    "print (TP / float(TP+FP))"
   ]
  },
  {
   "cell_type": "code",
   "execution_count": 56,
   "metadata": {
    "colab": {
     "base_uri": "https://localhost:8080/",
     "height": 34
    },
    "colab_type": "code",
    "id": "9RuUwtIYS3vs",
    "outputId": "5d51d743-da63-417c-d466-b9fe7749e02a"
   },
   "outputs": [
    {
     "name": "stdout",
     "output_type": "stream",
     "text": [
      "0.8978300180831826\n"
     ]
    }
   ],
   "source": [
    "# Negative predictive value\n",
    "print (TN / float(TN+ FN))"
   ]
  },
  {
   "cell_type": "markdown",
   "metadata": {
    "colab_type": "text",
    "id": "D0XV5Wu6Tt4F"
   },
   "source": [
    "### Precision and Recall"
   ]
  },
  {
   "cell_type": "code",
   "execution_count": 57,
   "metadata": {
    "colab": {
     "base_uri": "https://localhost:8080/",
     "height": 52
    },
    "colab_type": "code",
    "id": "1fN9p5QBT0Bb",
    "outputId": "f4bf145b-da6b-473d-a50f-3b29b28c5cc8"
   },
   "outputs": [
    {
     "name": "stdout",
     "output_type": "stream",
     "text": [
      "Precision Value:  0.769847972972973\n",
      "Recall Value:  0.8432007400555042\n"
     ]
    }
   ],
   "source": [
    "print('Precision Value: ',precision_score(y_train_pred_final.Converted , y_train_pred_final.final_predicted))\n",
    "print('Recall Value: ',recall_score(y_train_pred_final.Converted, y_train_pred_final.final_predicted))"
   ]
  },
  {
   "cell_type": "code",
   "execution_count": 58,
   "metadata": {
    "colab": {
     "base_uri": "https://localhost:8080/",
     "height": 269
    },
    "colab_type": "code",
    "id": "yjqb34KmTz8M",
    "outputId": "04d4e599-737a-4399-d2ed-78d8958cacca"
   },
   "outputs": [
    {
     "data": {
      "image/png": "[encoded data removed]",
      "text/plain": [
       "<Figure size 432x288 with 1 Axes>"
      ]
     },
     "metadata": {
      "needs_background": "light"
     },
     "output_type": "display_data"
    }
   ],
   "source": [
    "# Plotting Precession Recall curve\n",
    "p, r, thresholds = precision_recall_curve(y_train_pred_final.Converted, y_train_pred_final.Conv_prob)\n",
    "plt.plot(thresholds, p[:-1], \"g-\")\n",
    "plt.plot(thresholds, r[:-1], \"r-\")\n",
    "plt.show()"
   ]
  },
  {
   "cell_type": "markdown",
   "metadata": {
    "colab_type": "text",
    "id": "fujwJrzkUeUP"
   },
   "source": [
    "## 3 Testing the model on test dataset "
   ]
  },
  {
   "cell_type": "code",
   "execution_count": 59,
   "metadata": {
    "colab": {
     "base_uri": "https://localhost:8080/",
     "height": 313
    },
    "colab_type": "code",
    "id": "sq5EEGMTTz4_",
    "outputId": "947e531f-4673-4407-fef6-fb2f25b2265b"
   },
   "outputs": [
    {
     "data": {
      "text/html": [
       "<div>\n",
       "<style scoped>\n",
       "    .dataframe tbody tr th:only-of-type {\n",
       "        vertical-align: middle;\n",
       "    }\n",
       "\n",
       "    .dataframe tbody tr th {\n",
       "        vertical-align: top;\n",
       "    }\n",
       "\n",
       "    .dataframe thead th {\n",
       "        text-align: right;\n",
       "    }\n",
       "</style>\n",
       "<table border=\"1\" class=\"dataframe\">\n",
       "  <thead>\n",
       "    <tr style=\"text-align: right;\">\n",
       "      <th></th>\n",
       "      <th>TotalVisits</th>\n",
       "      <th>Total Time Spent on Website</th>\n",
       "      <th>Page Views Per Visit</th>\n",
       "      <th>Receive More Updates About Our Courses</th>\n",
       "      <th>A free copy of Mastering The Interview</th>\n",
       "      <th>Lead Origin_Landing Page Submission</th>\n",
       "      <th>Lead Origin_Lead Add Form</th>\n",
       "      <th>Lead Origin_Lead Import</th>\n",
       "      <th>Lead Source_Direct Traffic</th>\n",
       "      <th>Lead Source_Facebook</th>\n",
       "      <th>...</th>\n",
       "      <th>Last Notable Activity_Form Submitted on Website</th>\n",
       "      <th>Last Notable Activity_Had a Phone Conversation</th>\n",
       "      <th>Last Notable Activity_Modified</th>\n",
       "      <th>Last Notable Activity_Olark Chat Conversation</th>\n",
       "      <th>Last Notable Activity_Page Visited on Website</th>\n",
       "      <th>Last Notable Activity_Resubscribed to emails</th>\n",
       "      <th>Last Notable Activity_SMS Sent</th>\n",
       "      <th>Last Notable Activity_Unreachable</th>\n",
       "      <th>Last Notable Activity_Unsubscribed</th>\n",
       "      <th>Last Notable Activity_View in browser link Clicked</th>\n",
       "    </tr>\n",
       "  </thead>\n",
       "  <tbody>\n",
       "    <tr>\n",
       "      <th>3117</th>\n",
       "      <td>-1.182239</td>\n",
       "      <td>-0.846272</td>\n",
       "      <td>-1.271582</td>\n",
       "      <td>0</td>\n",
       "      <td>0</td>\n",
       "      <td>0</td>\n",
       "      <td>0</td>\n",
       "      <td>0</td>\n",
       "      <td>0</td>\n",
       "      <td>0</td>\n",
       "      <td>...</td>\n",
       "      <td>0</td>\n",
       "      <td>0</td>\n",
       "      <td>1</td>\n",
       "      <td>0</td>\n",
       "      <td>0</td>\n",
       "      <td>0</td>\n",
       "      <td>0</td>\n",
       "      <td>0</td>\n",
       "      <td>0</td>\n",
       "      <td>0</td>\n",
       "    </tr>\n",
       "    <tr>\n",
       "      <th>5735</th>\n",
       "      <td>1.041757</td>\n",
       "      <td>-0.467634</td>\n",
       "      <td>1.959450</td>\n",
       "      <td>0</td>\n",
       "      <td>1</td>\n",
       "      <td>1</td>\n",
       "      <td>0</td>\n",
       "      <td>0</td>\n",
       "      <td>1</td>\n",
       "      <td>0</td>\n",
       "      <td>...</td>\n",
       "      <td>0</td>\n",
       "      <td>0</td>\n",
       "      <td>1</td>\n",
       "      <td>0</td>\n",
       "      <td>0</td>\n",
       "      <td>0</td>\n",
       "      <td>0</td>\n",
       "      <td>0</td>\n",
       "      <td>0</td>\n",
       "      <td>0</td>\n",
       "    </tr>\n",
       "    <tr>\n",
       "      <th>3135</th>\n",
       "      <td>-0.292641</td>\n",
       "      <td>-0.249405</td>\n",
       "      <td>0.020831</td>\n",
       "      <td>0</td>\n",
       "      <td>1</td>\n",
       "      <td>1</td>\n",
       "      <td>0</td>\n",
       "      <td>0</td>\n",
       "      <td>1</td>\n",
       "      <td>0</td>\n",
       "      <td>...</td>\n",
       "      <td>0</td>\n",
       "      <td>0</td>\n",
       "      <td>0</td>\n",
       "      <td>0</td>\n",
       "      <td>0</td>\n",
       "      <td>0</td>\n",
       "      <td>0</td>\n",
       "      <td>0</td>\n",
       "      <td>0</td>\n",
       "      <td>0</td>\n",
       "    </tr>\n",
       "    <tr>\n",
       "      <th>1663</th>\n",
       "      <td>-1.182239</td>\n",
       "      <td>-0.846272</td>\n",
       "      <td>-1.271582</td>\n",
       "      <td>0</td>\n",
       "      <td>0</td>\n",
       "      <td>0</td>\n",
       "      <td>1</td>\n",
       "      <td>0</td>\n",
       "      <td>0</td>\n",
       "      <td>0</td>\n",
       "      <td>...</td>\n",
       "      <td>0</td>\n",
       "      <td>0</td>\n",
       "      <td>1</td>\n",
       "      <td>0</td>\n",
       "      <td>0</td>\n",
       "      <td>0</td>\n",
       "      <td>0</td>\n",
       "      <td>0</td>\n",
       "      <td>0</td>\n",
       "      <td>0</td>\n",
       "    </tr>\n",
       "    <tr>\n",
       "      <th>3386</th>\n",
       "      <td>2.820953</td>\n",
       "      <td>-0.253135</td>\n",
       "      <td>0.667037</td>\n",
       "      <td>0</td>\n",
       "      <td>0</td>\n",
       "      <td>0</td>\n",
       "      <td>0</td>\n",
       "      <td>0</td>\n",
       "      <td>0</td>\n",
       "      <td>0</td>\n",
       "      <td>...</td>\n",
       "      <td>0</td>\n",
       "      <td>0</td>\n",
       "      <td>0</td>\n",
       "      <td>0</td>\n",
       "      <td>0</td>\n",
       "      <td>0</td>\n",
       "      <td>0</td>\n",
       "      <td>0</td>\n",
       "      <td>0</td>\n",
       "      <td>0</td>\n",
       "    </tr>\n",
       "  </tbody>\n",
       "</table>\n",
       "<p>5 rows × 71 columns</p>\n",
       "</div>"
      ],
      "text/plain": [
       "      TotalVisits  Total Time Spent on Website  Page Views Per Visit  \\\n",
       "3117    -1.182239                    -0.846272             -1.271582   \n",
       "5735     1.041757                    -0.467634              1.959450   \n",
       "3135    -0.292641                    -0.249405              0.020831   \n",
       "1663    -1.182239                    -0.846272             -1.271582   \n",
       "3386     2.820953                    -0.253135              0.667037   \n",
       "\n",
       "      Receive More Updates About Our Courses  \\\n",
       "3117                                       0   \n",
       "5735                                       0   \n",
       "3135                                       0   \n",
       "1663                                       0   \n",
       "3386                                       0   \n",
       "\n",
       "      A free copy of Mastering The Interview  \\\n",
       "3117                                       0   \n",
       "5735                                       1   \n",
       "3135                                       1   \n",
       "1663                                       0   \n",
       "3386                                       0   \n",
       "\n",
       "      Lead Origin_Landing Page Submission  Lead Origin_Lead Add Form  \\\n",
       "3117                                    0                          0   \n",
       "5735                                    1                          0   \n",
       "3135                                    1                          0   \n",
       "1663                                    0                          1   \n",
       "3386                                    0                          0   \n",
       "\n",
       "      Lead Origin_Lead Import  Lead Source_Direct Traffic  \\\n",
       "3117                        0                           0   \n",
       "5735                        0                           1   \n",
       "3135                        0                           1   \n",
       "1663                        0                           0   \n",
       "3386                        0                           0   \n",
       "\n",
       "      Lead Source_Facebook  ...  \\\n",
       "3117                     0  ...   \n",
       "5735                     0  ...   \n",
       "3135                     0  ...   \n",
       "1663                     0  ...   \n",
       "3386                     0  ...   \n",
       "\n",
       "      Last Notable Activity_Form Submitted on Website  \\\n",
       "3117                                                0   \n",
       "5735                                                0   \n",
       "3135                                                0   \n",
       "1663                                                0   \n",
       "3386                                                0   \n",
       "\n",
       "      Last Notable Activity_Had a Phone Conversation  \\\n",
       "3117                                               0   \n",
       "5735                                               0   \n",
       "3135                                               0   \n",
       "1663                                               0   \n",
       "3386                                               0   \n",
       "\n",
       "      Last Notable Activity_Modified  \\\n",
       "3117                               1   \n",
       "5735                               1   \n",
       "3135                               0   \n",
       "1663                               1   \n",
       "3386                               0   \n",
       "\n",
       "      Last Notable Activity_Olark Chat Conversation  \\\n",
       "3117                                              0   \n",
       "5735                                              0   \n",
       "3135                                              0   \n",
       "1663                                              0   \n",
       "3386                                              0   \n",
       "\n",
       "      Last Notable Activity_Page Visited on Website  \\\n",
       "3117                                              0   \n",
       "5735                                              0   \n",
       "3135                                              0   \n",
       "1663                                              0   \n",
       "3386                                              0   \n",
       "\n",
       "      Last Notable Activity_Resubscribed to emails  \\\n",
       "3117                                             0   \n",
       "5735                                             0   \n",
       "3135                                             0   \n",
       "1663                                             0   \n",
       "3386                                             0   \n",
       "\n",
       "      Last Notable Activity_SMS Sent  Last Notable Activity_Unreachable  \\\n",
       "3117                               0                                  0   \n",
       "5735                               0                                  0   \n",
       "3135                               0                                  0   \n",
       "1663                               0                                  0   \n",
       "3386                               0                                  0   \n",
       "\n",
       "      Last Notable Activity_Unsubscribed  \\\n",
       "3117                                   0   \n",
       "5735                                   0   \n",
       "3135                                   0   \n",
       "1663                                   0   \n",
       "3386                                   0   \n",
       "\n",
       "      Last Notable Activity_View in browser link Clicked  \n",
       "3117                                                  0   \n",
       "5735                                                  0   \n",
       "3135                                                  0   \n",
       "1663                                                  0   \n",
       "3386                                                  0   \n",
       "\n",
       "[5 rows x 71 columns]"
      ]
     },
     "execution_count": 59,
     "metadata": {},
     "output_type": "execute_result"
    }
   ],
   "source": [
    "# Scaling the numerical variables\n",
    "X_test[['TotalVisits','Total Time Spent on Website','Page Views Per Visit']] = scaler.fit_transform(X_test[['TotalVisits','Total Time Spent on Website','Page Views Per Visit']])\n",
    "X_test.head()"
   ]
  },
  {
   "cell_type": "code",
   "execution_count": 60,
   "metadata": {
    "colab": {
     "base_uri": "https://localhost:8080/",
     "height": 258
    },
    "colab_type": "code",
    "id": "WpSjWnoOUuch",
    "outputId": "cc5c77f3-a8b5-4959-a1de-d68715b63b2e"
   },
   "outputs": [
    {
     "data": {
      "text/html": [
       "<div>\n",
       "<style scoped>\n",
       "    .dataframe tbody tr th:only-of-type {\n",
       "        vertical-align: middle;\n",
       "    }\n",
       "\n",
       "    .dataframe tbody tr th {\n",
       "        vertical-align: top;\n",
       "    }\n",
       "\n",
       "    .dataframe thead th {\n",
       "        text-align: right;\n",
       "    }\n",
       "</style>\n",
       "<table border=\"1\" class=\"dataframe\">\n",
       "  <thead>\n",
       "    <tr style=\"text-align: right;\">\n",
       "      <th></th>\n",
       "      <th>Total Time Spent on Website</th>\n",
       "      <th>Lead Origin_Lead Add Form</th>\n",
       "      <th>Lead Origin_Lead Import</th>\n",
       "      <th>Lead Source_Olark Chat</th>\n",
       "      <th>Lead Source_Welingak Website</th>\n",
       "      <th>Last Activity_SMS Sent</th>\n",
       "      <th>What is your current occupation_Working Professional</th>\n",
       "      <th>Lead Quality_Might be</th>\n",
       "      <th>Lead Quality_Not Sure</th>\n",
       "      <th>Lead Quality_Unknown</th>\n",
       "      <th>Lead Quality_Worst</th>\n",
       "      <th>Last Notable Activity_Modified</th>\n",
       "      <th>Last Notable Activity_Olark Chat Conversation</th>\n",
       "      <th>Last Notable Activity_Unreachable</th>\n",
       "    </tr>\n",
       "  </thead>\n",
       "  <tbody>\n",
       "    <tr>\n",
       "      <th>3117</th>\n",
       "      <td>-0.846272</td>\n",
       "      <td>0</td>\n",
       "      <td>0</td>\n",
       "      <td>1</td>\n",
       "      <td>0</td>\n",
       "      <td>0</td>\n",
       "      <td>0</td>\n",
       "      <td>0</td>\n",
       "      <td>0</td>\n",
       "      <td>1</td>\n",
       "      <td>0</td>\n",
       "      <td>1</td>\n",
       "      <td>0</td>\n",
       "      <td>0</td>\n",
       "    </tr>\n",
       "    <tr>\n",
       "      <th>5735</th>\n",
       "      <td>-0.467634</td>\n",
       "      <td>0</td>\n",
       "      <td>0</td>\n",
       "      <td>0</td>\n",
       "      <td>0</td>\n",
       "      <td>0</td>\n",
       "      <td>0</td>\n",
       "      <td>0</td>\n",
       "      <td>0</td>\n",
       "      <td>0</td>\n",
       "      <td>1</td>\n",
       "      <td>1</td>\n",
       "      <td>0</td>\n",
       "      <td>0</td>\n",
       "    </tr>\n",
       "    <tr>\n",
       "      <th>3135</th>\n",
       "      <td>-0.249405</td>\n",
       "      <td>0</td>\n",
       "      <td>0</td>\n",
       "      <td>0</td>\n",
       "      <td>0</td>\n",
       "      <td>0</td>\n",
       "      <td>0</td>\n",
       "      <td>0</td>\n",
       "      <td>0</td>\n",
       "      <td>1</td>\n",
       "      <td>0</td>\n",
       "      <td>0</td>\n",
       "      <td>0</td>\n",
       "      <td>0</td>\n",
       "    </tr>\n",
       "    <tr>\n",
       "      <th>1663</th>\n",
       "      <td>-0.846272</td>\n",
       "      <td>1</td>\n",
       "      <td>0</td>\n",
       "      <td>0</td>\n",
       "      <td>1</td>\n",
       "      <td>1</td>\n",
       "      <td>0</td>\n",
       "      <td>0</td>\n",
       "      <td>0</td>\n",
       "      <td>1</td>\n",
       "      <td>0</td>\n",
       "      <td>1</td>\n",
       "      <td>0</td>\n",
       "      <td>0</td>\n",
       "    </tr>\n",
       "    <tr>\n",
       "      <th>3386</th>\n",
       "      <td>-0.253135</td>\n",
       "      <td>0</td>\n",
       "      <td>0</td>\n",
       "      <td>0</td>\n",
       "      <td>0</td>\n",
       "      <td>0</td>\n",
       "      <td>0</td>\n",
       "      <td>0</td>\n",
       "      <td>0</td>\n",
       "      <td>1</td>\n",
       "      <td>0</td>\n",
       "      <td>0</td>\n",
       "      <td>0</td>\n",
       "      <td>0</td>\n",
       "    </tr>\n",
       "  </tbody>\n",
       "</table>\n",
       "</div>"
      ],
      "text/plain": [
       "      Total Time Spent on Website  Lead Origin_Lead Add Form  \\\n",
       "3117                    -0.846272                          0   \n",
       "5735                    -0.467634                          0   \n",
       "3135                    -0.249405                          0   \n",
       "1663                    -0.846272                          1   \n",
       "3386                    -0.253135                          0   \n",
       "\n",
       "      Lead Origin_Lead Import  Lead Source_Olark Chat  \\\n",
       "3117                        0                       1   \n",
       "5735                        0                       0   \n",
       "3135                        0                       0   \n",
       "1663                        0                       0   \n",
       "3386                        0                       0   \n",
       "\n",
       "      Lead Source_Welingak Website  Last Activity_SMS Sent  \\\n",
       "3117                             0                       0   \n",
       "5735                             0                       0   \n",
       "3135                             0                       0   \n",
       "1663                             1                       1   \n",
       "3386                             0                       0   \n",
       "\n",
       "      What is your current occupation_Working Professional  \\\n",
       "3117                                                  0      \n",
       "5735                                                  0      \n",
       "3135                                                  0      \n",
       "1663                                                  0      \n",
       "3386                                                  0      \n",
       "\n",
       "      Lead Quality_Might be  Lead Quality_Not Sure  Lead Quality_Unknown  \\\n",
       "3117                      0                      0                     1   \n",
       "5735                      0                      0                     0   \n",
       "3135                      0                      0                     1   \n",
       "1663                      0                      0                     1   \n",
       "3386                      0                      0                     1   \n",
       "\n",
       "      Lead Quality_Worst  Last Notable Activity_Modified  \\\n",
       "3117                   0                               1   \n",
       "5735                   1                               1   \n",
       "3135                   0                               0   \n",
       "1663                   0                               1   \n",
       "3386                   0                               0   \n",
       "\n",
       "      Last Notable Activity_Olark Chat Conversation  \\\n",
       "3117                                              0   \n",
       "5735                                              0   \n",
       "3135                                              0   \n",
       "1663                                              0   \n",
       "3386                                              0   \n",
       "\n",
       "      Last Notable Activity_Unreachable  \n",
       "3117                                  0  \n",
       "5735                                  0  \n",
       "3135                                  0  \n",
       "1663                                  0  \n",
       "3386                                  0  "
      ]
     },
     "execution_count": 60,
     "metadata": {},
     "output_type": "execute_result"
    }
   ],
   "source": [
    "# Using the columns used in the final model\n",
    "X_test = X_test[col1]\n",
    "X_test.head()"
   ]
  },
  {
   "cell_type": "code",
   "execution_count": 61,
   "metadata": {
    "colab": {
     "base_uri": "https://localhost:8080/",
     "height": 206
    },
    "colab_type": "code",
    "id": "EuG_IE5BVSKO",
    "outputId": "06336156-b561-4558-8e93-16a348a01b68"
   },
   "outputs": [
    {
     "data": {
      "text/html": [
       "<div>\n",
       "<style scoped>\n",
       "    .dataframe tbody tr th:only-of-type {\n",
       "        vertical-align: middle;\n",
       "    }\n",
       "\n",
       "    .dataframe tbody tr th {\n",
       "        vertical-align: top;\n",
       "    }\n",
       "\n",
       "    .dataframe thead th {\n",
       "        text-align: right;\n",
       "    }\n",
       "</style>\n",
       "<table border=\"1\" class=\"dataframe\">\n",
       "  <thead>\n",
       "    <tr style=\"text-align: right;\">\n",
       "      <th></th>\n",
       "      <th>0</th>\n",
       "    </tr>\n",
       "  </thead>\n",
       "  <tbody>\n",
       "    <tr>\n",
       "      <th>3117</th>\n",
       "      <td>0.078521</td>\n",
       "    </tr>\n",
       "    <tr>\n",
       "      <th>5735</th>\n",
       "      <td>0.004405</td>\n",
       "    </tr>\n",
       "    <tr>\n",
       "      <th>3135</th>\n",
       "      <td>0.097972</td>\n",
       "    </tr>\n",
       "    <tr>\n",
       "      <th>1663</th>\n",
       "      <td>0.968896</td>\n",
       "    </tr>\n",
       "    <tr>\n",
       "      <th>3386</th>\n",
       "      <td>0.097619</td>\n",
       "    </tr>\n",
       "  </tbody>\n",
       "</table>\n",
       "</div>"
      ],
      "text/plain": [
       "             0\n",
       "3117  0.078521\n",
       "5735  0.004405\n",
       "3135  0.097972\n",
       "1663  0.968896\n",
       "3386  0.097619"
      ]
     },
     "execution_count": 61,
     "metadata": {},
     "output_type": "execute_result"
    }
   ],
   "source": [
    "# Predicting the outputs in the test dataset\n",
    "X_test_sm = sm.add_constant(X_test)\n",
    "y_test_pred = res.predict(X_test_sm)\n",
    "y_pred_test = pd.DataFrame(y_test_pred)\n",
    "y_pred_test.head()"
   ]
  },
  {
   "cell_type": "code",
   "execution_count": 62,
   "metadata": {
    "colab": {
     "base_uri": "https://localhost:8080/",
     "height": 206
    },
    "colab_type": "code",
    "id": "eOFjaNokVff0",
    "outputId": "45291881-c283-452c-a3dc-65933579a1e8"
   },
   "outputs": [
    {
     "data": {
      "text/html": [
       "<div>\n",
       "<style scoped>\n",
       "    .dataframe tbody tr th:only-of-type {\n",
       "        vertical-align: middle;\n",
       "    }\n",
       "\n",
       "    .dataframe tbody tr th {\n",
       "        vertical-align: top;\n",
       "    }\n",
       "\n",
       "    .dataframe thead th {\n",
       "        text-align: right;\n",
       "    }\n",
       "</style>\n",
       "<table border=\"1\" class=\"dataframe\">\n",
       "  <thead>\n",
       "    <tr style=\"text-align: right;\">\n",
       "      <th></th>\n",
       "      <th>Converted</th>\n",
       "      <th>Lead_number</th>\n",
       "    </tr>\n",
       "  </thead>\n",
       "  <tbody>\n",
       "    <tr>\n",
       "      <th>3117</th>\n",
       "      <td>0</td>\n",
       "      <td>3117</td>\n",
       "    </tr>\n",
       "    <tr>\n",
       "      <th>5735</th>\n",
       "      <td>0</td>\n",
       "      <td>5735</td>\n",
       "    </tr>\n",
       "    <tr>\n",
       "      <th>3135</th>\n",
       "      <td>0</td>\n",
       "      <td>3135</td>\n",
       "    </tr>\n",
       "    <tr>\n",
       "      <th>1663</th>\n",
       "      <td>1</td>\n",
       "      <td>1663</td>\n",
       "    </tr>\n",
       "    <tr>\n",
       "      <th>3386</th>\n",
       "      <td>0</td>\n",
       "      <td>3386</td>\n",
       "    </tr>\n",
       "  </tbody>\n",
       "</table>\n",
       "</div>"
      ],
      "text/plain": [
       "      Converted  Lead_number\n",
       "3117          0         3117\n",
       "5735          0         5735\n",
       "3135          0         3135\n",
       "1663          1         1663\n",
       "3386          0         3386"
      ]
     },
     "execution_count": 62,
     "metadata": {},
     "output_type": "execute_result"
    }
   ],
   "source": [
    "# Converting y_test to dataframe\n",
    "y_test_df = pd.DataFrame(y_test)\n",
    "\n",
    "# Putting Prospect_ID to index\n",
    "y_test_df['Lead_number'] = y_test_df.index\n",
    "y_test_df.head()"
   ]
  },
  {
   "cell_type": "code",
   "execution_count": 63,
   "metadata": {
    "colab": {
     "base_uri": "https://localhost:8080/",
     "height": 206
    },
    "colab_type": "code",
    "id": "u2Hxf5LiWBHW",
    "outputId": "a6c1ddb4-2e5c-448c-dde0-b4852d5210ff"
   },
   "outputs": [
    {
     "data": {
      "text/html": [
       "<div>\n",
       "<style scoped>\n",
       "    .dataframe tbody tr th:only-of-type {\n",
       "        vertical-align: middle;\n",
       "    }\n",
       "\n",
       "    .dataframe tbody tr th {\n",
       "        vertical-align: top;\n",
       "    }\n",
       "\n",
       "    .dataframe thead th {\n",
       "        text-align: right;\n",
       "    }\n",
       "</style>\n",
       "<table border=\"1\" class=\"dataframe\">\n",
       "  <thead>\n",
       "    <tr style=\"text-align: right;\">\n",
       "      <th></th>\n",
       "      <th>Lead_number</th>\n",
       "      <th>Converted</th>\n",
       "      <th>Conv_prob</th>\n",
       "    </tr>\n",
       "  </thead>\n",
       "  <tbody>\n",
       "    <tr>\n",
       "      <th>0</th>\n",
       "      <td>3117</td>\n",
       "      <td>0</td>\n",
       "      <td>0.078521</td>\n",
       "    </tr>\n",
       "    <tr>\n",
       "      <th>1</th>\n",
       "      <td>5735</td>\n",
       "      <td>0</td>\n",
       "      <td>0.004405</td>\n",
       "    </tr>\n",
       "    <tr>\n",
       "      <th>2</th>\n",
       "      <td>3135</td>\n",
       "      <td>0</td>\n",
       "      <td>0.097972</td>\n",
       "    </tr>\n",
       "    <tr>\n",
       "      <th>3</th>\n",
       "      <td>1663</td>\n",
       "      <td>1</td>\n",
       "      <td>0.968896</td>\n",
       "    </tr>\n",
       "    <tr>\n",
       "      <th>4</th>\n",
       "      <td>3386</td>\n",
       "      <td>0</td>\n",
       "      <td>0.097619</td>\n",
       "    </tr>\n",
       "  </tbody>\n",
       "</table>\n",
       "</div>"
      ],
      "text/plain": [
       "   Lead_number  Converted  Conv_prob\n",
       "0         3117          0   0.078521\n",
       "1         5735          0   0.004405\n",
       "2         3135          0   0.097972\n",
       "3         1663          1   0.968896\n",
       "4         3386          0   0.097619"
      ]
     },
     "execution_count": 63,
     "metadata": {},
     "output_type": "execute_result"
    }
   ],
   "source": [
    "# Removing index for both dataframes to append them side by side \n",
    "y_pred_test.reset_index(drop=True, inplace=True)\n",
    "y_test_df.reset_index(drop=True, inplace=True)\n",
    "y_pred_final = pd.concat([y_test_df, y_pred_test],axis=1)\n",
    "\n",
    "# Renaming the column \n",
    "y_pred_final= y_pred_final.rename(columns={ 0 : 'Conv_prob'})\n",
    "\n",
    "# Rearranging the columns\n",
    "y_pred_final = y_pred_final.reindex_axis(['Lead_number','Converted','Conv_prob'], axis=1)\n",
    "\n",
    "y_pred_final.head()"
   ]
  },
  {
   "cell_type": "code",
   "execution_count": 64,
   "metadata": {
    "colab": {
     "base_uri": "https://localhost:8080/",
     "height": 206
    },
    "colab_type": "code",
    "id": "XU5jPmLjWD2r",
    "outputId": "2db1a667-fb9a-47a5-fd51-5ae762d762f7"
   },
   "outputs": [
    {
     "data": {
      "text/html": [
       "<div>\n",
       "<style scoped>\n",
       "    .dataframe tbody tr th:only-of-type {\n",
       "        vertical-align: middle;\n",
       "    }\n",
       "\n",
       "    .dataframe tbody tr th {\n",
       "        vertical-align: top;\n",
       "    }\n",
       "\n",
       "    .dataframe thead th {\n",
       "        text-align: right;\n",
       "    }\n",
       "</style>\n",
       "<table border=\"1\" class=\"dataframe\">\n",
       "  <thead>\n",
       "    <tr style=\"text-align: right;\">\n",
       "      <th></th>\n",
       "      <th>Lead_number</th>\n",
       "      <th>Converted</th>\n",
       "      <th>Conv_prob</th>\n",
       "      <th>final_predicted</th>\n",
       "    </tr>\n",
       "  </thead>\n",
       "  <tbody>\n",
       "    <tr>\n",
       "      <th>0</th>\n",
       "      <td>3117</td>\n",
       "      <td>0</td>\n",
       "      <td>0.078521</td>\n",
       "      <td>0</td>\n",
       "    </tr>\n",
       "    <tr>\n",
       "      <th>1</th>\n",
       "      <td>5735</td>\n",
       "      <td>0</td>\n",
       "      <td>0.004405</td>\n",
       "      <td>0</td>\n",
       "    </tr>\n",
       "    <tr>\n",
       "      <th>2</th>\n",
       "      <td>3135</td>\n",
       "      <td>0</td>\n",
       "      <td>0.097972</td>\n",
       "      <td>0</td>\n",
       "    </tr>\n",
       "    <tr>\n",
       "      <th>3</th>\n",
       "      <td>1663</td>\n",
       "      <td>1</td>\n",
       "      <td>0.968896</td>\n",
       "      <td>1</td>\n",
       "    </tr>\n",
       "    <tr>\n",
       "      <th>4</th>\n",
       "      <td>3386</td>\n",
       "      <td>0</td>\n",
       "      <td>0.097619</td>\n",
       "      <td>0</td>\n",
       "    </tr>\n",
       "  </tbody>\n",
       "</table>\n",
       "</div>"
      ],
      "text/plain": [
       "   Lead_number  Converted  Conv_prob  final_predicted\n",
       "0         3117          0   0.078521                0\n",
       "1         5735          0   0.004405                0\n",
       "2         3135          0   0.097972                0\n",
       "3         1663          1   0.968896                1\n",
       "4         3386          0   0.097619                0"
      ]
     },
     "execution_count": 64,
     "metadata": {},
     "output_type": "execute_result"
    }
   ],
   "source": [
    "y_pred_final['final_predicted'] = y_pred_final.Conv_prob.map(lambda x: 1 if x > 0.35 else 0)\n",
    "y_pred_final.head()"
   ]
  },
  {
   "cell_type": "code",
   "execution_count": 65,
   "metadata": {
    "colab": {
     "base_uri": "https://localhost:8080/",
     "height": 34
    },
    "colab_type": "code",
    "id": "58TLGAM8WOVt",
    "outputId": "5f87ef5d-95c8-4c20-96aa-ad8a60bc170b"
   },
   "outputs": [
    {
     "name": "stdout",
     "output_type": "stream",
     "text": [
      "0.8408531583264971\n"
     ]
    }
   ],
   "source": [
    "# Let's check the overall accuracy.\n",
    "print(metrics.accuracy_score(y_pred_final.Converted, y_pred_final.final_predicted))"
   ]
  },
  {
   "cell_type": "code",
   "execution_count": 66,
   "metadata": {
    "colab": {
     "base_uri": "https://localhost:8080/",
     "height": 52
    },
    "colab_type": "code",
    "id": "gkVhhnMnWOWQ",
    "outputId": "6cba2e4a-0677-4b12-a7a6-3cc573ce17b9"
   },
   "outputs": [
    {
     "name": "stdout",
     "output_type": "stream",
     "text": [
      "[[1315  242]\n",
      " [ 146  735]]\n"
     ]
    }
   ],
   "source": [
    "# Confusion matrix \n",
    "confusion = metrics.confusion_matrix(y_pred_final.Converted, y_pred_final.final_predicted )\n",
    "print(confusion)"
   ]
  },
  {
   "cell_type": "code",
   "execution_count": 67,
   "metadata": {
    "colab": {},
    "colab_type": "code",
    "id": "_zsMNH1XWOWZ"
   },
   "outputs": [],
   "source": [
    "TP = confusion[1,1] # true positive \n",
    "TN = confusion[0,0] # true negatives\n",
    "FP = confusion[0,1] # false positives\n",
    "FN = confusion[1,0] # false negatives"
   ]
  },
  {
   "cell_type": "code",
   "execution_count": 68,
   "metadata": {
    "colab": {
     "base_uri": "https://localhost:8080/",
     "height": 34
    },
    "colab_type": "code",
    "id": "5wze9-CpWOWh",
    "outputId": "7764e35e-7607-46c8-f242-dd031f07c336"
   },
   "outputs": [
    {
     "data": {
      "text/plain": [
       "0.8342792281498297"
      ]
     },
     "execution_count": 68,
     "metadata": {},
     "output_type": "execute_result"
    }
   ],
   "source": [
    "# Let's see the sensitivity of our logistic regression model\n",
    "TP / float(TP+FN)"
   ]
  },
  {
   "cell_type": "code",
   "execution_count": 69,
   "metadata": {
    "colab": {
     "base_uri": "https://localhost:8080/",
     "height": 34
    },
    "colab_type": "code",
    "id": "hQnWyEOfWOWq",
    "outputId": "32f6ab29-e98e-428b-f2f2-c9f6a14ebf9a"
   },
   "outputs": [
    {
     "data": {
      "text/plain": [
       "0.844572896596018"
      ]
     },
     "execution_count": 69,
     "metadata": {},
     "output_type": "execute_result"
    }
   ],
   "source": [
    "# Let us calculate specificity\n",
    "TN / float(TN+FP)"
   ]
  },
  {
   "cell_type": "code",
   "execution_count": 70,
   "metadata": {
    "colab": {
     "base_uri": "https://localhost:8080/",
     "height": 34
    },
    "colab_type": "code",
    "id": "S76-GAEFWOW2",
    "outputId": "f913533c-2e00-4007-fd23-f315d9f0012c"
   },
   "outputs": [
    {
     "name": "stdout",
     "output_type": "stream",
     "text": [
      "0.15542710340398203\n"
     ]
    }
   ],
   "source": [
    "# Calculate false postive rate - predicting churn when customer does not have churned\n",
    "print(FP/ float(TN+FP))"
   ]
  },
  {
   "cell_type": "code",
   "execution_count": 71,
   "metadata": {
    "colab": {
     "base_uri": "https://localhost:8080/",
     "height": 34
    },
    "colab_type": "code",
    "id": "hBiIfXxAWOW-",
    "outputId": "bdb1ad9d-8f89-4bf6-a34a-997fd060c9eb"
   },
   "outputs": [
    {
     "name": "stdout",
     "output_type": "stream",
     "text": [
      "0.7523029682702149\n"
     ]
    }
   ],
   "source": [
    "# positive predictive value \n",
    "print (TP / float(TP+FP))"
   ]
  },
  {
   "cell_type": "code",
   "execution_count": 72,
   "metadata": {
    "colab": {
     "base_uri": "https://localhost:8080/",
     "height": 34
    },
    "colab_type": "code",
    "id": "vR-m5LRzWOXF",
    "outputId": "4e901523-bcd7-4f78-af95-c723c95e57ff"
   },
   "outputs": [
    {
     "name": "stdout",
     "output_type": "stream",
     "text": [
      "0.9000684462696783\n"
     ]
    }
   ],
   "source": [
    "# Negative predictive value\n",
    "print (TN / float(TN+ FN))"
   ]
  },
  {
   "cell_type": "code",
   "execution_count": 73,
   "metadata": {
    "colab": {
     "base_uri": "https://localhost:8080/",
     "height": 52
    },
    "colab_type": "code",
    "id": "F8P3e0L0EbTT",
    "outputId": "c22d64c7-74b7-4b00-ab2a-2e8d3b5e56a8"
   },
   "outputs": [
    {
     "name": "stdout",
     "output_type": "stream",
     "text": [
      "Precision Value:  0.7523029682702149\n",
      "Recall Value:  0.8342792281498297\n"
     ]
    }
   ],
   "source": [
    "print('Precision Value: ',precision_score(y_pred_final.Converted , y_pred_final.final_predicted))\n",
    "print('Recall Value: ',recall_score(y_pred_final.Converted, y_pred_final.final_predicted))"
   ]
  },
  {
   "cell_type": "code",
   "execution_count": 74,
   "metadata": {
    "colab": {
     "base_uri": "https://localhost:8080/",
     "height": 269
    },
    "colab_type": "code",
    "id": "hIR460zbEbTm",
    "outputId": "f421b16d-3876-42a3-85ee-4ccad935ceb8"
   },
   "outputs": [
    {
     "data": {
      "image/png": "[encoded data removed]",
      "text/plain": [
       "<Figure size 432x288 with 1 Axes>"
      ]
     },
     "metadata": {
      "needs_background": "light"
     },
     "output_type": "display_data"
    }
   ],
   "source": [
    "# Plotting Precession Recall curve\n",
    "p, r, thresholds = precision_recall_curve(y_pred_final.Converted, y_pred_final.Conv_prob)\n",
    "plt.plot(thresholds, p[:-1], \"g-\")\n",
    "plt.plot(thresholds, r[:-1], \"r-\")\n",
    "plt.show()"
   ]
  },
  {
   "cell_type": "markdown",
   "metadata": {
    "colab_type": "text",
    "id": "-ZjaweVQErha"
   },
   "source": [
    "### Comparing the metric values of both train and test datasets, the model is behaving very similar on both the datasets."
   ]
  },
  {
   "cell_type": "markdown",
   "metadata": {
    "colab_type": "text",
    "id": "J0YFdvpc7TKF"
   },
   "source": [
    "# 4. Finding the Lead score value for conversion rate of 80%"
   ]
  },
  {
   "cell_type": "code",
   "execution_count": 75,
   "metadata": {
    "colab": {
     "base_uri": "https://localhost:8080/",
     "height": 224
    },
    "colab_type": "code",
    "id": "cl5beV4SA4Bh",
    "outputId": "599a897d-06ca-4bf6-e175-5b45bb987c06"
   },
   "outputs": [
    {
     "name": "stdout",
     "output_type": "stream",
     "text": [
      "(2438, 4)\n"
     ]
    },
    {
     "data": {
      "text/html": [
       "<div>\n",
       "<style scoped>\n",
       "    .dataframe tbody tr th:only-of-type {\n",
       "        vertical-align: middle;\n",
       "    }\n",
       "\n",
       "    .dataframe tbody tr th {\n",
       "        vertical-align: top;\n",
       "    }\n",
       "\n",
       "    .dataframe thead th {\n",
       "        text-align: right;\n",
       "    }\n",
       "</style>\n",
       "<table border=\"1\" class=\"dataframe\">\n",
       "  <thead>\n",
       "    <tr style=\"text-align: right;\">\n",
       "      <th></th>\n",
       "      <th>Lead_number</th>\n",
       "      <th>Converted</th>\n",
       "      <th>Conv_prob</th>\n",
       "      <th>final_predicted</th>\n",
       "      <th>Lead_Score %ge</th>\n",
       "    </tr>\n",
       "  </thead>\n",
       "  <tbody>\n",
       "    <tr>\n",
       "      <th>0</th>\n",
       "      <td>3117</td>\n",
       "      <td>0</td>\n",
       "      <td>0.078521</td>\n",
       "      <td>0</td>\n",
       "      <td>8</td>\n",
       "    </tr>\n",
       "    <tr>\n",
       "      <th>1</th>\n",
       "      <td>5735</td>\n",
       "      <td>0</td>\n",
       "      <td>0.004405</td>\n",
       "      <td>0</td>\n",
       "      <td>0</td>\n",
       "    </tr>\n",
       "    <tr>\n",
       "      <th>2</th>\n",
       "      <td>3135</td>\n",
       "      <td>0</td>\n",
       "      <td>0.097972</td>\n",
       "      <td>0</td>\n",
       "      <td>10</td>\n",
       "    </tr>\n",
       "    <tr>\n",
       "      <th>3</th>\n",
       "      <td>1663</td>\n",
       "      <td>1</td>\n",
       "      <td>0.968896</td>\n",
       "      <td>1</td>\n",
       "      <td>97</td>\n",
       "    </tr>\n",
       "    <tr>\n",
       "      <th>4</th>\n",
       "      <td>3386</td>\n",
       "      <td>0</td>\n",
       "      <td>0.097619</td>\n",
       "      <td>0</td>\n",
       "      <td>10</td>\n",
       "    </tr>\n",
       "  </tbody>\n",
       "</table>\n",
       "</div>"
      ],
      "text/plain": [
       "   Lead_number  Converted  Conv_prob  final_predicted  Lead_Score %ge\n",
       "0         3117          0   0.078521                0               8\n",
       "1         5735          0   0.004405                0               0\n",
       "2         3135          0   0.097972                0              10\n",
       "3         1663          1   0.968896                1              97\n",
       "4         3386          0   0.097619                0              10"
      ]
     },
     "execution_count": 75,
     "metadata": {},
     "output_type": "execute_result"
    }
   ],
   "source": [
    "# Observing the output dataframe from test dataset\n",
    "print(y_pred_final.shape)\n",
    "y_pred_final['Lead_Score %ge'] = y_pred_final.Conv_prob.map( lambda x: round(x*100))\n",
    "y_pred_final.head()"
   ]
  },
  {
   "cell_type": "code",
   "execution_count": 76,
   "metadata": {
    "colab": {
     "base_uri": "https://localhost:8080/",
     "height": 161
    },
    "colab_type": "code",
    "id": "lbKg-x4q9ltD",
    "outputId": "86bf6da8-1210-46fd-dc71-4f184766d96b"
   },
   "outputs": [
    {
     "name": "stdout",
     "output_type": "stream",
     "text": [
      "(5686, 16)\n"
     ]
    },
    {
     "data": {
      "text/html": [
       "<div>\n",
       "<style scoped>\n",
       "    .dataframe tbody tr th:only-of-type {\n",
       "        vertical-align: middle;\n",
       "    }\n",
       "\n",
       "    .dataframe tbody tr th {\n",
       "        vertical-align: top;\n",
       "    }\n",
       "\n",
       "    .dataframe thead th {\n",
       "        text-align: right;\n",
       "    }\n",
       "</style>\n",
       "<table border=\"1\" class=\"dataframe\">\n",
       "  <thead>\n",
       "    <tr style=\"text-align: right;\">\n",
       "      <th></th>\n",
       "      <th>Converted</th>\n",
       "      <th>Conv_prob</th>\n",
       "      <th>Lead_number</th>\n",
       "      <th>predicted</th>\n",
       "      <th>0.0</th>\n",
       "      <th>0.1</th>\n",
       "      <th>0.2</th>\n",
       "      <th>0.3</th>\n",
       "      <th>0.4</th>\n",
       "      <th>0.5</th>\n",
       "      <th>0.6</th>\n",
       "      <th>0.7</th>\n",
       "      <th>0.8</th>\n",
       "      <th>0.9</th>\n",
       "      <th>final_predicted</th>\n",
       "      <th>Lead_Score %ge</th>\n",
       "    </tr>\n",
       "  </thead>\n",
       "  <tbody>\n",
       "    <tr>\n",
       "      <th>0</th>\n",
       "      <td>0</td>\n",
       "      <td>0.432561</td>\n",
       "      <td>3994</td>\n",
       "      <td>0</td>\n",
       "      <td>1</td>\n",
       "      <td>1</td>\n",
       "      <td>1</td>\n",
       "      <td>1</td>\n",
       "      <td>1</td>\n",
       "      <td>0</td>\n",
       "      <td>0</td>\n",
       "      <td>0</td>\n",
       "      <td>0</td>\n",
       "      <td>0</td>\n",
       "      <td>1</td>\n",
       "      <td>43</td>\n",
       "    </tr>\n",
       "    <tr>\n",
       "      <th>1</th>\n",
       "      <td>0</td>\n",
       "      <td>0.098457</td>\n",
       "      <td>897</td>\n",
       "      <td>0</td>\n",
       "      <td>1</td>\n",
       "      <td>0</td>\n",
       "      <td>0</td>\n",
       "      <td>0</td>\n",
       "      <td>0</td>\n",
       "      <td>0</td>\n",
       "      <td>0</td>\n",
       "      <td>0</td>\n",
       "      <td>0</td>\n",
       "      <td>0</td>\n",
       "      <td>0</td>\n",
       "      <td>10</td>\n",
       "    </tr>\n",
       "    <tr>\n",
       "      <th>2</th>\n",
       "      <td>1</td>\n",
       "      <td>0.820911</td>\n",
       "      <td>4030</td>\n",
       "      <td>1</td>\n",
       "      <td>1</td>\n",
       "      <td>1</td>\n",
       "      <td>1</td>\n",
       "      <td>1</td>\n",
       "      <td>1</td>\n",
       "      <td>1</td>\n",
       "      <td>1</td>\n",
       "      <td>1</td>\n",
       "      <td>1</td>\n",
       "      <td>0</td>\n",
       "      <td>1</td>\n",
       "      <td>82</td>\n",
       "    </tr>\n",
       "  </tbody>\n",
       "</table>\n",
       "</div>"
      ],
      "text/plain": [
       "   Converted  Conv_prob  Lead_number  predicted  0.0  0.1  0.2  0.3  0.4  0.5  \\\n",
       "0          0   0.432561         3994          0    1    1    1    1    1    0   \n",
       "1          0   0.098457          897          0    1    0    0    0    0    0   \n",
       "2          1   0.820911         4030          1    1    1    1    1    1    1   \n",
       "\n",
       "   0.6  0.7  0.8  0.9  final_predicted  Lead_Score %ge  \n",
       "0    0    0    0    0                1              43  \n",
       "1    0    0    0    0                0              10  \n",
       "2    1    1    1    0                1              82  "
      ]
     },
     "execution_count": 76,
     "metadata": {},
     "output_type": "execute_result"
    }
   ],
   "source": [
    "# Observing the output from the train dataset\n",
    "print(y_train_pred_final.shape)\n",
    "y_train_pred_final.head(3)\n"
   ]
  },
  {
   "cell_type": "code",
   "execution_count": 77,
   "metadata": {
    "colab": {
     "base_uri": "https://localhost:8080/",
     "height": 161
    },
    "colab_type": "code",
    "id": "zvTSH7ai9twY",
    "outputId": "32d8db24-21eb-4549-ac2c-1baf4ed7b7f2"
   },
   "outputs": [
    {
     "name": "stdout",
     "output_type": "stream",
     "text": [
      "(8124, 5)\n"
     ]
    },
    {
     "data": {
      "text/html": [
       "<div>\n",
       "<style scoped>\n",
       "    .dataframe tbody tr th:only-of-type {\n",
       "        vertical-align: middle;\n",
       "    }\n",
       "\n",
       "    .dataframe tbody tr th {\n",
       "        vertical-align: top;\n",
       "    }\n",
       "\n",
       "    .dataframe thead th {\n",
       "        text-align: right;\n",
       "    }\n",
       "</style>\n",
       "<table border=\"1\" class=\"dataframe\">\n",
       "  <thead>\n",
       "    <tr style=\"text-align: right;\">\n",
       "      <th></th>\n",
       "      <th>Lead_number</th>\n",
       "      <th>Converted</th>\n",
       "      <th>Conv_prob</th>\n",
       "      <th>final_predicted</th>\n",
       "      <th>Lead_Score %ge</th>\n",
       "    </tr>\n",
       "  </thead>\n",
       "  <tbody>\n",
       "    <tr>\n",
       "      <th>0</th>\n",
       "      <td>3117</td>\n",
       "      <td>0</td>\n",
       "      <td>0.078521</td>\n",
       "      <td>0</td>\n",
       "      <td>8</td>\n",
       "    </tr>\n",
       "    <tr>\n",
       "      <th>1</th>\n",
       "      <td>5735</td>\n",
       "      <td>0</td>\n",
       "      <td>0.004405</td>\n",
       "      <td>0</td>\n",
       "      <td>0</td>\n",
       "    </tr>\n",
       "    <tr>\n",
       "      <th>2</th>\n",
       "      <td>3135</td>\n",
       "      <td>0</td>\n",
       "      <td>0.097972</td>\n",
       "      <td>0</td>\n",
       "      <td>10</td>\n",
       "    </tr>\n",
       "  </tbody>\n",
       "</table>\n",
       "</div>"
      ],
      "text/plain": [
       "   Lead_number  Converted  Conv_prob  final_predicted  Lead_Score %ge\n",
       "0         3117          0   0.078521                0               8\n",
       "1         5735          0   0.004405                0               0\n",
       "2         3135          0   0.097972                0              10"
      ]
     },
     "execution_count": 77,
     "metadata": {},
     "output_type": "execute_result"
    }
   ],
   "source": [
    "# Combining both the datasets\n",
    "y_total = pd.concat([y_pred_final, y_train_pred_final], join = 'inner', axis = 0, ignore_index=True)\n",
    "print(y_total.shape)\n",
    "y_total.head(3)"
   ]
  },
  {
   "cell_type": "code",
   "execution_count": 78,
   "metadata": {
    "colab": {
     "base_uri": "https://localhost:8080/",
     "height": 363
    },
    "colab_type": "code",
    "id": "8QOvGrMnCEr7",
    "outputId": "5e73cd9b-d63e-48dd-a91e-6f2e5ed0b742"
   },
   "outputs": [
    {
     "data": {
      "text/html": [
       "<div>\n",
       "<style scoped>\n",
       "    .dataframe tbody tr th:only-of-type {\n",
       "        vertical-align: middle;\n",
       "    }\n",
       "\n",
       "    .dataframe tbody tr th {\n",
       "        vertical-align: top;\n",
       "    }\n",
       "\n",
       "    .dataframe thead th {\n",
       "        text-align: right;\n",
       "    }\n",
       "</style>\n",
       "<table border=\"1\" class=\"dataframe\">\n",
       "  <thead>\n",
       "    <tr style=\"text-align: right;\">\n",
       "      <th></th>\n",
       "      <th>Lead_number</th>\n",
       "      <th>Converted</th>\n",
       "      <th>Conv_prob</th>\n",
       "      <th>final_predicted</th>\n",
       "      <th>Lead_Score %ge</th>\n",
       "    </tr>\n",
       "  </thead>\n",
       "  <tbody>\n",
       "    <tr>\n",
       "      <th>7993</th>\n",
       "      <td>3248</td>\n",
       "      <td>1</td>\n",
       "      <td>0.996770</td>\n",
       "      <td>1</td>\n",
       "      <td>100</td>\n",
       "    </tr>\n",
       "    <tr>\n",
       "      <th>3949</th>\n",
       "      <td>5337</td>\n",
       "      <td>0</td>\n",
       "      <td>0.996246</td>\n",
       "      <td>1</td>\n",
       "      <td>100</td>\n",
       "    </tr>\n",
       "    <tr>\n",
       "      <th>6202</th>\n",
       "      <td>7470</td>\n",
       "      <td>1</td>\n",
       "      <td>0.995888</td>\n",
       "      <td>1</td>\n",
       "      <td>100</td>\n",
       "    </tr>\n",
       "  </tbody>\n",
       "</table>\n",
       "</div>"
      ],
      "text/plain": [
       "      Lead_number  Converted  Conv_prob  final_predicted  Lead_Score %ge\n",
       "7993         3248          1   0.996770                1             100\n",
       "3949         5337          0   0.996246                1             100\n",
       "6202         7470          1   0.995888                1             100"
      ]
     },
     "execution_count": 78,
     "metadata": {},
     "output_type": "execute_result"
    }
   ],
   "source": [
    "# Sorting the dataframe in decresing order of Lead score\n",
    "y_total = y_total.sort_values(by ='Lead_Score %ge', ascending=False)\n",
    "y_total.head(3)"
   ]
  },
  {
   "cell_type": "code",
   "execution_count": 80,
   "metadata": {
    "colab": {
     "base_uri": "https://localhost:8080/",
     "height": 34
    },
    "colab_type": "code",
    "id": "cnIP1fx3FqQ3",
    "outputId": "956d4df0-3eb2-44d7-b7ed-e7ba6dcee48a"
   },
   "outputs": [
    {
     "name": "stdout",
     "output_type": "stream",
     "text": [
      "Conversion Probability:  80.07 %\n"
     ]
    }
   ],
   "source": [
    "# Slicing the dataframe at leadscore= 42\n",
    "df_check = y_total[y_total['Lead_Score %ge']>42]\n",
    "print('Conversion Probability: ',round((df_check['Converted'].sum())*100/len(df_check['Converted']),2), '%')"
   ]
  },
  {
   "cell_type": "markdown",
   "metadata": {},
   "source": [
    "#### By changing the Leadscore 42 in the above cell we can get the probability of conversion"
   ]
  },
  {
   "cell_type": "markdown",
   "metadata": {
    "colab_type": "text",
    "id": "vkYcRVfHKQrw"
   },
   "source": [
    "# 5. Conclusion\n",
    "\n",
    "1. The model behaves very similar on train and test dataset. Comparing the metrics.\n",
    "2. As per this model, the marketing people have to select leads with a score above 42% to get a conversion rate of 80%"
   ]
  },
  {
   "cell_type": "markdown",
   "metadata": {
    "colab_type": "text",
    "id": "gXAOhIS4LrGE"
   },
   "source": [
    "# END OF NOTEBOOK"
   ]
  }
 ],
 "metadata": {
  "colab": {
   "collapsed_sections": [
    "Lylpo__ElWtm",
    "Qnj8jZkalLjF",
    "JOqyHiKTlgVh",
    "6jlCdaffp_eu",
    "9luFGhagvpVM",
    "bBdYQ6vPrpLq",
    "Mhu7aeGtvLPO",
    "BJKnrQUk6ypk",
    "AHvoo1aZ0MkB",
    "7tjnBGSxQYJ5",
    "2EFsrapz3S0S",
    "fujwJrzkUeUP",
    "J0YFdvpc7TKF"
   ],
   "name": "Leads_Scoring_Assignment.ipynb",
   "provenance": []
  },
  "kernelspec": {
   "display_name": "Python 3",
   "language": "python",
   "name": "python3"
  },
  "language_info": {
   "codemirror_mode": {
    "name": "ipython",
    "version": 3
   },
   "file_extension": ".py",
   "mimetype": "text/x-python",
   "name": "python",
   "nbconvert_exporter": "python",
   "pygments_lexer": "ipython3",
   "version": "3.7.3"
  }
 },
 "nbformat": 4,
 "nbformat_minor": 1
}